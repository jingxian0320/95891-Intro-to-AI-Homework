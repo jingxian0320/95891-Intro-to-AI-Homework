{
 "cells": [
  {
   "cell_type": "markdown",
   "metadata": {},
   "source": [
    "### 1. What is the accuracy of your model on the test data?\n",
    "\n",
    "On testing data, the accuracy of my model is 88.5%. \n",
    "\n",
    "### 2. Provide a confusion matrix between the groundtruth and predicted labels in the test dataset. The rows should correspond to the groundtruth categories and the columns to predicted categories. The confusion matrix here should have raw datapoint counts and should not be normalized as percentages.\n",
    "\n",
    "\\begin{bmatrix}323.&0.&3.&4.&0.&0.&3.&2.&1.&5\\\\0.&380.&0.&0.&1.&1.&1.&6.&2.&1.\\\\5.&0.&321.&8.&6.&0.&5.&6.&5.&5.\\\\17.&0.&9.&290.&4.&0.&4.&3.&4.&8.\\\\3.&0.&5.&1.&286.&0.&5.&26.&11.&8.\\\\1.&1.&1.&0.&0.&329.&1.&2.&1.&1.\\\\3.&0.&2.&5.&17.&4.&247.&16.&4.&11.\\\\0.&0.&6.&1.&25.&2.&7.&260.&12.&3.\\\\5.&4.&2.&5.&28.&1.&4.&13.&267.&3.\\\\2.&1.&1.&1.&0.&2.&1.&0.&3.&234.\\end{bmatrix}\n",
    "\n",
    "### 3. Now normalize the raw confusion matrix reported in the previous question by dividing each row by the sum of all its elements. Include this normalized confusion matrix in your report.\n",
    "\n",
    "\\begin{bmatrix}0.94721408&0.&0.00879765&0.01173021&0.&0.&0.00879765&0.0058651&0.00293255&0.01466276\\\\0.&0.96938776&0.&0.&0.00255102&0.00255102&0.00255102&0.01530612&0.00510204&0.00255102\\\\0.01385042&0.&0.88919668&0.02216066&0.0166205&0.&0.01385042&0.0166205&0.01385042&0.01385042\\\\0.05014749&0.&0.02654867&0.85545723&0.01179941&0.&0.01179941&0.00884956&0.01179941&0.02359882\\\\0.00869565&0.&0.01449275&0.00289855&0.82898551&0.&0.01449275&0.07536232&0.03188406&0.02318841\\\\0.00296736&0.00296736&0.00296736&0.&0.&0.97626113&0.00296736&0.00593472&0.00296736&0.00296736\\\\0.00970874&0.&0.00647249&0.01618123&0.05501618&0.01294498&0.79935275&0.05177994&0.01294498&0.03559871\\\\0.&0.&0.01898734&0.00316456&0.07911392&0.00632911&0.0221519&0.82278481&0.03797468&0.00949367\\\\0.01506024&0.01204819&0.0060241&0.01506024&0.08433735&0.00301205&0.01204819&0.03915663&0.80421687&0.00903614\\\\0.00816327&0.00408163&0.00408163&0.00408163&0.&0.00816327&0.00408163&0.&0.0122449&0.95510204\\end{bmatrix}\n",
    "\n",
    "### 4. Which is the category that is most accurately predicted? Hint: Interpret the normalized confusion matrix.\n",
    "\n",
    "Comparing the diagonal entries of the normalized confusion matrix, the value is largest when class = 5 (Itsukushima Shrine, Japan) with accuracy = 0.976. \n",
    "\n",
    "### 5. Which is the category that is least accurately predicted? Which other category is this least accurately predicted category most confused with in your predictions? Hint: Interpret the normalized confusion matrix.\n",
    "\n",
    "Comparing the diagonal entries of the normalized confusion matrix, the value is smalles when class = 6 (Shanghai, China) with accuracy = 0.799. Among the pictures coming from class 6, 5.5% are predicted as class class 4 (Montreal, Canada) instead. \n",
    "\n",
    "### 6. For each category, calculate the precision and recall from the raw confusion matrix. Plot a grouped bar chart showing the precision and recall grouped by landmark category.\n",
    "\n",
    "Precision for each class is: [0.89972145 0.98445596 0.91714286 0.92063492 0.77929155 0.97050147 0.88848921 0.77844311 0.86129032 0.83870968]\n",
    "\n",
    "Recall for each class is: [0.94721408 0.96938776 0.88919668 0.85545723 0.82898551 0.97626113 0.79935275 0.82278481 0.80421687 0.95510204]"
   ]
  },
  {
   "cell_type": "code",
   "execution_count": 3,
   "metadata": {},
   "outputs": [
    {
     "data": {
      "text/plain": [
       "<matplotlib.axes._subplots.AxesSubplot at 0x1c2287ff90>"
      ]
     },
     "execution_count": 3,
     "metadata": {},
     "output_type": "execute_result"
    },
    {
     "data": {
      "image/png": "[encoded data removed]",
      "text/plain": [
       "<Figure size 432x288 with 1 Axes>"
      ]
     },
     "metadata": {
      "needs_background": "light"
     },
     "output_type": "display_data"
    }
   ],
   "source": [
    "LANDMARK_DICT = {0:\"St. Stephan's Cathedral, Austria\",\n",
    "             1:\"Teide, Spain\",\n",
    "             2:\"Tallinn, Estonia\",\n",
    "             3:\"Brugge, Belgium\",\n",
    "             4:\"Montreal, Canada\",\n",
    "             5:\"Itsukushima Shrine, Japan\",\n",
    "             6:\"Shanghai, China\",\n",
    "             7:\"Brisbane, Australia\",\n",
    "             8:\"Edinburgh, Scotland\",\n",
    "             9:\"Stockholm, Sweden\"}\n",
    "\n",
    "\n",
    "df = pd.DataFrame()\n",
    "df['precision'] = [0.89972145,0.98445596,0.91714286,0.92063492,0.77929155,0.97050147,0.88848921,0.77844311,0.86129032,0.83870968]\n",
    "df['recall'] = [0.94721408,0.96938776,0.88919668,0.85545723,0.82898551,0.97626113,0.79935275,0.82278481,0.80421687,0.95510204]\n",
    "df.index = LANDMARK_DICT.values()\n",
    "\n",
    "df.plot(kind='bar')"
   ]
  },
  {
   "cell_type": "code",
   "execution_count": 2,
   "metadata": {},
   "outputs": [],
   "source": [
    "from __future__ import print_function, division\n",
    "import os\n",
    "import torch\n",
    "import torch.nn as nn\n",
    "import torch.optim as optim\n",
    "from torch.optim import lr_scheduler\n",
    "import pandas as pd\n",
    "from skimage import io, transform\n",
    "import numpy as np\n",
    "import matplotlib.pyplot as plt\n",
    "from torch.utils.data import Dataset, DataLoader\n",
    "import torchvision\n",
    "from torchvision import datasets, models, transforms\n",
    "import time\n",
    "import copy\n",
    "# Ignore warnings\n",
    "import warnings\n",
    "warnings.filterwarnings(\"ignore\")\n",
    "\n",
    "plt.ion()   # interactive mode\n"
   ]
  },
  {
   "cell_type": "code",
   "execution_count": 4,
   "metadata": {},
   "outputs": [
    {
     "data": {
      "text/html": [
       "<div>\n",
       "<style scoped>\n",
       "    .dataframe tbody tr th:only-of-type {\n",
       "        vertical-align: middle;\n",
       "    }\n",
       "\n",
       "    .dataframe tbody tr th {\n",
       "        vertical-align: top;\n",
       "    }\n",
       "\n",
       "    .dataframe thead th {\n",
       "        text-align: right;\n",
       "    }\n",
       "</style>\n",
       "<table border=\"1\" class=\"dataframe\">\n",
       "  <thead>\n",
       "    <tr style=\"text-align: right;\">\n",
       "      <th></th>\n",
       "      <th>id</th>\n",
       "      <th>url</th>\n",
       "      <th>landmark_id</th>\n",
       "    </tr>\n",
       "  </thead>\n",
       "  <tbody>\n",
       "    <tr>\n",
       "      <td>0</td>\n",
       "      <td>6591289cabd732f4</td>\n",
       "      <td>https://lh5.googleusercontent.com/-HKHFxqtYvwI...</td>\n",
       "      <td>1</td>\n",
       "    </tr>\n",
       "    <tr>\n",
       "      <td>1</td>\n",
       "      <td>8f2b466365e50d6d</td>\n",
       "      <td>https://lh4.googleusercontent.com/-6rGTjHhEMi8...</td>\n",
       "      <td>8</td>\n",
       "    </tr>\n",
       "    <tr>\n",
       "      <td>2</td>\n",
       "      <td>2fe21b965b35da1c</td>\n",
       "      <td>https://lh4.googleusercontent.com/-gSeO2IssDuI...</td>\n",
       "      <td>5</td>\n",
       "    </tr>\n",
       "    <tr>\n",
       "      <td>3</td>\n",
       "      <td>45173683aa7d1ae6</td>\n",
       "      <td>http://lh4.ggpht.com/-S2etEHP1ATo/ThLefufLm0I/...</td>\n",
       "      <td>0</td>\n",
       "    </tr>\n",
       "    <tr>\n",
       "      <td>4</td>\n",
       "      <td>a0057b550dbea8e2</td>\n",
       "      <td>https://lh6.googleusercontent.com/-HUDp4PV4d9I...</td>\n",
       "      <td>8</td>\n",
       "    </tr>\n",
       "  </tbody>\n",
       "</table>\n",
       "</div>"
      ],
      "text/plain": [
       "                 id                                                url  \\\n",
       "0  6591289cabd732f4  https://lh5.googleusercontent.com/-HKHFxqtYvwI...   \n",
       "1  8f2b466365e50d6d  https://lh4.googleusercontent.com/-6rGTjHhEMi8...   \n",
       "2  2fe21b965b35da1c  https://lh4.googleusercontent.com/-gSeO2IssDuI...   \n",
       "3  45173683aa7d1ae6  http://lh4.ggpht.com/-S2etEHP1ATo/ThLefufLm0I/...   \n",
       "4  a0057b550dbea8e2  https://lh6.googleusercontent.com/-HUDp4PV4d9I...   \n",
       "\n",
       "   landmark_id  \n",
       "0            1  \n",
       "1            8  \n",
       "2            5  \n",
       "3            0  \n",
       "4            8  "
      ]
     },
     "execution_count": 4,
     "metadata": {},
     "output_type": "execute_result"
    }
   ],
   "source": [
    "training_frame = pd.read_csv('data/HW3_train.csv',header=None)\n",
    "training_frame.columns = [\"id\",\"url\",\"landmark_id\"]\n",
    "training_frame.head()"
   ]
  },
  {
   "cell_type": "code",
   "execution_count": 7,
   "metadata": {},
   "outputs": [],
   "source": []
  },
  {
   "cell_type": "code",
   "execution_count": 5,
   "metadata": {},
   "outputs": [
    {
     "data": {
      "text/html": [
       "<div>\n",
       "<style scoped>\n",
       "    .dataframe tbody tr th:only-of-type {\n",
       "        vertical-align: middle;\n",
       "    }\n",
       "\n",
       "    .dataframe tbody tr th {\n",
       "        vertical-align: top;\n",
       "    }\n",
       "\n",
       "    .dataframe thead th {\n",
       "        text-align: right;\n",
       "    }\n",
       "</style>\n",
       "<table border=\"1\" class=\"dataframe\">\n",
       "  <thead>\n",
       "    <tr style=\"text-align: right;\">\n",
       "      <th></th>\n",
       "      <th>id</th>\n",
       "      <th>landmark_id</th>\n",
       "    </tr>\n",
       "  </thead>\n",
       "  <tbody>\n",
       "    <tr>\n",
       "      <td>0</td>\n",
       "      <td>6591289cabd732f4.jpg</td>\n",
       "      <td>1</td>\n",
       "    </tr>\n",
       "    <tr>\n",
       "      <td>1</td>\n",
       "      <td>8f2b466365e50d6d.jpg</td>\n",
       "      <td>8</td>\n",
       "    </tr>\n",
       "    <tr>\n",
       "      <td>2</td>\n",
       "      <td>2fe21b965b35da1c.jpg</td>\n",
       "      <td>5</td>\n",
       "    </tr>\n",
       "    <tr>\n",
       "      <td>3</td>\n",
       "      <td>45173683aa7d1ae6.jpg</td>\n",
       "      <td>0</td>\n",
       "    </tr>\n",
       "    <tr>\n",
       "      <td>4</td>\n",
       "      <td>a0057b550dbea8e2.jpg</td>\n",
       "      <td>8</td>\n",
       "    </tr>\n",
       "  </tbody>\n",
       "</table>\n",
       "</div>"
      ],
      "text/plain": [
       "                     id  landmark_id\n",
       "0  6591289cabd732f4.jpg            1\n",
       "1  8f2b466365e50d6d.jpg            8\n",
       "2  2fe21b965b35da1c.jpg            5\n",
       "3  45173683aa7d1ae6.jpg            0\n",
       "4  a0057b550dbea8e2.jpg            8"
      ]
     },
     "execution_count": 5,
     "metadata": {},
     "output_type": "execute_result"
    }
   ],
   "source": [
    "training_frame.drop(\"url\",axis=1,inplace=True)\n",
    "training_frame[\"id\"] = training_frame[\"id\"]+\".jpg\"\n",
    "training_frame.head()"
   ]
  },
  {
   "cell_type": "code",
   "execution_count": 6,
   "metadata": {},
   "outputs": [
    {
     "name": "stdout",
     "output_type": "stream",
     "text": [
      "Image name: 6591289cabd732f4.jpg\n",
      "Landmark Id: 1\n"
     ]
    }
   ],
   "source": [
    "n = 0\n",
    "img_name = training_frame.iloc[n, 0]\n",
    "landmark_id = training_frame.iloc[n, 1]\n",
    "\n",
    "print('Image name: {}'.format(img_name))\n",
    "print('Landmark Id: {}'.format(landmark_id))"
   ]
  },
  {
   "cell_type": "code",
   "execution_count": 7,
   "metadata": {},
   "outputs": [],
   "source": [
    "# a helper function to read csv\n",
    "def read_frame(file_location):\n",
    "    df = pd.read_csv(file_location,header=None)\n",
    "    df.columns = [\"id\",\"url\",\"landmark_id\"]\n",
    "    df.drop(\"url\",axis=1,inplace=True)\n",
    "    df[\"id\"] = df[\"id\"]+\".jpg\"\n",
    "    return df"
   ]
  },
  {
   "cell_type": "code",
   "execution_count": 8,
   "metadata": {},
   "outputs": [],
   "source": [
    " class LandmarkDataset(Dataset):\n",
    "    \"\"\"Landmark dataset.\"\"\"\n",
    "\n",
    "    def __init__(self, csv_file, root_dir, transform=None):\n",
    "        \"\"\"\n",
    "        Args:\n",
    "            csv_file (string): Path to the csv file with annotations.\n",
    "            root_dir (string): Directory with all the images.\n",
    "            transform (callable, optional): Optional transform to be applied\n",
    "                on a sample.\n",
    "        \"\"\"\n",
    "        self.landmark_mapping = read_frame(csv_file)\n",
    "        self.root_dir = root_dir\n",
    "        self.transform = transform\n",
    "        self.classes = self.landmark_mapping[\"landmark_id\"].unique().tolist()\n",
    "\n",
    "    def __len__(self):\n",
    "        return len(self.landmark_mapping)\n",
    "\n",
    "    def __getitem__(self, idx):\n",
    "        if torch.is_tensor(idx):\n",
    "            idx = idx.tolist()\n",
    "\n",
    "        img_name = os.path.join(self.root_dir,\n",
    "                                self.landmark_mapping.iloc[idx, 0])\n",
    "        image = io.imread(img_name)\n",
    "        landmark_id = self.landmark_mapping.iloc[idx, 1]\n",
    "        if self.transform:\n",
    "            image = self.transform(image)\n",
    "        return (image,landmark_id)"
   ]
  },
  {
   "cell_type": "code",
   "execution_count": 9,
   "metadata": {},
   "outputs": [],
   "source": [
    "data_transforms = {\n",
    "    'train': transforms.Compose([\n",
    "        transforms.ToPILImage(),\n",
    "        transforms.RandomResizedCrop(224),\n",
    "        transforms.RandomHorizontalFlip(),\n",
    "        transforms.ToTensor(),\n",
    "        transforms.Normalize([0.485, 0.456, 0.406], [0.229, 0.224, 0.225])\n",
    "    ]),\n",
    "    'val': transforms.Compose([\n",
    "        transforms.ToPILImage(),\n",
    "        transforms.Resize(256),\n",
    "        transforms.CenterCrop(224),\n",
    "        transforms.ToTensor(),\n",
    "        transforms.Normalize([0.485, 0.456, 0.406], [0.229, 0.224, 0.225])\n",
    "    ]),\n",
    "}"
   ]
  },
  {
   "cell_type": "code",
   "execution_count": 10,
   "metadata": {},
   "outputs": [
    {
     "name": "stdout",
     "output_type": "stream",
     "text": [
      "{'train': 27000, 'val': 3317}\n",
      "cpu\n"
     ]
    }
   ],
   "source": [
    "IMAGE_PATH = \"data/images\"\n",
    "TRAIN_LABEL = \"data/HW3_train.csv\"\n",
    "VAL_LABEL = \"data/HW3_test.csv\"\n",
    "LABEL_DICT = {\"train\":TRAIN_LABEL,\"val\":VAL_LABEL}\n",
    "\n",
    "image_datasets = {x: LandmarkDataset(LABEL_DICT[x],IMAGE_PATH,data_transforms[x])\n",
    "                  for x in ['train', 'val']}\n",
    "dataloaders = {x: DataLoader(image_datasets[x], batch_size=4,\n",
    "                             shuffle=True, num_workers=16)\n",
    "              for x in ['train', 'val']}\n",
    "\n",
    "dataset_sizes = {x: len(image_datasets[x]) for x in ['train', 'val']}\n",
    "class_names = image_datasets['train'].classes\n",
    "\n",
    "device = torch.device(\"cuda:0\" if torch.cuda.is_available() else \"cpu\")\n",
    "print (dataset_sizes)\n",
    "print (device)"
   ]
  },
  {
   "cell_type": "code",
   "execution_count": 11,
   "metadata": {},
   "outputs": [
    {
     "data": {
      "image/png": "[encoded data removed]",
      "text/plain": [
       "<Figure size 432x288 with 1 Axes>"
      ]
     },
     "metadata": {
      "needs_background": "light"
     },
     "output_type": "display_data"
    }
   ],
   "source": [
    "def imshow(inp, title=None):\n",
    "    \"\"\"Imshow for Tensor.\"\"\"\n",
    "    inp = inp.numpy().transpose((1, 2, 0))\n",
    "    mean = np.array([0.485, 0.456, 0.406])\n",
    "    std = np.array([0.229, 0.224, 0.225])\n",
    "    inp = std * inp + mean\n",
    "    inp = np.clip(inp, 0, 1)\n",
    "    plt.imshow(inp)\n",
    "    if title is not None:\n",
    "        plt.title(title)\n",
    "    plt.pause(0.001)  # pause a bit so that plots are updated\n",
    "\n",
    "\n",
    "# Get a batch of training data\n",
    "inputs, classes = next(iter(dataloaders['train']))\n",
    "\n",
    "# Make a grid from batch\n",
    "out = torchvision.utils.make_grid(inputs)\n",
    "\n",
    "imshow(out, title=[(str(class_names[x])+\" :\"+LANDMARK_DICT[class_names[x]]) for x in classes])"
   ]
  },
  {
   "cell_type": "code",
   "execution_count": 11,
   "metadata": {},
   "outputs": [],
   "source": [
    "def train_model(model, criterion, optimizer, scheduler, num_epochs=25):\n",
    "    since = time.time()\n",
    "\n",
    "    best_model_wts = copy.deepcopy(model.state_dict())\n",
    "    best_acc = 0.0\n",
    "\n",
    "    for epoch in range(num_epochs):\n",
    "        print('Epoch {}/{}'.format(epoch, num_epochs - 1))\n",
    "        print('-' * 10)\n",
    "\n",
    "        # Each epoch has a training and validation phase\n",
    "        for phase in ['train', 'val']:\n",
    "            if phase == 'train':\n",
    "                model.train()  # Set model to training mode\n",
    "            else:\n",
    "                model.eval()   # Set model to evaluate mode\n",
    "\n",
    "            running_loss = 0.0\n",
    "            running_corrects = 0\n",
    "\n",
    "            # Iterate over data.\n",
    "            for inputs, labels in dataloaders[phase]:\n",
    "                inputs = inputs.to(device)\n",
    "                labels = labels.to(device)\n",
    "\n",
    "                # zero the parameter gradients\n",
    "                optimizer.zero_grad()\n",
    "\n",
    "                # forward\n",
    "                # track history if only in train\n",
    "                with torch.set_grad_enabled(phase == 'train'):\n",
    "                    outputs = model(inputs)\n",
    "                    _, preds = torch.max(outputs, 1)\n",
    "                    loss = criterion(outputs, labels)\n",
    "\n",
    "                    # backward + optimize only if in training phase\n",
    "                    if phase == 'train':\n",
    "                        loss.backward()\n",
    "                        optimizer.step()\n",
    "\n",
    "                # statistics\n",
    "                running_loss += loss.item() * inputs.size(0)\n",
    "                running_corrects += torch.sum(preds == labels.data)\n",
    "            if phase == 'train':\n",
    "                scheduler.step()\n",
    "\n",
    "            epoch_loss = running_loss / dataset_sizes[phase]\n",
    "            epoch_acc = running_corrects.double() / dataset_sizes[phase]\n",
    "\n",
    "            print('{} Loss: {:.4f} Acc: {:.4f}'.format(\n",
    "                phase, epoch_loss, epoch_acc))\n",
    "\n",
    "            # deep copy the model\n",
    "            if phase == 'val' and epoch_acc > best_acc:\n",
    "                best_acc = epoch_acc\n",
    "                best_model_wts = copy.deepcopy(model.state_dict())\n",
    "\n",
    "        print()\n",
    "\n",
    "    time_elapsed = time.time() - since\n",
    "    print('Training complete in {:.0f}m {:.0f}s'.format(\n",
    "        time_elapsed // 60, time_elapsed % 60))\n",
    "    print('Best val Acc: {:4f}'.format(best_acc))\n",
    "\n",
    "    # load best model weights\n",
    "    model.load_state_dict(best_model_wts)\n",
    "    return model"
   ]
  },
  {
   "cell_type": "code",
   "execution_count": 12,
   "metadata": {},
   "outputs": [],
   "source": [
    "def visualize_model(model, num_images=6):\n",
    "    was_training = model.training\n",
    "    model.eval()\n",
    "    images_so_far = 0\n",
    "    fig = plt.figure()\n",
    "\n",
    "    with torch.no_grad():\n",
    "        for i, (inputs, labels) in enumerate(dataloaders['val']):\n",
    "            inputs = inputs.to(device)\n",
    "            labels = labels.to(device)\n",
    "\n",
    "            outputs = model(inputs)\n",
    "            _, preds = torch.max(outputs, 1)\n",
    "\n",
    "            for j in range(inputs.size()[0]):\n",
    "                images_so_far += 1\n",
    "                ax = plt.subplot(num_images//2, 2, images_so_far)\n",
    "                ax.axis('off')\n",
    "                ax.set_title('predicted: {}'.format(class_names[preds[j]]))\n",
    "                imshow(inputs.cpu().data[j])\n",
    "\n",
    "                if images_so_far == num_images:\n",
    "                    model.train(mode=was_training)\n",
    "                    return\n",
    "        model.train(mode=was_training)"
   ]
  },
  {
   "cell_type": "code",
   "execution_count": 13,
   "metadata": {},
   "outputs": [],
   "source": [
    "model_conv = torchvision.models.resnet18(pretrained=True)\n",
    "# only update the parameters that we have just initialized for feature extract method\n",
    "for param in model_conv.parameters():\n",
    "    param.requires_grad = False\n",
    "\n",
    "# Parameters of newly constructed modules have requires_grad=True by default\n",
    "num_ftrs = model_conv.fc.in_features\n",
    "model_conv.fc = nn.Linear(num_ftrs, len(class_names))\n",
    "\n",
    "# Send the model to GPU/CPU\n",
    "model_conv = model_conv.to(device)\n",
    "\n",
    "criterion = nn.CrossEntropyLoss()\n",
    "\n",
    "# Observe that only parameters of final layer are being optimized as\n",
    "# opposed to before.\n",
    "optimizer_conv = optim.SGD(model_conv.fc.parameters(), lr=0.001, momentum=0.9)\n",
    "\n",
    "# Decay LR by a factor of 0.1 every 7 epochs\n",
    "exp_lr_scheduler = lr_scheduler.StepLR(optimizer_conv, step_size=7, gamma=0.1)"
   ]
  },
  {
   "cell_type": "code",
   "execution_count": 14,
   "metadata": {},
   "outputs": [
    {
     "name": "stdout",
     "output_type": "stream",
     "text": [
      "Epoch 0/24\n",
      "----------\n",
      "train Loss: 1.0717 Acc: 0.6562\n",
      "val Loss: 0.5591 Acc: 0.8227\n",
      "\n",
      "Epoch 1/24\n",
      "----------\n",
      "train Loss: 0.9637 Acc: 0.7002\n",
      "val Loss: 0.4026 Acc: 0.8725\n",
      "\n",
      "Epoch 2/24\n",
      "----------\n",
      "train Loss: 0.9194 Acc: 0.7129\n",
      "val Loss: 0.4749 Acc: 0.8523\n",
      "\n",
      "Epoch 3/24\n",
      "----------\n",
      "train Loss: 0.9217 Acc: 0.7130\n",
      "val Loss: 0.4824 Acc: 0.8496\n",
      "\n",
      "Epoch 4/24\n",
      "----------\n",
      "train Loss: 0.9360 Acc: 0.7079\n",
      "val Loss: 0.5031 Acc: 0.8408\n",
      "\n",
      "Epoch 5/24\n",
      "----------\n",
      "train Loss: 0.9255 Acc: 0.7134\n",
      "val Loss: 0.4659 Acc: 0.8577\n",
      "\n",
      "Epoch 6/24\n",
      "----------\n",
      "train Loss: 0.9211 Acc: 0.7153\n",
      "val Loss: 0.4416 Acc: 0.8658\n",
      "\n",
      "Epoch 7/24\n",
      "----------\n",
      "train Loss: 0.8047 Acc: 0.7428\n",
      "val Loss: 0.3956 Acc: 0.8710\n",
      "\n",
      "Epoch 8/24\n",
      "----------\n",
      "train Loss: 0.7911 Acc: 0.7517\n",
      "val Loss: 0.3798 Acc: 0.8758\n",
      "\n",
      "Epoch 9/24\n",
      "----------\n",
      "train Loss: 0.7914 Acc: 0.7465\n",
      "val Loss: 0.4015 Acc: 0.8728\n",
      "\n",
      "Epoch 10/24\n",
      "----------\n",
      "train Loss: 0.7813 Acc: 0.7508\n",
      "val Loss: 0.3988 Acc: 0.8701\n",
      "\n",
      "Epoch 11/24\n",
      "----------\n",
      "train Loss: 0.7822 Acc: 0.7476\n",
      "val Loss: 0.3854 Acc: 0.8773\n",
      "\n",
      "Epoch 12/24\n",
      "----------\n",
      "train Loss: 0.7759 Acc: 0.7537\n",
      "val Loss: 0.3931 Acc: 0.8764\n",
      "\n",
      "Epoch 13/24\n",
      "----------\n",
      "train Loss: 0.7762 Acc: 0.7527\n",
      "val Loss: 0.3573 Acc: 0.8827\n",
      "\n",
      "Epoch 14/24\n",
      "----------\n",
      "train Loss: 0.7740 Acc: 0.7540\n",
      "val Loss: 0.3817 Acc: 0.8782\n",
      "\n",
      "Epoch 15/24\n",
      "----------\n",
      "train Loss: 0.7702 Acc: 0.7527\n",
      "val Loss: 0.3812 Acc: 0.8767\n",
      "\n",
      "Epoch 16/24\n",
      "----------\n",
      "train Loss: 0.7581 Acc: 0.7576\n",
      "val Loss: 0.4071 Acc: 0.8649\n",
      "\n",
      "Epoch 17/24\n",
      "----------\n",
      "train Loss: 0.7583 Acc: 0.7583\n",
      "val Loss: 0.3843 Acc: 0.8788\n",
      "\n",
      "Epoch 18/24\n",
      "----------\n",
      "train Loss: 0.7732 Acc: 0.7537\n",
      "val Loss: 0.3559 Acc: 0.8854\n",
      "\n",
      "Epoch 19/24\n",
      "----------\n",
      "train Loss: 0.7767 Acc: 0.7511\n",
      "val Loss: 0.4088 Acc: 0.8689\n",
      "\n",
      "Epoch 20/24\n",
      "----------\n",
      "train Loss: 0.7716 Acc: 0.7545\n",
      "val Loss: 0.3787 Acc: 0.8764\n",
      "\n",
      "Epoch 21/24\n",
      "----------\n",
      "train Loss: 0.7606 Acc: 0.7591\n",
      "val Loss: 0.3656 Acc: 0.8794\n",
      "\n",
      "Epoch 22/24\n",
      "----------\n",
      "train Loss: 0.7648 Acc: 0.7537\n",
      "val Loss: 0.3732 Acc: 0.8776\n",
      "\n",
      "Epoch 23/24\n",
      "----------\n",
      "train Loss: 0.7677 Acc: 0.7533\n",
      "val Loss: 0.3870 Acc: 0.8782\n",
      "\n",
      "Epoch 24/24\n",
      "----------\n",
      "train Loss: 0.7527 Acc: 0.7597\n",
      "val Loss: 0.3791 Acc: 0.8767\n",
      "\n",
      "Training complete in 914m 51s\n",
      "Best val Acc: 0.885439\n"
     ]
    }
   ],
   "source": [
    "model_conv = train_model(model_conv, criterion, optimizer_conv,\n",
    "                         exp_lr_scheduler, num_epochs=25)"
   ]
  },
  {
   "cell_type": "code",
   "execution_count": 17,
   "metadata": {
    "scrolled": true
   },
   "outputs": [],
   "source": [
    "torch.save(model_conv, \"model.pt\")"
   ]
  },
  {
   "cell_type": "code",
   "execution_count": 4,
   "metadata": {},
   "outputs": [],
   "source": [
    "model_conv = torch.load(\"model.pt\")"
   ]
  },
  {
   "cell_type": "code",
   "execution_count": 40,
   "metadata": {},
   "outputs": [
    {
     "name": "stdout",
     "output_type": "stream",
     "text": [
      "[[323.   0.   3.   4.   0.   0.   3.   2.   1.   5.]\n",
      " [  0. 380.   0.   0.   1.   1.   1.   6.   2.   1.]\n",
      " [  5.   0. 321.   8.   6.   0.   5.   6.   5.   5.]\n",
      " [ 17.   0.   9. 290.   4.   0.   4.   3.   4.   8.]\n",
      " [  3.   0.   5.   1. 286.   0.   5.  26.  11.   8.]\n",
      " [  1.   1.   1.   0.   0. 329.   1.   2.   1.   1.]\n",
      " [  3.   0.   2.   5.  17.   4. 247.  16.   4.  11.]\n",
      " [  0.   0.   6.   1.  25.   2.   7. 260.  12.   3.]\n",
      " [  5.   4.   2.   5.  28.   1.   4.  13. 267.   3.]\n",
      " [  2.   1.   1.   1.   0.   2.   1.   0.   3. 234.]]\n"
     ]
    }
   ],
   "source": [
    "def update_confusion_matrix(preds, labels, conf_matrix):\n",
    "    preds = torch.max(preds, 1)[1]\n",
    "    for t, p in zip(labels, preds):\n",
    "        conf_matrix[t][p] += 1\n",
    "    return conf_matrix\n",
    "    \n",
    "n = len(class_names)\n",
    "conf_matrix = np.zeros((n,n))\n",
    "for inputs, labels in dataloaders[\"val\"]:\n",
    "    inputs = inputs.to(device)\n",
    "    labels = labels.to(device)\n",
    "    outputs = model_conv(inputs)\n",
    "    conf_matrix = update_confusion_matrix(outputs, labels, conf_matrix)\n",
    "print (conf_matrix)\n"
   ]
  },
  {
   "cell_type": "code",
   "execution_count": 62,
   "metadata": {},
   "outputs": [
    {
     "name": "stdout",
     "output_type": "stream",
     "text": [
      "[[0.94721408 0.         0.00879765 0.01173021 0.         0.\n",
      "  0.00879765 0.0058651  0.00293255 0.01466276]\n",
      " [0.         0.96938776 0.         0.         0.00255102 0.00255102\n",
      "  0.00255102 0.01530612 0.00510204 0.00255102]\n",
      " [0.01385042 0.         0.88919668 0.02216066 0.0166205  0.\n",
      "  0.01385042 0.0166205  0.01385042 0.01385042]\n",
      " [0.05014749 0.         0.02654867 0.85545723 0.01179941 0.\n",
      "  0.01179941 0.00884956 0.01179941 0.02359882]\n",
      " [0.00869565 0.         0.01449275 0.00289855 0.82898551 0.\n",
      "  0.01449275 0.07536232 0.03188406 0.02318841]\n",
      " [0.00296736 0.00296736 0.00296736 0.         0.         0.97626113\n",
      "  0.00296736 0.00593472 0.00296736 0.00296736]\n",
      " [0.00970874 0.         0.00647249 0.01618123 0.05501618 0.01294498\n",
      "  0.79935275 0.05177994 0.01294498 0.03559871]\n",
      " [0.         0.         0.01898734 0.00316456 0.07911392 0.00632911\n",
      "  0.0221519  0.82278481 0.03797468 0.00949367]\n",
      " [0.01506024 0.01204819 0.0060241  0.01506024 0.08433735 0.00301205\n",
      "  0.01204819 0.03915663 0.80421687 0.00903614]\n",
      " [0.00816327 0.00408163 0.00408163 0.00408163 0.         0.00816327\n",
      "  0.00408163 0.         0.0122449  0.95510204]]\n"
     ]
    }
   ],
   "source": [
    "print(conf_matrix/(conf_matrix.dot(np.ones((n,1)))))"
   ]
  },
  {
   "cell_type": "code",
   "execution_count": 65,
   "metadata": {},
   "outputs": [],
   "source": [
    "true_pos = np.diag(conf_matrix) \n",
    "precision = true_pos / np.sum(conf_matrix, axis=0)\n",
    "recall = true_pos / np.sum(conf_matrix, axis=1)"
   ]
  },
  {
   "cell_type": "code",
   "execution_count": 66,
   "metadata": {},
   "outputs": [
    {
     "name": "stdout",
     "output_type": "stream",
     "text": [
      "[0.89972145 0.98445596 0.91714286 0.92063492 0.77929155 0.97050147\n",
      " 0.88848921 0.77844311 0.86129032 0.83870968]\n"
     ]
    }
   ],
   "source": [
    "print (precision)"
   ]
  },
  {
   "cell_type": "code",
   "execution_count": 67,
   "metadata": {},
   "outputs": [
    {
     "name": "stdout",
     "output_type": "stream",
     "text": [
      "[0.94721408 0.96938776 0.88919668 0.85545723 0.82898551 0.97626113\n",
      " 0.79935275 0.82278481 0.80421687 0.95510204]\n"
     ]
    }
   ],
   "source": [
    "print (recall)"
   ]
  },
  {
   "cell_type": "code",
   "execution_count": 69,
   "metadata": {},
   "outputs": [
    {
     "data": {
      "text/plain": [
       "<matplotlib.axes._subplots.AxesSubplot at 0x1c2de9b0b8>"
      ]
     },
     "execution_count": 69,
     "metadata": {},
     "output_type": "execute_result"
    },
    {
     "data": {
      "image/png": "[encoded data removed]",
      "text/plain": [
       "<Figure size 432x288 with 1 Axes>"
      ]
     },
     "metadata": {},
     "output_type": "display_data"
    }
   ],
   "source": [
    "import seaborn as sns\n",
    "sns.set(style=\"whitegrid\")\n",
    "\n",
    "df = pd.DataFrame()\n",
    "df['precision'] = precision\n",
    "df['recall'] = recall\n",
    "df.index = LANDMARK_DICT.values()\n",
    "\n",
    "df.plot(kind='bar')"
   ]
  },
  {
   "cell_type": "code",
   "execution_count": null,
   "metadata": {},
   "outputs": [],
   "source": []
  }
 ],
 "metadata": {
  "kernelspec": {
   "display_name": "Python 3",
   "language": "python",
   "name": "python3"
  },
  "language_info": {
   "codemirror_mode": {
    "name": "ipython",
    "version": 3
   },
   "file_extension": ".py",
   "mimetype": "text/x-python",
   "name": "python",
   "nbconvert_exporter": "python",
   "pygments_lexer": "ipython3",
   "version": "3.7.4"
  }
 },
 "nbformat": 4,
 "nbformat_minor": 2
}
