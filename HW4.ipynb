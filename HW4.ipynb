{
  "nbformat": 4,
  "nbformat_minor": 0,
  "metadata": {
    "kernelspec": {
      "name": "python3",
      "display_name": "Python 3"
    },
    "language_info": {
      "codemirror_mode": {
        "name": "ipython",
        "version": 3
      },
      "file_extension": ".py",
      "mimetype": "text/x-python",
      "name": "python",
      "nbconvert_exporter": "python",
      "pygments_lexer": "ipython3",
      "version": "3.7.3"
    },
    "colab": {
      "name": "Intro_to_AI_HW4_jingxiab.ipynb",
      "provenance": [],
      "collapsed_sections": [],
      "machine_shape": "hm"
    },
    "accelerator": "GPU"
  },
  "cells": [
    {
      "cell_type": "markdown",
      "metadata": {
        "id": "A9odj6w3HQm1",
        "colab_type": "text"
      },
      "source": [
        "# Intro To AI HW4"
      ]
    },
    {
      "cell_type": "markdown",
      "metadata": {
        "id": "kfX23s96f8YJ",
        "colab_type": "text"
      },
      "source": [
        "**1. (1 point) Data ETL**\n",
        "\n",
        "(see below)\n",
        "\n",
        "**2. (2 points) Begin by converting the utterances into a sparse bag-of-words (BOW) representation.**\n",
        "\n",
        "(see below)\n",
        "\n",
        "**3. (1 point) What do you think might be a shortcoming of the previous representation of utterance features?**\n",
        "\n",
        "One shortcoming of the previous representation is that there are too many words which are not nescessary for the model, such as \"to\", \"comma\", and \"a\". These stop words are removed using the nltk package. \n",
        "\n",
        "**4. (2 points) Normalization**\n",
        "\n",
        "(see below)\n",
        "\n",
        "**5. (2.5 points) Build a SGD classifier for the utterance sentiment classification and perform error analysis on the train data. The error analysis must include the test accuracy, confusion matrix and a few misclassified examples and your thoughts on why those utterances were misclassified by the example.**\n",
        "\n",
        "A SGD classifier was built reaching an accuracy rate of 63.3% on testing data. \n",
        "\n",
        "Accuracy Score: 63.3%\n",
        "\n",
        "F1 Score:\n",
        "[0.62418726 0.5852187  0.62857143 0.69936709]\n",
        "\n",
        "Avg F1 Score: 63.4%\n",
        "\n",
        "Confusion Matrix: \n",
        "$$  \\left(\\begin{matrix}240&41&47&46\\\\63&194&59&38\\\\59&48&220&29\\\\33&26&18&221\\end{matrix}\\right) $$\n",
        " \n",
        "Normalized Confusion Matrix: \n",
        "$$  \\left(\\begin{matrix}0.64171123&0.10962567&0.12566845&0.12299465\\\\0.1779661&0.5480226&0.16666667&0.10734463\\\\0.16573034&0.13483146&0.61797753&0.08146067\\\\0.11073826&0.08724832&0.06040268&0.74161074\\end{matrix}\\right) $$\n",
        "\n",
        "By analyzing the misclassified examples, some words in the testing dataset are not present in the training set. Therefore, it is hard for the model to predict their categories. Moreover, category 'jealous' has the lowest accuracy rate as it is harder for even human to differentiate them among their emotions. \n",
        "\n",
        "**6. (2.5 points) Read the paper at https://arxiv.org/pdf/1811.00207.pdf and answer the following questions:**\n",
        "\n",
        "**1) (0.5 points) What does this paper mean by \"fine-tuning\" results? How might you use such fine-tuning in building an empathetic chatbot?**\n",
        "\n",
        "Fine tuning is a process to take a network model that has already been trained for a given task, and make it perform a second similar task. \n",
        "\n",
        "In the context of this paper, models are pretrained on predicting replies based on Reddit conversations, starting either from scratch or from the BERTbase model. And these pre-trained models are fine-tuned on EMPATHETICDIALOGUES training set to produce empathetic response. \n",
        "\n",
        "If new data about empathetic dialogues is available, I might fine-tune the model created by this paper to produce better result.\n",
        "\n",
        "\n",
        "**2) (0.5 points) What properties of the transformer architecture make it well suited for this application?**\n",
        "\n",
        "Empathetic chatbot is a kind of sequence-to-sequence learning, which reads users' input and generate an empathetic output. The self-attention mechanism that learns weights for each word depending on all other words in a sentence is well suited for the application and it could better understand the context. \n",
        "\n",
        "**3) (0.5 points) Explain the metrics used to evaluate performance in Table 1 (P@1,100, AVG-BLEU, and PPL).**\n",
        "\n",
        "P@1,100: precision retrieving the correct test candidate out of 100 test candidates. \n",
        "\n",
        "AVG BLEU: average of BLEU-1,-2,-3,-4. BLEU's output is always a number between 0 and 1. This value indicates how similar the candidate text is to the reference texts, with values closer to 1 representing more similar texts. In this paper, BLEU was calculated up to 4-grams.\n",
        "\n",
        "PPL: perplexity. A low perplexity indicates the probability distribution is good at predicting the sample. In other words, having a perplexity of 21.24, the model is as confused on test data as if it had to choose uniformly and independently among 21.24 possibilities for each word.\n",
        "\n",
        "**4) (0.5 points) Which of the metrics do you think provides the best measure of performance of empathic systems and why?**\n",
        "\n",
        "I think AVG BLEU might be the best measure of the performance of this empathetic system among these three. First of all, it could apply to both retrieval and generative models. Secondly, P@1,100 requires exact match while AVG BLEU infers the similarity in meaning between prediction and target. Lastly, PPL measures the confidence of the model in predicting next word, but not the quality of the response. \n",
        "\n",
        "**5) (0.5 points) Based on table 1 and 2, and your reading of the paper, what do you think would help the system get to human-level performance?\"**\n",
        "\n",
        "TOPICPREPEND is effective to improve the performance. In this paper, a classifier trained on the 20-Newsgroup dataset is used for the topic identifier. More accurate topic detection would be done if we have manually labelled data on EMPATHETICDIALOGUES and I believe it would help the system get to human-level performance. \n",
        "\n",
        "Moreover, as mentioned in the paper, fine-tuning on ED data improves performance on predicting the next ED utterance. Therefore, if more empathetic dialog data could be collected, it would be beneficial to the chatbot.  \n",
        "\n",
        "**7. Bonus (1 point): Build a classifier using pre-trained word embeddings like word2vec or gloVe or as the feature and an MLP classifier. Aim for an F1 score of at least 0.7. Report the confusion matrix, F1 score and test accuracy.**\n",
        "\n",
        "An average F1 socre of 63% is obtained on test data.\n",
        "\n"
      ]
    },
    {
      "cell_type": "code",
      "metadata": {
        "id": "7rdTJQIOZUqi",
        "colab_type": "code",
        "outputId": "6f963f8f-d15b-4c85-dbdd-dfc780cf85c4",
        "colab": {
          "base_uri": "https://localhost:8080/",
          "height": 34
        }
      },
      "source": [
        "!pip install autocorrect"
      ],
      "execution_count": 1,
      "outputs": [
        {
          "output_type": "stream",
          "text": [
            "Requirement already satisfied: autocorrect in /usr/local/lib/python3.6/dist-packages (0.4.4)\n"
          ],
          "name": "stdout"
        }
      ]
    },
    {
      "cell_type": "code",
      "metadata": {
        "id": "3zqHF6KKFvmZ",
        "colab_type": "code",
        "outputId": "e8b1624a-5527-4490-830e-35c1e5210678",
        "colab": {
          "base_uri": "https://localhost:8080/",
          "height": 204
        }
      },
      "source": [
        "import pandas as pd\n",
        "import numpy as np\n",
        "import csv\n",
        "import re\n",
        "import string\n",
        "from sklearn.feature_extraction import DictVectorizer\n",
        "from collections import Counter, OrderedDict\n",
        "import nltk\n",
        "from nltk.corpus import stopwords\n",
        "from nltk.stem import WordNetLemmatizer\n",
        "from nltk.corpus import wordnet\n",
        "from nltk.tokenize import word_tokenize\n",
        "from sklearn.feature_extraction.text import TfidfTransformer\n",
        "from sklearn.preprocessing import StandardScaler\n",
        "from sklearn.linear_model import SGDClassifier\n",
        "from sklearn.metrics import accuracy_score,confusion_matrix,f1_score\n",
        "from autocorrect import Speller\n",
        "nltk.download('stopwords')\n",
        "nltk.download('punkt')\n",
        "nltk.download('wordnet')\n",
        "nltk.download('averaged_perceptron_tagger')"
      ],
      "execution_count": 2,
      "outputs": [
        {
          "output_type": "stream",
          "text": [
            "[nltk_data] Downloading package stopwords to /root/nltk_data...\n",
            "[nltk_data]   Package stopwords is already up-to-date!\n",
            "[nltk_data] Downloading package punkt to /root/nltk_data...\n",
            "[nltk_data]   Package punkt is already up-to-date!\n",
            "[nltk_data] Downloading package wordnet to /root/nltk_data...\n",
            "[nltk_data]   Package wordnet is already up-to-date!\n",
            "[nltk_data] Downloading package averaged_perceptron_tagger to\n",
            "[nltk_data]     /root/nltk_data...\n",
            "[nltk_data]   Package averaged_perceptron_tagger is already up-to-\n",
            "[nltk_data]       date!\n"
          ],
          "name": "stdout"
        },
        {
          "output_type": "execute_result",
          "data": {
            "text/plain": [
              "True"
            ]
          },
          "metadata": {
            "tags": []
          },
          "execution_count": 2
        }
      ]
    },
    {
      "cell_type": "code",
      "metadata": {
        "id": "mpkOf1AvF6py",
        "colab_type": "code",
        "outputId": "95df6efe-1891-47de-f184-ccfcab6b13a0",
        "colab": {
          "base_uri": "https://localhost:8080/",
          "height": 34
        }
      },
      "source": [
        "from google.colab import drive\n",
        "drive.mount('/content/drive')"
      ],
      "execution_count": 3,
      "outputs": [
        {
          "output_type": "stream",
          "text": [
            "Mounted at /content/drive\n"
          ],
          "name": "stdout"
        }
      ]
    },
    {
      "cell_type": "code",
      "metadata": {
        "id": "14nnp6NpHOcj",
        "colab_type": "code",
        "outputId": "21d456f5-7328-4183-d3a6-325ce5d6f606",
        "colab": {
          "base_uri": "https://localhost:8080/",
          "height": 34
        }
      },
      "source": [
        "!ls \"/content/drive/\""
      ],
      "execution_count": 4,
      "outputs": [
        {
          "output_type": "stream",
          "text": [
            "'My Drive'\n"
          ],
          "name": "stdout"
        }
      ]
    },
    {
      "cell_type": "markdown",
      "metadata": {
        "id": "JbemgbqJFvmf",
        "colab_type": "text"
      },
      "source": [
        "## Data ETL "
      ]
    },
    {
      "cell_type": "code",
      "metadata": {
        "id": "y0J33qMOFvmf",
        "colab_type": "code",
        "outputId": "e48f6291-f17c-452e-c184-c3e24c9ceee4",
        "colab": {
          "base_uri": "https://localhost:8080/",
          "height": 204
        }
      },
      "source": [
        "train_raw = pd.read_csv(\"/content/drive/My Drive/Colab Notebooks/empatheticdialogues/train.csv\",sep=\",\",quoting=csv.QUOTE_NONE)\n",
        "dev_raw = pd.read_csv(\"/content/drive/My Drive/Colab Notebooks/empatheticdialogues/valid.csv\",sep=\",\",quoting=csv.QUOTE_NONE)\n",
        "train_raw = train_raw.append(dev_raw)\n",
        "train_raw.head()"
      ],
      "execution_count": 5,
      "outputs": [
        {
          "output_type": "execute_result",
          "data": {
            "text/html": [
              "<div>\n",
              "<style scoped>\n",
              "    .dataframe tbody tr th:only-of-type {\n",
              "        vertical-align: middle;\n",
              "    }\n",
              "\n",
              "    .dataframe tbody tr th {\n",
              "        vertical-align: top;\n",
              "    }\n",
              "\n",
              "    .dataframe thead th {\n",
              "        text-align: right;\n",
              "    }\n",
              "</style>\n",
              "<table border=\"1\" class=\"dataframe\">\n",
              "  <thead>\n",
              "    <tr style=\"text-align: right;\">\n",
              "      <th></th>\n",
              "      <th>conv_id</th>\n",
              "      <th>utterance_idx</th>\n",
              "      <th>context</th>\n",
              "      <th>prompt</th>\n",
              "      <th>speaker_idx</th>\n",
              "      <th>utterance</th>\n",
              "      <th>selfeval</th>\n",
              "      <th>tags</th>\n",
              "    </tr>\n",
              "  </thead>\n",
              "  <tbody>\n",
              "    <tr>\n",
              "      <th>0</th>\n",
              "      <td>hit:0_conv:1</td>\n",
              "      <td>1</td>\n",
              "      <td>sentimental</td>\n",
              "      <td>I remember going to the fireworks with my best...</td>\n",
              "      <td>1</td>\n",
              "      <td>I remember going to see the fireworks with my ...</td>\n",
              "      <td>5|5|5_2|2|5</td>\n",
              "      <td>NaN</td>\n",
              "    </tr>\n",
              "    <tr>\n",
              "      <th>1</th>\n",
              "      <td>hit:0_conv:1</td>\n",
              "      <td>2</td>\n",
              "      <td>sentimental</td>\n",
              "      <td>I remember going to the fireworks with my best...</td>\n",
              "      <td>0</td>\n",
              "      <td>Was this a friend you were in love with_comma_...</td>\n",
              "      <td>5|5|5_2|2|5</td>\n",
              "      <td>NaN</td>\n",
              "    </tr>\n",
              "    <tr>\n",
              "      <th>2</th>\n",
              "      <td>hit:0_conv:1</td>\n",
              "      <td>3</td>\n",
              "      <td>sentimental</td>\n",
              "      <td>I remember going to the fireworks with my best...</td>\n",
              "      <td>1</td>\n",
              "      <td>This was a best friend. I miss her.</td>\n",
              "      <td>5|5|5_2|2|5</td>\n",
              "      <td>NaN</td>\n",
              "    </tr>\n",
              "    <tr>\n",
              "      <th>3</th>\n",
              "      <td>hit:0_conv:1</td>\n",
              "      <td>4</td>\n",
              "      <td>sentimental</td>\n",
              "      <td>I remember going to the fireworks with my best...</td>\n",
              "      <td>0</td>\n",
              "      <td>Where has she gone?</td>\n",
              "      <td>5|5|5_2|2|5</td>\n",
              "      <td>NaN</td>\n",
              "    </tr>\n",
              "    <tr>\n",
              "      <th>4</th>\n",
              "      <td>hit:0_conv:1</td>\n",
              "      <td>5</td>\n",
              "      <td>sentimental</td>\n",
              "      <td>I remember going to the fireworks with my best...</td>\n",
              "      <td>1</td>\n",
              "      <td>We no longer talk.</td>\n",
              "      <td>5|5|5_2|2|5</td>\n",
              "      <td>NaN</td>\n",
              "    </tr>\n",
              "  </tbody>\n",
              "</table>\n",
              "</div>"
            ],
            "text/plain": [
              "        conv_id  utterance_idx  ...     selfeval tags\n",
              "0  hit:0_conv:1              1  ...  5|5|5_2|2|5  NaN\n",
              "1  hit:0_conv:1              2  ...  5|5|5_2|2|5  NaN\n",
              "2  hit:0_conv:1              3  ...  5|5|5_2|2|5  NaN\n",
              "3  hit:0_conv:1              4  ...  5|5|5_2|2|5  NaN\n",
              "4  hit:0_conv:1              5  ...  5|5|5_2|2|5  NaN\n",
              "\n",
              "[5 rows x 8 columns]"
            ]
          },
          "metadata": {
            "tags": []
          },
          "execution_count": 5
        }
      ]
    },
    {
      "cell_type": "code",
      "metadata": {
        "id": "ozUVGLqxFvmh",
        "colab_type": "code",
        "outputId": "b3cf26db-3c00-40ab-a3ab-c65d75c7129f",
        "colab": {
          "base_uri": "https://localhost:8080/",
          "height": 204
        }
      },
      "source": [
        "def prepare_data(df):\n",
        "    df = df[df['context'].isin(['sad', 'jealous', 'joyful', 'terrified'])]\n",
        "    return df[['utterance','context']].reset_index(drop=True)\n",
        "train = prepare_data(train_raw)\n",
        "train.head()"
      ],
      "execution_count": 6,
      "outputs": [
        {
          "output_type": "execute_result",
          "data": {
            "text/html": [
              "<div>\n",
              "<style scoped>\n",
              "    .dataframe tbody tr th:only-of-type {\n",
              "        vertical-align: middle;\n",
              "    }\n",
              "\n",
              "    .dataframe tbody tr th {\n",
              "        vertical-align: top;\n",
              "    }\n",
              "\n",
              "    .dataframe thead th {\n",
              "        text-align: right;\n",
              "    }\n",
              "</style>\n",
              "<table border=\"1\" class=\"dataframe\">\n",
              "  <thead>\n",
              "    <tr style=\"text-align: right;\">\n",
              "      <th></th>\n",
              "      <th>utterance</th>\n",
              "      <th>context</th>\n",
              "    </tr>\n",
              "  </thead>\n",
              "  <tbody>\n",
              "    <tr>\n",
              "      <th>0</th>\n",
              "      <td>Job interviews always make me sweat bullets_co...</td>\n",
              "      <td>terrified</td>\n",
              "    </tr>\n",
              "    <tr>\n",
              "      <th>1</th>\n",
              "      <td>Don't be nervous. Just be prepared.</td>\n",
              "      <td>terrified</td>\n",
              "    </tr>\n",
              "    <tr>\n",
              "      <th>2</th>\n",
              "      <td>I feel like getting prepared and then having a...</td>\n",
              "      <td>terrified</td>\n",
              "    </tr>\n",
              "    <tr>\n",
              "      <th>3</th>\n",
              "      <td>Yes but if you stay calm it will be ok.</td>\n",
              "      <td>terrified</td>\n",
              "    </tr>\n",
              "    <tr>\n",
              "      <th>4</th>\n",
              "      <td>It's hard to stay clam. How do you do it?</td>\n",
              "      <td>terrified</td>\n",
              "    </tr>\n",
              "  </tbody>\n",
              "</table>\n",
              "</div>"
            ],
            "text/plain": [
              "                                           utterance    context\n",
              "0  Job interviews always make me sweat bullets_co...  terrified\n",
              "1                Don't be nervous. Just be prepared.  terrified\n",
              "2  I feel like getting prepared and then having a...  terrified\n",
              "3            Yes but if you stay calm it will be ok.  terrified\n",
              "4         It's hard to stay clam. How do you do it?   terrified"
            ]
          },
          "metadata": {
            "tags": []
          },
          "execution_count": 6
        }
      ]
    },
    {
      "cell_type": "code",
      "metadata": {
        "id": "H-FSIN_DFvmj",
        "colab_type": "code",
        "outputId": "5a0db95d-414e-42f7-acfd-0d25e395a048",
        "colab": {
          "base_uri": "https://localhost:8080/",
          "height": 34
        }
      },
      "source": [
        "train.shape"
      ],
      "execution_count": 7,
      "outputs": [
        {
          "output_type": "execute_result",
          "data": {
            "text/plain": [
              "(12250, 2)"
            ]
          },
          "metadata": {
            "tags": []
          },
          "execution_count": 7
        }
      ]
    },
    {
      "cell_type": "code",
      "metadata": {
        "id": "7hBV0D5iFvml",
        "colab_type": "code",
        "outputId": "0f73ea58-0227-4d93-c4d1-e781b1581be4",
        "colab": {
          "base_uri": "https://localhost:8080/",
          "height": 366
        }
      },
      "source": [
        "train['context'].value_counts().plot('bar')"
      ],
      "execution_count": 8,
      "outputs": [
        {
          "output_type": "stream",
          "text": [
            "/usr/local/lib/python3.6/dist-packages/ipykernel_launcher.py:1: FutureWarning: `Series.plot()` should not be called with positional arguments, only keyword arguments. The order of positional arguments will change in the future. Use `Series.plot(kind='bar')` instead of `Series.plot('bar',)`.\n",
            "  \"\"\"Entry point for launching an IPython kernel.\n"
          ],
          "name": "stderr"
        },
        {
          "output_type": "execute_result",
          "data": {
            "text/plain": [
              "<matplotlib.axes._subplots.AxesSubplot at 0x7f4c2d7d76d8>"
            ]
          },
          "metadata": {
            "tags": []
          },
          "execution_count": 8
        },
        {
          "output_type": "display_data",
          "data": {
            "image/png": "[encoded data removed]",
            "text/plain": [
              "<Figure size 432x288 with 1 Axes>"
            ]
          },
          "metadata": {
            "tags": []
          }
        }
      ]
    },
    {
      "cell_type": "markdown",
      "metadata": {
        "id": "4A_7NVrmFvmn",
        "colab_type": "text"
      },
      "source": [
        "## Create a sparse bag-of-words (BOW) presentation"
      ]
    },
    {
      "cell_type": "code",
      "metadata": {
        "id": "KS11fmuWFvmo",
        "colab_type": "code",
        "outputId": "0f0b5a10-5ae6-436b-9269-9a4d8f6e222d",
        "colab": {
          "base_uri": "https://localhost:8080/",
          "height": 54
        }
      },
      "source": [
        "def tokenize(sentence):    \n",
        "    words = re.sub(\"[^a-z]\", \" \",  sentence.lower()).split()      \n",
        "    words = list(set(words))\n",
        "    return words\n",
        "print (tokenize(train.iloc[0,0]))"
      ],
      "execution_count": 9,
      "outputs": [
        {
          "output_type": "stream",
          "text": [
            "['me', 'a', 'under', 'interviews', 'microscope', 'makes', 'to', 'uncomfortable', 'at', 'bullets', 'general', 'that', 'in', 'sweat', 'always', 'make', 'comma', 'like', 'looked', 'job', 'be']\n"
          ],
          "name": "stdout"
        }
      ]
    },
    {
      "cell_type": "code",
      "metadata": {
        "id": "vGATWNp2Fvmq",
        "colab_type": "code",
        "outputId": "4f211d30-f5a3-44e3-c976-dc767d93eefc",
        "colab": {
          "base_uri": "https://localhost:8080/",
          "height": 204
        }
      },
      "source": [
        "train['word_list'] = train['utterance'].apply(tokenize)\n",
        "train.head()"
      ],
      "execution_count": 10,
      "outputs": [
        {
          "output_type": "execute_result",
          "data": {
            "text/html": [
              "<div>\n",
              "<style scoped>\n",
              "    .dataframe tbody tr th:only-of-type {\n",
              "        vertical-align: middle;\n",
              "    }\n",
              "\n",
              "    .dataframe tbody tr th {\n",
              "        vertical-align: top;\n",
              "    }\n",
              "\n",
              "    .dataframe thead th {\n",
              "        text-align: right;\n",
              "    }\n",
              "</style>\n",
              "<table border=\"1\" class=\"dataframe\">\n",
              "  <thead>\n",
              "    <tr style=\"text-align: right;\">\n",
              "      <th></th>\n",
              "      <th>utterance</th>\n",
              "      <th>context</th>\n",
              "      <th>word_list</th>\n",
              "    </tr>\n",
              "  </thead>\n",
              "  <tbody>\n",
              "    <tr>\n",
              "      <th>0</th>\n",
              "      <td>Job interviews always make me sweat bullets_co...</td>\n",
              "      <td>terrified</td>\n",
              "      <td>[me, a, under, interviews, microscope, makes, ...</td>\n",
              "    </tr>\n",
              "    <tr>\n",
              "      <th>1</th>\n",
              "      <td>Don't be nervous. Just be prepared.</td>\n",
              "      <td>terrified</td>\n",
              "      <td>[prepared, just, don, nervous, be, t]</td>\n",
              "    </tr>\n",
              "    <tr>\n",
              "      <th>2</th>\n",
              "      <td>I feel like getting prepared and then having a...</td>\n",
              "      <td>terrified</td>\n",
              "      <td>[at, prepared, thrown, curve, off, like, throw...</td>\n",
              "    </tr>\n",
              "    <tr>\n",
              "      <th>3</th>\n",
              "      <td>Yes but if you stay calm it will be ok.</td>\n",
              "      <td>terrified</td>\n",
              "      <td>[but, stay, ok, if, yes, it, be, calm, will, you]</td>\n",
              "    </tr>\n",
              "    <tr>\n",
              "      <th>4</th>\n",
              "      <td>It's hard to stay clam. How do you do it?</td>\n",
              "      <td>terrified</td>\n",
              "      <td>[clam, s, do, stay, to, it, hard, you, how]</td>\n",
              "    </tr>\n",
              "  </tbody>\n",
              "</table>\n",
              "</div>"
            ],
            "text/plain": [
              "                                           utterance  ...                                          word_list\n",
              "0  Job interviews always make me sweat bullets_co...  ...  [me, a, under, interviews, microscope, makes, ...\n",
              "1                Don't be nervous. Just be prepared.  ...              [prepared, just, don, nervous, be, t]\n",
              "2  I feel like getting prepared and then having a...  ...  [at, prepared, thrown, curve, off, like, throw...\n",
              "3            Yes but if you stay calm it will be ok.  ...  [but, stay, ok, if, yes, it, be, calm, will, you]\n",
              "4         It's hard to stay clam. How do you do it?   ...        [clam, s, do, stay, to, it, hard, you, how]\n",
              "\n",
              "[5 rows x 3 columns]"
            ]
          },
          "metadata": {
            "tags": []
          },
          "execution_count": 10
        }
      ]
    },
    {
      "cell_type": "code",
      "metadata": {
        "id": "cB3jSu9OFvms",
        "colab_type": "code",
        "colab": {}
      },
      "source": [
        "v = DictVectorizer()\n",
        "X = v.fit_transform(Counter(row['word_list']) for _, row in train.iterrows())"
      ],
      "execution_count": 0,
      "outputs": []
    },
    {
      "cell_type": "code",
      "metadata": {
        "id": "08EH1YDdFvmt",
        "colab_type": "code",
        "outputId": "970d475a-2e5f-4248-cfcc-7d3d7516f24e",
        "colab": {
          "base_uri": "https://localhost:8080/",
          "height": 170
        }
      },
      "source": [
        "print (X.A)\n",
        "print (X.shape)\n",
        "print (X.max())"
      ],
      "execution_count": 12,
      "outputs": [
        {
          "output_type": "stream",
          "text": [
            "[[1. 0. 0. ... 0. 0. 0.]\n",
            " [0. 0. 0. ... 0. 0. 0.]\n",
            " [1. 0. 0. ... 0. 0. 0.]\n",
            " ...\n",
            " [0. 0. 0. ... 0. 0. 0.]\n",
            " [1. 0. 0. ... 0. 0. 0.]\n",
            " [0. 0. 0. ... 0. 0. 0.]]\n",
            "(12250, 7235)\n",
            "1.0\n"
          ],
          "name": "stdout"
        }
      ]
    },
    {
      "cell_type": "code",
      "metadata": {
        "id": "fzku0RxZFvmv",
        "colab_type": "code",
        "outputId": "60e3151d-c248-4697-e2f6-3415d7fb1836",
        "colab": {
          "base_uri": "https://localhost:8080/",
          "height": 54
        }
      },
      "source": [
        "print (v.vocabulary_)"
      ],
      "execution_count": 13,
      "outputs": [
        {
          "output_type": "stream",
          "text": [
            "{'me': 3984, 'a': 0, 'under': 6739, 'interviews': 3386, 'microscope': 4055, 'makes': 3897, 'to': 6508, 'uncomfortable': 6737, 'at': 357, 'bullets': 843, 'general': 2685, 'that': 6409, 'in': 3281, 'sweat': 6254, 'always': 195, 'make': 3896, 'comma': 1231, 'like': 3735, 'looked': 3806, 'job': 3490, 'be': 527, 'prepared': 4890, 'just': 3536, 'don': 1876, 'nervous': 4278, 't': 6291, 'thrown': 6469, 'curve': 1544, 'off': 4403, 'throws': 6470, 'ball': 472, 'feel': 2365, 'and': 211, 'getting': 2706, 'having': 2976, 'i': 3218, 'you': 7208, 'then': 6423, 'but': 873, 'stay': 6050, 'ok': 4419, 'if': 3232, 'yes': 7197, 'it': 3439, 'calm': 899, 'will': 7058, 'clam': 1135, 's': 5436, 'do': 1853, 'hard': 2941, 'how': 3162, 'over': 4507, 'enginering': 2111, 'the': 6411, 'was': 6944, 'school': 5516, 'hi': 3046, 'students': 6151, 'year': 7189, 'this': 6442, 'first': 2442, 'my': 4211, 'what': 7010, 'great': 2821, 'major': 3895, 'so': 5877, 'sounds': 5938, 'your': 7213, 'computer': 1282, 'proud': 4977, 'achievement': 48, 'of': 4402, 'am': 198, 'is': 3429, 'very': 6867, 'science': 5518, 'family': 2310, 'happy': 2938, 'course': 1428, 'brains': 756, 'man': 3909, 'should': 5702, 'well': 7002, 'pleased': 4787, 'tough': 6561, 'hear': 2995, 'few': 2387, 'ago': 144, 'not': 4345, 'christmas': 1112, 'any': 244, 'get': 2702, 'during': 1990, 'did': 1751, 'years': 7191, 'presents': 4898, 'must': 4202, 'wow': 7153, 'terrible': 6380, 'imagine': 3251, 'lvoe': 3868, 'cannot': 928, 'been': 556, 'for': 2515, 'has': 2957, 'good': 2765, 'day': 1600, 'worst': 7143, 'have': 2973, 'time': 6494, 'as': 327, 'no': 4324, 'since': 5749, 'better': 613, 'could': 1413, 'holiday': 3100, 'sorry': 5930, 'wish': 7086, 'never': 4289, 'are': 299, 'forget': 2529, 'some': 5900, 'days': 1603, 'work': 7122, 'coworker': 1440, 'allowed': 180, 'remotely': 5238, 'something': 5909, 'performer': 4677, 'unfortnuate': 6762, 'because': 544, 'best': 603, 'curious': 1537, 'too': 6535, 'unbiased': 6731, 'our': 4488, 'people': 4666, 'life': 3723, 'shiner': 5670, 'spoon': 5993, 'performance': 4675, 'about': 12, 'sometimes': 5911, 'kitchen': 3585, 'heard': 2996, 'coming': 1230, 'creepy': 1489, 'night': 4312, 'other': 4480, 'alone': 182, 'nose': 4343, 'from': 2597, 'reaching': 5106, 'dissuade': 1835, 'shouldn': 5705, 'all': 175, 'let': 3709, 'goals': 2749, 'rejected': 5193, 'an': 210, 'excuse': 2223, 'happened': 2930, 'place': 4762, 'once': 4433, 'three': 6456, 'times': 6495, 'got': 2780, 'wanted': 6930, 'opportunity': 4453, 'why': 7046, 'they': 6431, 'know': 3601, 'find': 2423, 'hope': 3126, 'generic': 2690, 'lines': 3747, 'gave': 2678, 'same': 5466, 'thanks': 6407, 'home': 3104, 'planning': 4770, 'out': 4491, 'new': 4292, 'turned': 6680, 'blast': 660, 'house': 3158, 'building': 835, 'kind': 3576, 'already': 186, 'moved': 4175, 'working': 7128, 'appliances': 275, 'decorating': 1642, 'such': 6178, 'built': 838, 'on': 4432, 'most': 4153, 'excited': 2217, 'think': 6438, 'space': 5942, 'friends': 2584, 'cramped': 1455, 'can': 915, 'vacation': 6834, 'frightened': 2590, 'half': 2903, 'death': 1622, 'recently': 5136, 'oh': 4413, 'seagulls': 5555, 'by': 882, 'chips': 1094, 'dropped': 1957, 'them': 6416, 'swarmed': 6250, 'eating': 2021, 'balcony': 468, 'ran': 5078, 'ocean': 4396, 'live': 3767, 'quickly': 5044, 'near': 4243, 'understand': 6746, 'didnt': 1754, 'inside': 3341, 'went': 7003, 'donr': 1882, 'fall': 2305, 'stories': 6097, 'dangerous': 1575, 'want': 6929, 'drowning': 1963, 'story': 6102, 'when': 7017, 'heartbroken': 3002, 'ever': 2191, 'still': 6075, 'down': 1901, 'had': 2889, 'sad': 5440, 'pet': 4703, 'dog': 1861, 'put': 5026, 'with': 7091, 'matter': 3966, 'happens': 2933, 'heartbreaking': 3001, 'helped': 3027, 'remember': 5223, 'memories': 4020, 'up': 6809, 'true': 6654, 'we': 6969, 'old': 4423, 'll': 3773, 'those': 6446, 'grew': 2831, 'her': 3033, 'absolutely': 17, 'chapter': 1039, 'long': 3801, 'through': 6464, 'phone': 4720, 'chance': 1028, 'money': 4133, 'screwed': 5544, 'thats': 6410, 'gotten': 2785, 'yet': 7201, 'soon': 5920, 'way': 6966, 'comes': 1223, 'luck': 3851, 'chocolate': 1097, 'gone': 2762, 'crazy': 1471, 'nothing': 4348, 'than': 6403, 'upset': 6814, 'chocolates': 1098, 'gosh': 2776, 'bad': 458, 'would': 7146, 'fridge': 2579, 'right': 5340, 'atleast': 362, 'lol': 3795, 'amaretto': 199, 'definitely': 1659, 'swim': 6271, 'loving': 3844, 'learned': 3674, 'finally': 2416, 'water': 6960, 'fear': 2347, 'daughter': 1596, 'see': 5576, 'overcame': 4512, 'brooklyn': 798, 'moment': 4126, 'special': 5955, 'she': 5656, 'beautiful': 542, 'fearless': 2350, 'overcome': 4513, 'who': 7038, 'love': 3837, 'completely': 1270, 'son': 5915, 'normally': 4340, 'haha': 2893, 'afraid': 129, 'worked': 7125, 'compared': 1256, 'everything': 2196, 'moments': 4128, 'introduced': 3391, 'its': 3444, 'congrats': 1314, 'babies': 440, 'shes': 5666, 'their': 6414, 'mama': 3907, 'enjoy': 2115, 'thank': 6404, 'many': 3922, 'swimming': 6273, 'little': 3764, 'princess': 4919, 'worker': 7126, 'co': 1184, 'sales': 5459, 'told': 6520, 'keeps': 3550, 'hes': 3042, 'he': 2981, 'wrong': 7165, 'doing': 1867, 'caught': 987, 'sure': 6223, 'though': 6448, 'eventually': 2189, 'ways': 6968, 'dollar': 1869, 'doubtful': 1897, 'bonus': 705, 'gets': 2705, 'his': 3076, 'week': 6987, 'every': 2192, 'come': 1220, 'back': 445, 'usually': 6828, 'things': 6437, 'last': 3645, 'road': 5358, 'driving': 1955, 'died': 1756, 'car': 938, 'lights': 3734, 'scary': 5506, 'hours': 3157, 'sitting': 5767, 'dark': 1581, 'freaked': 2556, 'even': 2183, 'apartment': 259, 've': 6853, 'able': 9, 'help': 3026, 'brother': 800, 'signal': 5738, 'glad': 2738, 'bear': 532, 'didn': 1753, 'eat': 2018, 'mortgage': 4152, 'behind': 574, 'lost': 3825, 'scares': 5500, 'lose': 3818, 'try': 6663, 'stuff': 6157, 'really': 5121, 'm': 3871, 'avoid': 409, 'awful': 426, 'outcome': 4493, 'pays': 4647, 'more': 4146, 'odd': 4398, 'looking': 3808, 'ends': 2099, 'downsize': 1911, 'fast': 2325, 'food': 2508, 'holding': 3097, 'similar': 5745, 'paying': 4644, 'before': 558, 'ended': 2097, 'one': 4434, 'posted': 4846, 'hot': 3151, 'making': 3898, 'sequel': 5613, 'online': 4437, 'fuzz': 2643, 'say': 5489, 'funding': 2627, 'enough': 2122, 'sucks': 6184, 'favorite': 2338, 'movie': 4176, 'guess': 2862, 'hopefully': 3130, 'might': 4064, 'reconsidered': 5148, 'later': 3649, 'these': 6429, 'tell': 6359, 'im': 3248, 'thinking': 6439, 'passed': 4619, 'away': 419, 'grandmother': 2812, 'unexpectedly': 6757, 'november': 4356, 'mine': 4079, 'grandparent': 2815, 'closest': 1162, 'waiting': 6911, 'part': 4602, 'easier': 2013, 'believe': 579, 'heal': 2987, 'chatting': 1054, 'nice': 4304, 'birthday': 643, 'going': 2755, 'today': 6510, 'tonight': 6531, 'where': 7020, 'awesome': 425, 'park': 4595, 'amusment': 209, 'seriously': 5618, 'guys': 2883, 'dau': 1594, 'nowadays': 4358, 'single': 5753, 'go': 2747, 'breakup': 772, 'two': 6701, 'recent': 5135, 'cook': 1368, 'order': 4465, 'neck': 4249, 'pain': 4557, 'arthritis': 322, 'mom': 4125, 'seems': 5581, 'traveling': 6618, 'now': 4357, 'therapy': 6425, 'physical': 4724, 'there': 6426, 'recommended': 5147, 'or': 4462, 'busy': 872, 'were': 7005, 'doctor': 1855, 'exercise': 2225, 'anymore': 247, 'situation': 5768, 'nd': 4242, 'opinion': 4451, 'helps': 3031, 'body': 694, 'depends': 1691, 'moving': 4178, 'wished': 7087, 'weekend': 6989, 'absorbed': 19, 'kinda': 3577, 'without': 7094, 'everyone': 2195, 'haven': 2974, 'ditch': 1844, 'girlfriend': 2728, 'react': 5107, 'left': 3689, 'vet': 6868, 'cat': 980, 'only': 4438, 'weeks': 6992, 'everyday': 2194, 'plan': 4766, 'doesnt': 1860, 'rest': 5292, 'painful': 4558, 'sleep': 5802, 'extremely': 2271, 'point': 4800, 'yeah': 7188, 'months': 4139, 'envious': 2138, 'being': 576, 'hate': 2962, 'friend': 2582, 'needed': 4253, 'bought': 735, 'around': 317, 'maybe': 3974, 'pool': 4819, 'until': 6805, 'mean': 3986, 'free': 2561, 'fair': 2299, 'style': 6161, 'ride': 5335, 'yours': 7215, 'super': 6210, 'stressing': 6131, 'pets': 4708, 'goodbye': 2766, 'allow': 179, 'won': 7106, 'after': 131, 'country': 1421, 'each': 1998, 'another': 231, 'seeing': 5577, 'bet': 607, 'fun': 2622, 'interesting': 3375, 'visiting': 6886, 'culture': 1529, 'yea': 7187, 'learning': 3676, 'different': 1762, 'places': 4764, 'types': 6706, 'distance': 1836, 'misplaced': 4095, 'registration': 5186, 'insurance': 3363, 'move': 4174, 'somehow': 5904, 'middle': 4057, 'drivers': 1952, 'entire': 2132, 'scared': 5498, 'almost': 181, 'trip': 6642, 'ruined': 5416, 'bob': 693, 'promotion': 4960, 'gotta': 2783, 'instead': 3354, 'pick': 4728, 'him': 3065, 'test': 6391, 'take': 6299, 'us': 6819, 'made': 3880, 'scored': 5525, 'both': 730, 'geuss': 2707, 'promoted': 4959, 'winter': 7077, 'dont': 1883, 'past': 4629, 'id': 3223, 'issued': 3437, 'wallet': 6924, 'turns': 6683, 'someone': 5906, 'cash': 970, 'replace': 5254, 'much': 4184, 'cards': 946, 'honestly': 3115, 'real': 5113, 'grandma': 2810, 'age': 139, 'complications': 1275, 'smoked': 5847, 'also': 190, 'does': 1858, 'took': 6536, 'hotel': 3152, 'overlooking': 4523, 'stayed': 6051, 'steal': 6057, 'biloxi': 633, 'downside': 1910, 'kid': 3563, 'watching': 6959, 'throwing': 6468, 'catch': 982, 'trying': 6664, 'crackers': 1450, 'ghosts': 2716, 'llike': 3774, 'mw': 4210, 'outside': 4503, 'meet': 4008, 'ghost': 2711, 'born': 723, 'awww': 434, 'anyone': 248, 'girls': 2730, 'child': 1081, 'heat': 3006, 'cmon': 1183, 'summer': 6200, 'autumn': 405, 'enogh': 2120, 'agree': 145, 'start': 6035, 'anyway': 252, 'ready': 5112, 'memphis': 4022, 'here': 3035, 'rock': 5369, 'actor': 65, 'dwayne': 1993, 'talked': 6306, 'passion': 4624, 'energy': 2106, 'exactly': 2205, 'feeling': 2366, 'correlate': 1399, 'likes': 3739, 'everytime': 2197, 'lot': 3826, 'face': 2280, 'talking': 6307, 'suggest': 6195, 'weird': 6997, 'dwell': 1994, 'occurs': 4395, 'truth': 6662, 'saying': 5490, 'rude': 5412, 'men': 4023, 'street': 6120, 'valued': 6845, 'random': 5079, 'wants': 6932, 'decide': 1634, 'bothers': 734, 'dovey': 1900, 'personality': 4696, 'mute': 4205, 'block': 675, 'need': 4252, 'acts': 67, 'talks': 6308, 'media': 3999, 'stuck': 6149, 'confuses': 1311, 'anxiety': 242, 'leaves': 3684, 'lovey': 3842, 'social': 5879, 'whether': 7023, 'month': 4137, 'leave': 3683, 'brand': 762, 'cars': 964, 'buying': 880, 'fixed': 2450, 'issues': 3438, 'saving': 5485, 'warranty': 6941, 'snake': 5857, 'obviously': 4387, 'salesman': 5460, 'oil': 4417, 'nope': 4337, 'mother': 4156, 'bit': 645, 'miffed': 4063, 'sister': 5761, 'anything': 250, 'law': 3658, 'ourselves': 4490, 'lives': 3770, 'gives': 2735, 'kids': 3568, 'basically': 512, 'rarely': 5090, 'least': 3682, 'clear': 1146, 'somewhat': 5913, 'favoritism': 2340, 'own': 4540, 'says': 5492, 'raise': 5071, 'wouldn': 7147, 'buy': 879, 'ridiculous': 5337, 'refuses': 5177, 'children': 1085, 'clearly': 1147, 'angry': 215, 'hypocrisy': 3217, 'type': 6705, 'care': 947, 'college': 1210, 'while': 7026, 'poorly': 4824, 'study': 6155, 'semester': 5594, 'classes': 1138, 'track': 6579, 'university': 6780, 'rain': 5063, 'yard': 7183, 'big': 622, 'spring': 6002, 'creek': 1483, 'twice': 6690, 'storms': 6101, 'flooded': 2480, 'mud': 4185, 'unbelievably': 6730, 'mess': 4033, 'clean': 1143, 'post': 4845, 'stress': 6128, 'traumatic': 6613, 'disorder': 1825, 'raining': 5068, 'starts': 6042, 'stressed': 6129, 'stop': 6091, 'spoken': 5989, 'unfortunately': 6764, 'said': 5454, 'bummed': 847, 'tinder': 6497, 'dating': 1593, 'into': 3389, 'girl': 2727, 'hasn': 2958, 'started': 6036, 'end': 2096, 'especially': 2160, 'fine': 2426, 'irks': 3420, 'literally': 3761, 'ghosting': 2714, 'fake': 2304, 'thing': 6436, 'ending': 2098, 'match': 3956, 'thankfully': 6406, 'unfortunate': 6763, 'airplane': 159, 'severe': 5632, 'turbulence': 6673, 'queasy': 5037, 'airplanes': 160, 'cope': 1380, 'panic': 4572, 'attack': 366, 'flying': 2493, 'easy': 2017, 'knows': 3605, 'financial': 2421, 'nephew': 4272, 'k': 3539, 'advance': 110, 'dollars': 1870, 'sell': 5592, 'idea': 3224, 'husband': 3206, 'evil': 2200, 're': 5103, 'price': 4914, 'mad': 3877, 'ungrateful': 6767, 'learn': 3673, 'someday': 5903, 'actions': 60, 'haunt': 2969, 'person': 4694, 'couple': 1424, 'finals': 2417, 'finished': 2432, 'sophomore': 5928, 'burden': 855, 'lifted': 3728, 'joyed': 3514, 'passing': 4622, 'fail': 2294, 'younger': 7211, 'myself': 4212, 'peed': 4656, 'dad': 1559, 'brothers': 801, 'jerk': 3473, 'hat': 2961, 'young': 7210, 'cried': 1491, 'barely': 495, 'scholarship': 5514, 'huge': 3173, 'psat': 4981, 'manage': 3910, 'based': 508, 'mainly': 3888, 'english': 2113, 'slim': 5816, 'pickings': 4731, 'giving': 2736, 'came': 906, 'sholarships': 5685, 'above': 13, 'cutoff': 1551, 'jealous': 3462, 'quite': 5048, 'honest': 3114, 'sadly': 5445, 'writing': 7163, 'dropping': 1958, 'ou': 4483, 'wasted': 6952, 'pursue': 5018, 'career': 949, 'ah': 147, 'lucrative': 3856, 'dentist': 1685, 'pass': 4617, 'thought': 6449, 'okay': 4420, 'tooth': 6538, 'repaired': 5249, 'suppose': 6221, 'square': 6007, 'hit': 3081, 'log': 3791, 'wounder': 7151, 'killed': 3571, 'parents': 4593, 'dude': 1973, 'lasting': 3646, 'damage': 1563, 'nah': 4218, 'shards': 5646, 'taking': 6302, 'showers': 5714, 'glass': 2741, 'accident': 31, 'found': 2547, 'scalp': 5494, 'less': 3706, 'spend': 5968, 'projects': 4954, 'worth': 7144, 'ultimately': 6721, 'becmoe': 546, 'large': 3641, 'rather': 5095, 'taken': 6300, 'experts': 2250, 'repair': 5248, 'important': 3267, 'met': 4039, 'relationship': 5200, 'happiness': 2937, 'totally': 6557, 'pit': 4755, 'sinking': 5757, 'stomach': 6088, 'comfortable': 1226, 'perfect': 4672, 'isn': 3432, 'company': 1253, 'expect': 2238, 'universe': 6778, 'timing': 6496, 'tragic': 6588, 'deal': 1613, 'continues': 1351, 'anytime': 251, 'france': 2552, 'visit': 6884, 'again': 137, 'exciting': 2219, 'saw': 5488, 'worried': 7136, 'due': 1974, 'finances': 2420, 'sleeping': 5804, 'greatest': 2823, 'lately': 3648, 'turn': 6679, 'several': 5631, 'solutions': 5896, 'debt': 1629, 'problem': 4934, 'admit': 96, 'terrifified': 6385, 'attitude': 379, 'impression': 3273, 'growth': 2855, 'certainly': 1012, 'thoughts': 6451, 'close': 1158, 'childhood': 1083, 'joy': 3513, 'lake': 3626, 'burst': 863, 'wife': 7049, 'relax': 5204, 'sit': 5763, 'escape': 2158, 'regular': 5190, 'often': 4412, 'daily': 1562, 'goodness': 2768, 'hiking': 3062, 'alerted': 172, 'stepped': 6065, 'rattlesnake': 5100, 'frightening': 2591, 'figure': 2401, 'minute': 4087, 'hearing': 2997, 'narrow': 4231, 'cut': 1548, 'heavy': 3011, 'walk': 6917, 'brush': 808, 'backtrack': 451, 'trail': 6590, 'hospital': 3146, 'heart': 2999, 'operation': 4450, 'chirurgical': 1096, 'eye': 2274, 'field': 2393, 'damn': 1566, 'experience': 2245, 'banking': 484, 'hp': 3165, 'gift': 2721, 'laptop': 3639, 'using': 6827, 'gifted': 2722, 'consistently': 1334, 'chrstmas': 1115, 'main': 3887, 'uses': 6826, 'reddit': 5160, 'lots': 3827, 'youtube': 7218, 'occasionally': 4390, 'freelance': 2563, 'signed': 5739, 'actually': 69, 'meant': 3992, 'chicago': 1076, 'bigger': 624, 'friendship': 2585, 'accepted': 26, 'program': 4950, 'master': 3953, 'void': 6898, 'swallow': 6247, 'touch': 6558, 'pretty': 4908, 'fill': 2405, 'invited': 3407, 'wedding': 6981, 'filled': 2406, 'either': 2052, 'fiance': 2389, 'perhaps': 4680, 'bring': 791, 'closer': 1161, 'loss': 3823, 'grieve': 2834, 'together': 6516, 'shame': 5643, 'hurt': 3203, 'whatever': 7012, 'short': 5695, 'works': 7132, 'happen': 2928, 'wonderful': 7108, 'surely': 6224, 'abandoned': 5, 'spent': 5971, 'voice': 6897, 'footsteps': 2514, 'pants': 4578, 'blackjack': 654, 'decision': 1636, 'toll': 6522, 'difficult': 1765, 'situations': 5769, 'kidneys': 3567, 'failing': 2296, 'relatively': 5202, 'reschedule': 5269, 'plans': 4771, 'megan': 4010, 'bail': 462, 'third': 6441, 'row': 5405, 'set': 5624, 'hang': 2919, 'morning': 4148, 'sunday': 6206, 'ihob': 3239, 'breakfast': 768, 'attacked': 367, 'bag': 460, 'stole': 6086, 'report': 5260, 'police': 4809, 'shocked': 5680, 'capitals': 935, 'stanley': 6027, 'cup': 1530, 'wins': 7076, 'fan': 2313, 'team': 6341, 'hockey': 3092, 'streets': 6121, 'yep': 7196, 'dc': 1607, 'celebrating': 999, 'championship': 1027, 'series': 5616, 'world': 7133, 'cubs': 1523, 'felt': 2374, 'granddaughter': 2807, 'boys': 751, 'handful': 2913, 'sick': 5730, 'cirrhosis': 1128, 'liver': 3769, 'distraught': 1841, 'stage': 6018, 'news': 4298, 'horrible': 3136, 'couch': 1407, 'flip': 2473, 'tried': 6636, 'headfirst': 2984, 'babysitting': 443, 'floor': 2483, 'onto': 4439, 'please': 4786, 'head': 2982, 'leg': 3690, 'inches': 3282, 'tile': 6492, 'bedroom': 551, 'horrified': 3140, 'look': 3805, 'broken': 797, 'refrigerator': 5173, 'stressful': 6130, 'pay': 4640, 'throw': 6467, 'boyfriend': 749, 'commenting': 1235, 'photos': 4723, 'facebook': 2281, 'insecure': 3339, 'confront': 1309, 'pitt': 4758, 'brad': 753, 'chris': 1109, 'pratt': 4870, 'wanna': 6928, 'famous': 2312, 'bugged': 828, 'amazing': 200, 'donald': 1877, 'trump': 6656, 'next': 4301, 'rich': 5330, 'somehting': 5905, 'visited': 6885, 'lived': 3768, 'summers': 6201, 'batman': 519, 'cool': 1373, 'british': 794, 'butler': 875, 'hero': 3039, 'settle': 5627, 'bale': 470, 'christian': 1110, 'musk': 4201, 'elon': 2067, 'net': 4282, 'billion': 631, 'spacex': 5944, 'mars': 3944, 'travel': 6616, 'cute': 1549, 'harder': 2943, 'buddy': 818, 'bench': 595, 'which': 7025, 'attention': 376, 'pressing': 4900, 'himself': 3066, 'video': 6872, 'guy': 2882, 'record': 5149, 'lbs': 3665, 'deadlifting': 1610, 'strong': 6140, 'lie': 3720, 'taller': 6310, 'shorter': 5697, 'issue': 3436, 'average': 407, 'foot': 2511, 'upside': 6816, 'lengthen': 3701, 'apparently': 265, 'themselves': 6422, 'earthquake': 2011, 'understandable': 6747, 'impressive': 3274, 'broke': 796, 'jonas': 3509, 'music': 4197, 'roll': 5376, 'pancreatic': 4569, 'father': 2333, 'cancer': 921, 'diagnosed': 1746, 'treatments': 6627, 'surgery': 6230, 'advanced': 111, 'loved': 3838, 'ones': 4435, 'relate': 5195, 'extent': 2265, 'wasn': 6948, 'james': 3456, 'lebron': 3686, 'tall': 6309, 'change': 1031, 'height': 3019, 'hurts': 3205, 'player': 4777, 'state': 6045, 'use': 6822, 'tennis': 6371, 'number': 4363, 'high': 3053, 'played': 4776, 'sports': 5995, 'accomplishment': 37, 'bells': 584, 'viral': 6880, 'palsy': 4567, 'meningitis': 4024, 'yikes': 7202, 'break': 767, 'door': 1889, 'awhile': 429, 'bacterial': 457, 'tired': 6502, 'anxious': 243, 'noticeable': 4351, 'residual': 5278, 'god': 2750, 'rough': 5399, 'reason': 5123, 'beach': 528, 'beaches': 529, 'choose': 1103, 'heights': 3020, 'etc': 2167, 'buildings': 836, 'elevator': 2066, 'certain': 1011, 'caused': 989, 'finding': 2424, 'struggle': 6144, 'messed': 4036, 'cheating': 1059, 'forward': 2544, 'mistakes': 4104, 'growing': 2851, 'influence': 3314, 'miss': 4097, 'female': 2375, 'grandpa': 2814, 'married': 3941, 'daughters': 1597, 'neither': 4270, 'd': 1556, 'bills': 632, 'living': 3771, 'paycheck': 4641, 'jobs': 3492, 'leads': 3669, 'poor': 4823, 'baby': 441, 'against': 138, 'netherlands': 4284, 'semi': 5595, 'final': 2414, 'argentina': 308, 'america': 203, 'play': 4775, 'sport': 5994, 'soccer': 5878, 'yourself': 7216, 'follow': 2500, 'used': 6823, 'blood': 678, 'lovely': 3839, 'plus': 4794, 'joyful': 3515, 'y': 7174, 'congratulations': 1318, 'mourn': 4170, 'chapters': 1040, 'adopted': 102, 'dogs': 1865, 'breed': 780, 'spunky': 6005, 'russel': 5429, 'jack': 3448, 'dull': 1978, 'mature': 3969, 'sound': 5936, 'competition': 1262, 'local': 3782, 'band': 477, 'wait': 6909, 'bands': 478, 'kinds': 3580, 'poisoned': 4805, 'abused': 21, 'lady': 3623, 'eyes': 2277, 'sense': 5604, 'sixth': 5773, 'running': 5421, 'closed': 1159, 'couldn': 1414, 'angrily': 214, 'staring': 6034, 'vomit': 6901, 'mouth': 4173, 'neddy': 4251, 'yelling': 7194, 'omg': 4430, 'soiled': 5890, 'pantssss': 4579, 'occasion': 4388, 'underwear': 6752, 'pir': 4752, 'extra': 2269, 'keep': 3548, 'dues': 1975, 'paid': 4556, 'conversations': 1362, 'leadership': 3668, 'case': 968, 'rewarded': 5324, 'talk': 6305, 'normal': 4339, 'elsewhere': 2070, 'eric': 2151, 'woman': 7104, 'seem': 5579, 'stolen': 6087, 'form': 2535, 'respect': 5283, 'tends': 6369, 'boy': 748, 'scatterbrain': 5507, 'forgets': 2530, 'hundred': 3188, 'tornado': 6546, 'feet': 2369, 'spot': 5996, 'safest': 5452, 'bunker': 854, 'pregnant': 4886, 'infertile': 3309, 'pg': 4713, 'accessory': 30, 'doesn': 1859, 'horrid': 3138, 'grow': 2850, 'express': 2259, 'sizes': 5776, 'changing': 1034, 'give': 2731, 'commitment': 1239, 'assume': 350, 'defintely': 1661, 'disney': 1822, 'second': 5566, 'bunch': 851, 'parks': 4599, 'characters': 1044, 'meeting': 4009, 'rides': 5336, 'annual': 228, 'pictures': 4738, 'siblings': 5729, 'bracket': 752, 'fearful': 2349, 'older': 4424, 'turning': 6681, 'step': 6062, 'aging': 143, 'process': 4937, 'stride': 6133, 'bother': 731, 'related': 5196, 'president': 4899, 'accept': 24, 'democracy': 1679, 'replacement': 5257, 'table': 6293, 'knocked': 3598, 'disappointing': 1792, 'shattered': 5653, 'fairly': 2300, 'run': 5419, 'name': 4223, 'doodles': 1887, 'ugh': 6715, 'insulin': 3361, 'diabetes': 1742, 'blind': 671, 'occupation': 4391, 'teacher': 6336, 'finish': 2431, 'full': 2617, 'noble': 4325, 'successful': 6176, 'lung': 3864, 'needs': 4256, 'transplant': 6604, 'health': 2991, 'sudden': 6186, 'done': 1880, 'gradually': 2796, 'deserve': 1706, 'happening': 2932, 'genetic': 2693, 'copd': 1379, 'scheduled': 5512, 'deserved': 1707, 'list': 3754, 'lungs': 3865, 'meantime': 3993, 'peace': 4649, 'asap': 328, 'praying': 4875, 'prayers': 4874, 'appreciate': 284, 'welcome': 7001, 'disaapeared': 1785, 'disappear': 1788, 'depressing': 1696, 'dying': 1995, 'coyotes': 1444, 'woods': 7116, 'hunted': 3194, 'theres': 6428, 'assignments': 348, 'relief': 5213, 'cruise': 1506, 'cruising': 1509, 'open': 4446, 'moon': 4141, 'engineering': 2110, 'filler': 2407, 'physics': 4726, 'courses': 1429, 'calc': 892, 'nailed': 4220, 'secluded': 5565, 'elated': 2053, 'celebrate': 997, 'proposed': 4971, 'anniversary': 223, 'evening': 2184, 'six': 5771, 'gorgeous': 2774, 'soooo': 5923, 'ya': 7175, 'initially': 3324, 'neighborhood': 4264, 'messaging': 4035, 'neighbor': 4263, 'goofing': 2769, 'bus': 865, 'became': 543, 'diner': 1772, 'spending': 5969, 'committing': 1241, 'regret': 5187, 'sweethearts': 6263, 'become': 547, 'grown': 2854, 'lucky': 3855, 'motivates': 4161, 'outlook': 4500, 'futures': 2642, 'refreshing': 5172, 'wishing': 7089, 'regards': 5182, 'afford': 125, 'earth': 2010, 'grandfather': 2808, 'hungry': 3192, 'yesterday': 7199, 'opened': 4447, 'ingredients': 3321, 'sandwich': 5471, 'hearty': 3005, 'hunger': 3191, 'thrilled': 6460, 'conquer': 1324, 'ecstatic': 2029, 'fit': 2446, 'tend': 6368, 'doctors': 1856, 'pile': 4744, 'scooby': 5522, 'doo': 1886, 'cancelled': 919, 'low': 3845, 'growling': 2852, 'camping': 914, 'sounded': 5937, 'tent': 6376, 'wolf': 7102, 'awoke': 431, 'examine': 2207, 'shined': 5669, 'flashlight': 2460, 'unzipped': 6808, 'slowly': 5825, 'carefully': 951, 'tiny': 6498, 'stray': 6113, 'wolfie': 7103, 'late': 3647, 'convinced': 1365, 'swore': 6282, 'robber': 5365, 'tv': 6687, 'oops': 4445, 'toed': 6515, 'tip': 6499, 'realized': 5119, 'mace': 3874, 'downstairs': 1912, 'jumped': 3527, 'grabbed': 2789, 'king': 3581, 'arthur': 323, 'deer': 1647, 'realizing': 5120, 'loud': 3832, 'families': 2309, 'massacred': 3950, 'nigeria': 4310, 'extremists': 2272, 'reading': 5111, 'persecuted': 4689, 'christians': 1111, 'occurred': 4394, 'encourage': 2095, 'spread': 6001, 'pray': 4871, 'others': 4481, 'helping': 3029, 'improve': 3275, 'agreed': 146, 'crossing': 1502, 'drive': 1949, 'cautious': 992, 'shaking': 5641, 'driver': 1951, 'sees': 5583, 'possible': 4843, 'defensive': 1655, 'safe': 5449, 'wonder': 7107, 'ex': 2203, 'picture': 4737, 'rate': 5093, 'childish': 1084, 'drives': 1953, 'beat': 537, 'jalopi': 3455, 'dated': 1591, 'progress': 4952, 'bitter': 650, 'compare': 1255, 'character': 1042, 'frustrated': 2605, 'concerned': 1288, 'struggling': 6147, 'trials': 6633, 'comparison': 1258, 'forgiving': 2531, 'everywhere': 2198, 'consequences': 1329, 'behavior': 571, 'focus': 2494, 'yelled': 7193, 'bite': 646, 'luckily': 3853, 'walking': 6920, 'stomped': 6089, 'loudly': 3833, 'loose': 3813, 'brave': 764, 'ankle': 219, 'weren': 7006, 'infections': 3307, 'robbed': 5364, 'positive': 4836, 'intense': 3367, 'town': 6572, 'shapeshifter': 5645, 'following': 2503, 'black': 653, 'harry': 2953, 'potter': 4854, 'mice': 4051, 'dumbledore': 1981, 'exams': 2209, 'confident': 1303, 'dreams': 1938, 'teaching': 6339, 'teachers': 6337, 'underpaid': 6744, 'cousin': 1431, 'telling': 6360, 'heading': 2985, 'cant': 932, 'join': 3501, 'ooh': 4441, 'relationnship': 5197, 'reached': 5105, 'ignores': 3236, 'peole': 4665, 'greedy': 2827, 'ye': 7186, 'kill': 3570, 'greed': 2826, 'acceptance': 25, 'check': 1060, 'apprehensive': 287, 'medical': 4001, 'mail': 3884, 'letters': 3712, 'erupted': 2156, 'brilliant': 790, 'schools': 5517, 'applied': 277, 'crossed': 1501, 'sweet': 6260, 'fingers': 2429, 'kept': 3551, 'means': 3991, 'sharp': 5652, 'brain': 755, 'words': 7120, 'dream': 1935, 'competing': 1261, 'firm': 2440, 'joined': 3502, 'else': 2069, 'earn': 2005, 'may': 3973, 'hahaha': 2895, 'game': 2655, 'sabotage': 5437, 'skills': 5784, 'vengeance': 6861, 'air': 157, 'aggressive': 142, 'indeed': 3296, 'punishment': 5004, 'revenge': 5318, 'conjuring': 1319, 'seen': 5582, 'buff': 822, 'horror': 3142, 'movies': 4177, 'power': 4859, 'implying': 3266, 'consumes': 1343, 'globe': 2744, 'politicians': 4815, 'frustrating': 2607, 'jealousy': 3464, 'kicks': 3562, 'root': 5391, 'hatred': 2968, 'u': 6710, 'consumed': 1342, 'th': 6400, 'grade': 2794, 'spelling': 5966, 'bee': 553, 'trust': 6659, 'charity': 1048, 'fundraising': 2628, 'education': 2036, 'refuse': 5175, 'exist': 2232, 'freaks': 2559, 'hostile': 3150, 'wao': 6933, 'looks': 3809, 'funny': 2636, 'prettiest': 4907, 'scare': 5497, 'phobias': 4719, 'fears': 2351, 'chains': 1018, 'gold': 2756, 'hardworking': 2948, 'automatically': 403, 'cox': 1442, 'tomorrow': 6526, 'camp': 910, 'depressed': 1694, 'kick': 3559, 'counseling': 1416, 'terrified': 6383, 'snakes': 5859, 'python': 5029, 'destroy': 1722, 'suck': 6179, 'passes': 4621, 'wisely': 7085, 'whenever': 7018, 'spends': 5970, 'labor': 3615, 'dead': 1609, 'currently': 1541, 'gap': 2662, 'tosay': 6552, 'nic': 4303, 'quit': 5047, 'forgot': 2533, 'trouble': 6649, 'watch': 6955, 'travelling': 6620, 'russia': 5431, 'bucket': 815, 'item': 3441, 'contest': 1347, 'tickets': 6484, 'vaccine': 6837, 'dtap': 1970, 'reaction': 5108, 'couldnt': 1415, 'engaged': 2107, 'ohh': 4414, 'congratulate': 1316, 'behalf': 568, 'along': 183, 'dies': 1757, 'front': 2598, 'kidding': 3564, 'weeding': 6986, 'worring': 7138, 'yup': 7225, 'fullest': 2618, 'whim': 7029, 'lottery': 3830, 'ticket': 6483, 'scratcher': 5534, 'numbers': 4365, 'none': 4331, 'overprotective': 4526, 'nooooo': 4336, 'outgoing': 4498, 'smart': 5833, 'basement': 509, 'lock': 3788, 'disappointed': 1791, 'breaking': 769, 'marathon': 3923, 'participate': 4605, 'support': 6217, 'crutches': 1513, 'marathons': 3924, 'future': 2641, 'nightmare': 4315, 'jail': 3452, 'realize': 5118, 'changed': 1032, 'shows': 5717, 'show': 5711, 'stephen': 6064, 'hulu': 3178, 'episode': 2144, 'thik': 6434, 'whole': 7041, 'season': 5561, 'townhome': 6573, 'community': 1247, 'nieces': 4309, 'four': 2548, 'birth': 642, 'greats': 2825, 'called': 896, 'names': 4225, 'fat': 2328, 'wore': 7121, 'gathering': 2675, 'library': 3718, 'magic': 3882, 'pushed': 5021, 'wall': 6923, 'lunch': 3861, 'bathroom': 517, 'fights': 2399, 'hurricane': 3199, 'fell': 2371, 'tree': 6629, 'florida': 2485, 'application': 276, 'resume': 5301, 'ask': 336, 'missing': 4100, 'hr': 3166, 'followed': 2501, 'department': 1688, 'complaining': 1266, 'annoying': 226, 'kindof': 3579, 'biased': 619, 'feathers': 2354, 'ruffle': 5413, 'chances': 1029, 'specific': 5958, 'questions': 5042, 'homework': 3111, 'foreclosed': 2522, 'modification': 4121, 'loan': 3779, 'lender': 3699, 'contacted': 1345, 'changes': 1033, 'exhaused': 2227, 'drained': 1923, 'moms': 4131, 'deferments': 1656, 'dump': 1982, 'freedom': 2562, 'began': 560, 'wipers': 7080, 'boss': 726, 'early': 2004, 'dang': 1573, 'workers': 7127, 'mention': 4026, 'neat': 4246, 'handy': 2918, 'regional': 5183, 'chain': 1017, 'whataburger': 7011, 'burger': 856, 'chili': 1086, 'tastiest': 6325, 'burgers': 857, 'aces': 44, 'nintendo': 4321, 'mario': 3931, 'switch': 6276, 'n': 4214, 'lunchbox': 3862, 'packed': 4552, 'disheartened': 1817, 'milk': 4070, 'starting': 6038, 'curdle': 1533, 'stinks': 6080, 'expired': 2251, 'frugal': 2601, 'drink': 1945, 'save': 5482, 'meal': 3985, 'spilled': 5975, 'unable': 6722, 'spoiled': 5986, 'disheartening': 1818, 'toe': 6514, 'anguish': 216, 'despair': 1713, 'stubbed': 6148, 'shower': 5713, 'er': 2148, 'stall': 6022, 'pesky': 4701, 'bent': 600, 'permanently': 4686, 'goofy': 2770, 'haunted': 2970, 'halloween': 2906, 'strange': 6107, 'flicker': 2468, 'noises': 4329, 'spooked': 5991, 'supermarket': 6214, 'enraged': 2123, 'checking': 1063, 'harm': 2950, 'human': 3179, 'boil': 697, 'glance': 2740, 'quick': 5043, 'longer': 3803, 'unless': 6782, 'magical': 3883, 'truly': 6655, 'dance': 1568, 'experiences': 2247, 'dances': 1570, 'romantic': 5385, 'slow': 5823, 'garden': 2666, 'dandelions': 1572, 'eaten': 2019, 'bugs': 831, 'noticed': 4352, 'devoured': 1741, 'flowers': 2487, 'liked': 3737, 'plant': 4772, 'card': 943, 'anywhere': 255, 'prepaid': 4887, 'win': 7063, 'necklace': 4250, 'jewelry': 3484, 'dinner': 1773, 'graduating': 2799, 'restaurant': 5294, 'expensive': 2244, 'angeles': 213, 'los': 3817, 'remaining': 5220, 'fatcats': 2331, 'theyre': 6432, 'goes': 2753, 'hawaii': 2977, 'la': 3613, 'orleans': 4476, 'california': 894, 'city': 1130, 'tolerate': 6521, 'intend': 3366, 'temperature': 6362, 'isnt': 3433, 'renting': 5246, 'cold': 1201, 'degrees': 1664, 'rare': 5089, 'box': 744, 'tbh': 6333, 'c': 883, 'euros': 2175, 'apartament': 258, 'insanity': 3338, 'feels': 2368, 'healthcare': 2992, 'rent': 5244, 'affordable': 126, 'deny': 1686, 'illegally': 3243, 'decided': 1635, 'eu': 2171, 'regardless': 5181, 'afforadable': 124, 'piece': 4739, 'skype': 5792, 'bff': 618, 'constantly': 1338, 'actual': 68, 'text': 6397, 'dementia': 1678, 'funeral': 2630, 'standpoint': 6025, 'marriage': 3939, 'approach': 288, 'lotto': 3831, 'million': 4072, 'share': 5647, 'problems': 4935, 'small': 5829, 'fortunately': 2542, 'thnik': 6443, 'joint': 3504, 'fire': 2435, 'wont': 7111, 'o': 4374, 'freaking': 2558, 'registering': 5185, 'favor': 2337, 'companion': 1250, 'asked': 337, 'understood': 6751, 'probably': 4933, 'worry': 7140, 'wating': 6964, 'die': 1755, 'aren': 302, 'pastures': 4630, 'greener': 2829, 'alley': 178, 'benefits': 598, 'unhappy': 6768, 'side': 5732, 'humit': 3183, 'f': 2278, 'daugher': 1595, 'junior': 3533, 'teenager': 6354, 'force': 2517, 'becoming': 549, 'bed': 550, 'freak': 2555, 'whoa': 7039, 'casper': 975, 'stereotypical': 6069, 'midnight': 4058, 'pan': 4568, 'backseat': 449, 'chihuahua': 1080, 'accidentally': 32, 'devil': 1738, 'grandson': 2817, 'neighbors': 4266, 'terrifying': 6387, 'flipping': 2475, 'bites': 647, 'bark': 497, 'theme': 6417, 'consider': 1330, 'posters': 4848, 'surprise': 6232, 'far': 2318, 'colony': 1213, 'watched': 6956, 'assuming': 352, 'awh': 428, 'playing': 4781, 'toddler': 6512, 'spider': 5972, 'frighting': 2593, 'cats': 986, 'crap': 1458, 'giant': 2720, 'vehicle': 6858, 'although': 193, 'danger': 1574, 'losing': 3822, 'foreclosure': 2523, 'loaned': 3780, 'saved': 5483, 'admire': 93, 'emotionally': 2082, 'tense': 6373, 'corrective': 1397, 'shut': 5726, 'supposed': 6222, 'europe': 2173, 'adjust': 87, 'communicate': 1244, 'extended': 2264, 'immediate': 3258, 'strengthen': 6123, 'communication': 1246, 'imcompent': 3254, 'nepotism': 4274, 'dumbest': 1980, 'slightly': 5815, 'understands': 6750, 'infuriating': 3319, 'miscarriage': 4091, 'comedy': 1222, 'oooh': 4443, 'forever': 2528, 'betrayed': 610, 'shooting': 5688, 'message': 4034, 'personal': 4695, 'call': 895, 'thou': 6447, 'sand': 5470, 'named': 4224, 'across': 55, 'worse': 7142, 'avoided': 410, 'tragedy': 6587, 'prevention': 4910, 'coaster': 1187, 'riding': 5338, 'roller': 5379, 'nerve': 4276, 'pride': 4917, 'adrenaline': 106, 'wracking': 7154, 'coasters': 1188, 'nasty': 4233, 'crash': 1460, 'earlier': 2003, 'tight': 6490, 'truck': 6652, 'yahooo': 7179, 'spoil': 5985, 'jetset': 3482, 'showy': 5718, 'headed': 2983, 'ton': 6527, 'malicious': 3902, 'dads': 1561, 'traded': 6582, 'khawi': 3558, 'spurs': 6006, 'leonard': 3704, 'seemed': 5580, 'fate': 2332, 'seal': 5556, 'mind': 4074, 'forced': 2518, 'potentially': 4853, 'deadset': 1612, 'technology': 6352, 'language': 3638, 'received': 5133, 'certification': 1014, 'teach': 6335, 'lined': 3746, 'asia': 333, 'speaking': 5953, 'despite': 1719, 'comprehending': 1279, 'nail': 4219, 'rewarding': 5325, 'project': 4953, 'unexpected': 6756, 'given': 2733, 'saver': 5484, 'fund': 2626, 'emergency': 2079, 'choice': 1099, 'graduate': 2797, 'delaware': 1667, 'wanting': 6931, 'shirt': 5675, 'mood': 4140, 'comfort': 1225, 'provide': 4979, 'rainbow': 5064, 'bridge': 787, 'johnson': 3500, 'wouldnt': 7148, 'bestfriend': 604, 'kevin': 3554, 'hart': 2954, 'summertime': 6202, 'dislike': 1821, 'leisure': 3697, 'light': 3730, 'fact': 2287, 'request': 5267, 'return': 5310, 'emails': 2073, 'serene': 5614, 'partner': 4612, 'wild': 7053, 'dealing': 1617, 'cleaning': 1145, 'afterwards': 135, 'thrones': 6463, 'april': 295, 'release': 5208, 'missed': 4098, 'cry': 1514, 'office': 4409, 'counselor': 1417, 'choked': 1102, 'wasnt': 6949, 'blame': 656, 'cause': 988, 'knife': 3595, 'behave': 569, 'weirdly': 6998, 'initial': 3323, 'cooler': 1374, 'hydrated': 3211, 'yall': 7181, 'self': 5589, 'treat': 6623, 'manager': 3912, 'hiring': 3075, 'illegal': 3242, 'tire': 6501, 'volunteered': 6899, 'fix': 2449, 'flat': 2461, 'stranger': 6108, 'skeptical': 5778, 'amusement': 208, 'top': 6542, 'rescued': 5271, 'various': 6852, 'reasons': 5125, 'planned': 4769, 'fancy': 2314, 'board': 689, 'games': 2657, 'stand': 6023, 'bitten': 649, 'venom': 6862, 'uneasy': 6754, 'roomate': 5389, 'healthy': 2994, 'adopt': 101, 'allergic': 176, 'finds': 2425, 'strays': 6115, 'loves': 3841, 'happ': 2925, 'smiling': 5844, 'laugh': 3651, 'takes': 6301, 'obtain': 4386, 'committed': 1240, 'contact': 1344, 'calling': 897, 'cost': 1403, 'appear': 269, 'devastated': 1730, 'class': 1137, 'storm': 6098, 'predicted': 4882, 'randomly': 5080, 'hardest': 2944, 'wrecked': 7158, 'healed': 2988, 'knee': 3592, 'escaped': 2159, 'minor': 4085, 'injury': 3328, 'states': 6046, 'biggest': 625, 'benefit': 597, 'hoping': 3133, 'touched': 6559, 'hide': 3049, 'hid': 3047, 'area': 300, 'known': 3604, 'tornadoes': 6547, 'bridesmaid': 785, 'ceremony': 1010, 'danced': 1569, 'ice': 3219, 'pond': 4817, 'falling': 2307, 'ricky': 5331, 'dug': 1976, 'hole': 3099, 'punch': 5001, 'escalate': 2157, 'windstorm': 7068, 'shingles': 5671, 'roof': 5387, 'intently': 3372, 'stood': 6090, 'flipped': 2474, 'significant': 5740, 'monsters': 4136, 'closet': 1163, 'hallway': 2908, 'tricks': 6635, 'cousins': 1432, 'hated': 2963, 'coworkers': 1441, 'rescue': 5270, 'awwwww': 437, 'kicking': 3561, 'starved': 6043, 'overbred': 4511, 'fired': 2437, 'condolences': 1298, 'alright': 187, 'union': 6772, 'transportation': 6605, 'reduced': 5163, 'shotgun': 5700, 'stoked': 6085, 'woodland': 7115, 'hunt': 3193, 'critters': 1498, 'michigan': 4053, 'bambi': 476, 'cabin': 885, 'hunter': 3195, 'opposite': 4455, 'billet': 630, 'software': 5888, 'developers': 1736, 'managing': 3914, 'promotions': 4961, 'talented': 6304, 'managed': 3911, 'unforgivable': 6761, 'twinkie': 6695, 'crime': 1493, 'forbidden': 2516, 'dare': 1578, 'taste': 6324, 'substitute': 6169, 'puppy': 5010, 'cutest': 1550, 'toy': 6574, 'poodle': 4818, 'deep': 1645, 'expenses': 2243, 'considered': 1332, 'tuition': 6670, 'challenge': 1024, 'enormous': 2121, 'lies': 3722, 'ahead': 149, 'intimidating': 3388, 'traumatizing': 6615, 'friendly': 2583, 'plane': 4767, 'drugs': 1965, 'redemption': 5161, 'accomplished': 36, 'incredibly': 3294, 'props': 4973, 'chip': 1092, 'na': 4215, 'wednesday': 6983, 'grand': 2802, 'floating': 2478, 'pulling': 4996, 'poisonous': 4807, 'shouting': 5708, 'easily': 2014, 'booked': 710, 'hah': 2892, 'prank': 4869, 'event': 2186, 'august': 392, 'celebration': 1000, 'corner': 1391, 'badly': 459, 'bummer': 848, 'interview': 3384, 'upsetting': 6815, 'specifically': 5959, 'lawyer': 3661, 'brian': 783, 'wwe': 7168, 'wrestler': 7160, 'hung': 3190, 'thump': 6473, 'upstairs': 6817, 'gun': 2874, 'locked': 3790, 'weapon': 6972, 'attacks': 369, 'experiencing': 2248, 'eternity': 2168, 'folks': 2499, 'entered': 2128, 'meaningless': 3990, 'retreat': 5307, 'embrace': 2077, 'affects': 122, 'trauma': 6611, 'ground': 2844, 'safer': 5451, 'race': 5054, 'acomplish': 53, 'swam': 6248, 'competitive': 1263, 'othe': 4479, 'ants': 240, 'fond': 2505, 'buggers': 830, 'admitted': 97, 'eventual': 2188, 'recovery': 5156, 'hopes': 3132, 'replaced': 5256, 'debit': 1627, 'aw': 412, 'app': 264, 'transaction': 6597, 'mobile': 4114, 'typically': 6708, 'misused': 4108, 'sending': 5598, 'fortunate': 2541, 'crushing': 1512, 'screeching': 5540, 'metal': 4040, 'beating': 540, 'traumatized': 6614, 'totaled': 6556, 'staples': 6028, 'september': 5612, 'hotter': 3153, 'degree': 1663, 'waterbugs': 6962, 'waterbug': 6961, 'ole': 4426, 'crawled': 1466, 'grandmas': 2811, 'fly': 2491, 'hoped': 3127, 'swatter': 6252, 'available': 406, 'swatted': 6251, 'beast': 536, 'retire': 5303, 'ro': 5355, 'expected': 2240, 'sort': 5931, 'jeeps': 3467, 'driven': 1950, 'jeep': 3466, 'tank': 6313, 'musician': 4199, 'skill': 5783, 'musical': 4198, 'appeals': 268, 'checked': 1061, 'shelters': 5662, 'microchip': 4054, 'tought': 6562, 'thanksgiving': 6408, 'gonna': 2764, 'toothpick': 6540, 'trick': 6634, 'held': 3021, 'screw': 5543, 'glue': 2746, 'wood': 7113, 'attempts': 373, 'pleasant': 4784, 'yay': 7185, 'tires': 6503, 'pilot': 4746, 'newer': 4295, 'model': 4118, 'ducks': 1972, 'tehre': 6357, 'count': 1418, 'color': 1214, 'fathers': 2334, 'brown': 803, 'heartbeat': 3000, 'hey': 3045, 'sneeze': 5866, 'neice': 4261, 'books': 712, 'read': 5110, 'within': 7093, 'whilst': 7028, 'discover': 1805, 'privelege': 4928, 'adorable': 105, 'kings': 3582, 'tune': 6672, 'castle': 977, 'male': 3899, 'shop': 5690, 'colleague': 1205, 'coffee': 1195, 'sane': 5472, 'treatment': 6626, 'musicians': 4200, 'violinist': 6879, 'pianist': 4727, 'raising': 5073, 'arent': 303, 'colors': 1216, 'chosen': 1108, 'trivial': 6646, 'barbies': 493, 'apart': 257, 'possibly': 4844, 'pm': 4795, 'fantastic': 2316, 'bosses': 727, 'feedback': 2362, 'charasmatic': 1045, 'animals': 218, 'overfull': 4519, 'filthy': 2412, 'tied': 6487, 'barking': 498, 'weather': 6978, 'panicked': 4573, 'despicable': 1716, 'drinking': 1946, 'rope': 5393, 'watering': 6963, 'feeding': 2364, 'threatened': 6454, 'sketchy': 5779, 'owner': 4542, 'animal': 217, 'nicer': 4305, 'trash': 6610, 'loaded': 3777, 'crank': 1457, 'weirdos': 7000, 'attract': 384, 'date': 1590, 'destined': 1721, 'marry': 3942, 'parent': 4591, 'belong': 587, 'act': 56, 'natural': 4235, 'teenagers': 6355, 'enclave': 2093, 'buick': 832, 'suv': 6245, 'slick': 5812, 'negative': 4257, 'yessssss': 7198, 'dayyyyyyyyyy': 1605, 'faith': 2302, 'employed': 2084, 'fully': 2620, 'whoever': 7040, 'bully': 846, 'tha': 6401, 'smarter': 5834, 'putting': 5028, 'poke': 4808, 'boot': 716, 'boots': 717, 'cow': 1438, 'trusty': 6661, 'dispose': 1830, 'bill': 629, 'windows': 7066, 'window': 7065, 'flew': 2466, 'amount': 206, 'candy': 924, 'store': 6095, 'handling': 2916, 'weight': 6993, 'gain': 2646, 'envy': 2140, 'gains': 2649, 'eats': 2022, 'stopped': 6092, 'turtle': 6684, 'chase': 1049, 'faster': 2326, 'breath': 774, 'runt': 5423, 'recovering': 5154, 'explain': 2252, 'pulled': 4994, 'focused': 2495, 'room': 5388, 'isolation': 3435, 'drove': 1960, 'ouch': 4484, 'commited': 1238, 'knew': 3594, 'roadkill': 5359, 'bears': 535, 'rotting': 5396, 'crows': 1504, 'outsside': 4505, 'shopping': 5692, 'grovery': 2849, 'cops': 1384, 'stalking': 6021, 'bang': 479, 'nemo': 4271, 'ish': 3430, 'biological': 636, 'sooooo': 5924, 'vacations': 6836, 'netflix': 4283, 'wet': 7009, 'killer': 3572, 'profiling': 4948, 'fbi': 2345, 'serial': 5615, 'eve': 2182, 'killing': 3573, 'thrillers': 6461, 'conference': 1301, 'needless': 4255, 'singles': 5754, 'church': 1122, 'struck': 6143, 'lightning': 3733, 'goner': 2763, 'thunder': 6474, 'pig': 4741, 'guinea': 2870, 'sisters': 5762, 'st': 6013, 'raccoon': 5052, 'garbage': 2665, 'digging': 1767, 'hu': 3169, 'screaming': 5539, 'surprised': 6233, 'raccoons': 5053, 'raman': 5076, 'ramen': 5077, 'delicious': 1669, 'worrying': 7141, 'remodeling': 5235, 'dreaming': 1937, 'renovated': 5243, 'ideas': 3225, 'hers': 3040, 'morose': 4150, 'acting': 58, 'fault': 2335, 'vibes': 6871, 'prefer': 4883, 'blow': 681, 'winning': 7074, 'alcohol': 170, 'annoyed': 225, 'careless': 952, 'aww': 433, 'lonely': 3799, 'ugly': 6716, 'rusty': 5434, 'october': 4397, 'ops': 4457, 'duty': 1992, 'pre': 4876, 'ordered': 4466, 'beta': 608, 'moth': 4155, 'kk': 3591, 'abnout': 10, 'cage': 890, 'prison': 4925, 'insane': 3336, 'showed': 5712, 'signs': 5741, 'interest': 3373, 'grab': 2788, 'gunning': 2875, 'homeless': 3105, 'bucks': 816, 'coins': 1200, 'toss': 6553, 'med': 3998, 'applying': 280, 'drunk': 1966, 'court': 1430, 'incident': 3283, 'offense': 4404, 'reckless': 5142, 'arrange': 318, 'responsible': 5291, 'uber': 6711, 'grandmothers': 2813, 'selling': 5593, 'farm': 2320, 'interested': 3374, 'muster': 4204, 'courage': 1427, 'dumps': 1985, 'racing': 5056, 'elementary': 2064, 'remain': 5219, 'success': 6175, 'relieved': 5216, 'search': 5558, 'gates': 2673, 'microsoft': 4056, 'everybody': 2193, 'roam': 5362, 'oreo': 4470, 'alive': 174, 'awwww': 435, 'knock': 3597, 'letting': 3713, 'garage': 2663, 'subway': 6171, 'subways': 6172, 'particularly': 4608, 'overall': 4508, 'memory': 4021, 'diapers': 1750, 'hectic': 3013, 'newborns': 4294, 'helpful': 3028, 'kitten': 3587, 'traffic': 6585, 'colorado': 1215, 'resort': 5281, 'ski': 5780, 'skiing': 5782, 'iraq': 3416, 'five': 2448, 'palm': 4566, 'size': 5774, 'glee': 2742, 'puppies': 5009, 'rottweillers': 5397, 'mixed': 4111, 'mutts': 4206, 'labs': 3616, 'landlord': 3635, 'chug': 1118, 'beer': 557, 'chugging': 1119, 'reminds': 5231, 'practicing': 4866, 'happiest': 2935, 'delighted': 1671, 'member': 4015, 'studied': 6152, 'results': 5300, 'midterm': 4059, 'preparation': 4888, 'mark': 3933, 'sleepy': 5807, 'studying': 6156, 'fallen': 2306, 'asleep': 340, 'overwhelming': 4534, 'bliss': 674, 'carry': 962, 'party': 4615, 'ucomfortable': 6713, 'gradating': 2793, 'straight': 6104, 'graduation': 2800, 'partied': 4609, 'clothes': 1167, 'discounts': 1802, 'york': 7206, 'lare': 3640, 'beginning': 565, 'pair': 4560, 'wear': 6974, 'ive': 3447, 'jordans': 3511, 'despise': 1717, 'strongly': 6142, 'shoes': 5684, 'enjoyed': 2117, 'sleazy': 5801, 'dear': 1621, 'confirm': 1306, 'messy': 4038, 'noisy': 4330, 'eventualy': 2190, 'brought': 802, 'wage': 6908, 'role': 5374, 'double': 1895, 'weekends': 6990, 'group': 2847, 'lets': 3710, 'aim': 155, 'orange': 4463, 'hbo': 2979, 'oz': 4546, 'throughout': 6465, 'waited': 6910, 'spinned': 5978, 'failed': 2295, 'units': 6776, 'hustle': 3210, 'repeat': 5251, 'rsxs': 5408, 'acura': 71, 'motivation': 4162, 'advice': 116, 'leaving': 3685, 'recall': 5130, 'suffering': 6190, 'cinema': 1125, 'film': 2408, 'action': 59, 'surprisingly': 6235, 'screen': 5541, 'visual': 6891, 'films': 2410, 'effects': 2042, 'struggled': 6145, 'bossom': 728, 'concert': 1289, 'locals': 3784, 'rad': 5059, 'outdoor': 4495, 'installed': 3350, 'waste': 6951, 'maintainance': 3890, 'routine': 5403, 'midwife': 4062, 'pregnancy': 4885, 'sunny': 6208, 'afternoon': 134, 'survived': 6239, 'bmw': 687, 'cor': 1386, 'purchased': 5012, 'factory': 2290, 'cheaper': 1056, 'carolina': 957, 'south': 5940, 'somewhere': 5914, 'spartanburg': 5951, 'hanging': 2921, 'mommy': 4130, 'humans': 3180, 'impact': 3262, 'bird': 640, 'prayer': 4873, 'aspriing': 342, 'homeowner': 3106, 'empty': 2089, 'unsderstand': 6800, 'entirely': 2133, 'zelda': 7229, 'appropriate': 290, 'tons': 6532, 'kart': 3545, 'splatoon': 5982, 'fans': 2315, 'picked': 4729, 'basketball': 513, 'therefore': 6427, 'preparing': 4891, 'achieved': 47, 'teams': 6342, 'status': 6049, 'between': 614, 'switching': 6278, 'forth': 2540, 'legendary': 3693, 'prove': 4978, 'bumping': 850, 'knocking': 3599, 'bat': 515, 'baseball': 507, 'stairs': 6019, 'relived': 5217, 'aweful': 422, 'argument': 311, 'argue': 310, 'conversation': 1361, 'speaks': 5954, 'ease': 2012, 'woke': 7100, 'mostly': 4154, 'apologize': 262, 'listening': 3759, 'besides': 602, 'bound': 737, 'panties': 4577, 'awwwwe': 436, 'relationships': 5201, 'boring': 722, 'alcoholic': 171, 'drank': 1928, 'searching': 5560, 'interviewing': 3385, 'thankful': 6405, 'blessings': 669, 'dumped': 1983, 'coping': 1382, 'term': 6378, 'audi': 388, 'audis': 390, 'r': 5049, 'blue': 685, 'hello': 3024, 'saturday': 5481, 'hidden': 3048, 'cab': 884, 'locate': 3785, 'compapny': 1254, 'willing': 7060, 'triple': 6643, 'conscience': 1326, 'content': 1346, 'imagined': 3252, 'robin': 5367, 'williams': 7059, 'impacted': 3263, 'likeable': 3736, 'fellow': 2373, 'acquaintances': 54, 'pissed': 4753, 'advancement': 112, 'possibilities': 4842, 'coolest': 1375, 'oldest': 4425, 'daycare': 1601, 'nearby': 4244, 'begin': 563, 'eh': 2048, 'thoughtful': 6450, 'supportive': 6219, 'purpose': 5016, 'interrupt': 3380, 'intentional': 3370, 'raised': 5072, 'morale': 4144, 'security': 5574, 'overdose': 4516, 'war': 6934, 'combat': 1217, 'arrived': 321, 'tapping': 6319, 'keyboard': 3556, 'mouse': 4172, 'essentials': 2163, 'computers': 1283, 'roulette': 5400, 'casino': 972, 'fails': 2297, 'matching': 3958, 'crib': 1490, 'nursery': 4367, 'adn': 99, 'sso': 6012, 'design': 1709, 'naturally': 4236, 'crafty': 1452, 'hippie': 3071, 'artistic': 325, 'covered': 1435, 'pics': 4736, 'expression': 2261, 'hailing': 2898, 'sky': 5790, 'ominous': 4431, 'expecting': 2241, 'tax': 6329, 'returns': 5313, 'income': 3286, 'equal': 2146, 'sex': 5634, 'nonexistent': 4333, 'greater': 2822, 'lovin': 3843, 'independent': 3298, 'journey': 3512, 'grief': 2833, 'farming': 2322, 'taught': 6327, 'canning': 927, 'gandma': 2659, 'blessed': 667, 'spirit': 5979, 'thinks': 6440, 'dress': 1940, 'shirts': 5676, 'rowdy': 5406, 'elephants': 2065, 'safari': 5448, 'hindsight': 3068, 'unlikely': 6784, 'prize': 4930, 'drawing': 1931, 'toothpaste': 6539, 'colgate': 1203, 'teeth': 6356, 'instant': 3352, 'thousand': 6452, 'motivated': 4160, 'tonsilitis': 6533, 'solid': 5893, 'injections': 3325, 'yogurt': 7205, 'soups': 5939, 'foods': 2509, 'unpleasant': 6791, 'secret': 5569, 'clicked': 1149, 'service': 5622, 'perpetrator': 4688, 'downer': 1903, 'stead': 6054, 'particular': 4607, 'cough': 1412, 'stared': 6031, 'malpractice': 3905, 'va': 6832, 'attorney': 383, 'butts': 878, 'paperwork': 4581, 'granted': 2818, 'aquarium': 296, 'sorts': 5932, 'activities': 63, 'cooked': 1369, 'thai': 6402, 'bonding': 703, 'bowl': 743, 'scorpion': 5527, 'poison': 4804, 'fumigate': 2621, 'boston': 729, 'sappy': 5474, 'however': 3163, 'serious': 5617, 'proper': 4964, 'background': 447, 'jumping': 3528, 'dealings': 1618, 'miserable': 4092, 'sylvestre': 6284, 'disowned': 1826, 'mothers': 4158, 'speak': 5952, 'teen': 6353, 'disowning': 1827, 'childbirth': 1082, 'maternal': 3961, 'instinct': 3356, 'elections': 2057, 'jude': 3518, 'infomercials': 3316, 'mafe': 3881, 'ma': 3872, 'aunt': 393, 'horrifying': 3141, 'battle': 522, 'chemo': 1071, 'havent': 2975, 'depending': 1690, 'mum': 4191, 'staying': 6052, 'italy': 3440, 'releasing': 5210, 'trillion': 6640, 'betray': 609, 'customer': 1546, 'base': 506, 'apple': 272, 'products': 4944, 'claim': 1134, 'tis': 6504, 'features': 2355, 'eyars': 2273, 'groundbreaking': 2845, 'wile': 7057, 'phones': 4721, 'allergies': 177, 'rid': 5333, 'visits': 6889, 'sucked': 6180, 'insanely': 3337, 'survive': 6238, 'book': 709, 'walked': 6918, 'hardly': 2945, 'niece': 4308, 'dirty': 1784, 'rating': 5096, 'rated': 5094, 'investigated': 3401, 'generate': 2688, 'scumbag': 5548, 'managment': 3915, 'friday': 2577, 'workday': 7123, 'def': 1648, 'grateful': 2820, 'blessing': 668, 'experienced': 2246, 'crashed': 1461, 'safely': 5450, 'unlike': 6783, 'shriek': 5722, 'jump': 3526, 'hesitation': 3043, 'gecko': 2680, 'recital': 5141, 'payed': 4643, 'members': 4016, 'famiy': 2311, 'jersey': 3478, 'unknown': 6781, 'heaven': 3009, 'shape': 5644, 'lowkey': 3847, 'inspired': 3346, 'unachievable': 6725, 'goal': 2748, 'miata': 4050, 'apply': 279, 'ill': 3241, 'se': 5551, 'coach': 1185, 'softball': 5886, 'gym': 2884, 'nuts': 4371, 'functioning': 2624, 'asks': 339, 'beings': 577, 'lucks': 3854, 'pot': 4849, 'dish': 1816, 'wine': 7070, 'parties': 4610, 'simple': 5746, 'bartending': 504, 'washing': 6947, 'machine': 3875, 'lighters': 3732, 'adoption': 104, 'russell': 5430, 'energetic': 2104, 'bridesmaids': 786, 'weddings': 6982, 'budget': 819, 'irk': 3419, 'bungee': 853, 'conquering': 1325, 'graduated': 2798, 'holds': 3098, 'sale': 5458, 'cheap': 1055, 'breats': 778, 'mercedes': 4029, 'petty': 4710, 'pplace': 4862, 'strain': 6105, 'pockets': 4798, 'cheesecake': 1068, 'dessert': 1720, 'enjoying': 2118, 'retired': 5304, 'sons': 5918, 'embarassing': 2074, 'fight': 2396, 'parenting': 4592, 'nephews': 4273, 'involved': 3410, 'services': 5623, 'reality': 5117, 'receive': 5132, 'notified': 4353, 'options': 4461, 'explore': 2256, 'deals': 1619, 'proposing': 4972, 'volvo': 6900, 'infiniti': 3311, 'haate': 2887, 'flood': 2479, 'flooding': 2481, 'expecially': 2237, 'level': 3714, 'drains': 1924, 'river': 5352, 'floods': 2482, 'skinny': 5786, 'gained': 2647, 'miserably': 4093, 'lakers': 3627, 'warriors': 6942, 'woo': 7112, 'hoo': 3121, 'skydiving': 5791, 'leap': 3671, 'x': 7169, 'bump': 849, 'ultimate': 6720, 'porsches': 4833, 'ford': 2520, 'porches': 4831, 'sedans': 5575, 'schedule': 5511, 'adapting': 76, 'scaredy': 5499, 'insidious': 3342, 'maddening': 3879, 'runner': 5420, 'moneys': 4134, 'threw': 6457, 'vitamins': 6893, 'absent': 15, 'ly': 3869, 'package': 4551, 'minded': 4075, 'admitting': 98, 'commend': 1233, 'avoiding': 411, 'buddies': 817, 'drew': 1943, 'asking': 338, 'attend': 374, 'flies': 2469, 'illinois': 3245, 'elder': 2054, 'gabe': 2645, 'canine': 926, 'emotions': 2083, 'cure': 1534, 'edm': 2034, 'hippies': 3072, 'listen': 3756, 'confused': 1310, 'dazed': 1606, 'key': 3555, 'inspiring': 3348, 'whats': 7013, 'smoking': 5849, 'weed': 6985, 'chemotherapy': 1072, 'ooo': 4442, 'tesla': 6389, 'environment': 2139, 'traverse': 6621, 'google': 2771, 'funerals': 2631, 'porsche': 4832, 'rown': 5407, 'ab': 3, 'alarming': 166, 'household': 3159, 'nanny': 4227, 'abortion': 11, 'anti': 237, 'hire': 3073, 'contraceptives': 1353, 'edge': 2031, 'continue': 1350, 'rountine': 5402, 'estranged': 2166, 'regain': 5178, 'perfume': 4679, 'pieces': 4740, 'uncertain': 6732, 'fuel': 2612, 'station': 6047, 'hour': 3155, 'visitor': 6887, 'build': 834, 'pc': 4648, 'opening': 4448, 'sharing': 5649, 'barbie': 492, 'edition': 2033, 'doll': 1868, 'hugged': 3174, 'ear': 2002, 'excellent': 2211, 'patient': 4635, 'toward': 6569, 'meself': 4032, 'defended': 1652, 'airport': 161, 'assigned': 346, 'doubt': 1896, 'pining': 4748, 'workplace': 7131, 'convinved': 1367, 'streak': 6116, 'attenton': 377, 'messing': 4037, 'colleagues': 1206, 'meanwhile': 3994, 'demand': 1676, 'tells': 6361, 'qualification': 5030, 'qualifications': 5031, 'counts': 1422, 'resources': 5282, 'advise': 117, 'denies': 1682, 'figured': 2402, 'meaning': 3987, 'unfortunatly': 6765, 'meaningfulness': 3989, 'brings': 793, 'exact': 2204, 'presentation': 4897, 'speech': 5960, 'confidence': 1302, 'abilities': 7, 'suddenly': 6187, 'inconvenient': 3288, 'technician': 6350, 'logical': 3793, 'opens': 4449, 'gifts': 2723, 'lego': 3695, 'creative': 1477, 'sets': 5625, 'pure': 5014, 'pooped': 4822, 'noise': 4328, 'engine': 2109, 'land': 3632, 'round': 5401, 'whipped': 7034, 'pistol': 4754, 'freezer': 2566, 'crush': 1510, 'crushed': 1511, 'prepare': 4889, 'covering': 1436, 'throught': 6466, 'auditorium': 391, 'polished': 4812, 'regrets': 5188, 'macan': 3873, 'assignment': 347, 'notice': 4350, 'stinking': 6079, 'pos': 4834, 'shockingly': 5682, 'taxes': 6330, 'fridaaay': 2576, 'fridays': 2578, 'sixteen': 5772, 'kangaroo': 3540, 'jaw': 3460, 'upper': 6813, 'sissy': 5760, 'shock': 5679, 'rico': 5332, 'puerto': 4991, 'rollercoaster': 5380, 'hermit': 3038, 'snap': 5860, 'tries': 6637, 'luxury': 3867, 'pffft': 4711, 'hilarious': 3063, 'spoiling': 5987, 'blown': 683, 'hating': 2967, 'minds': 4077, 'north': 4341, 'roommate': 5390, 'randoms': 5081, 'ad': 72, 'craigslist': 1453, 'televisions': 6358, 'tho': 6444, 'vegas': 6856, 'transferring': 6600, 'casinos': 973, 'birds': 641, 'feed': 2361, 'critter': 1497, 'cardinals': 944, 'hsp': 3167, 'innocent': 3332, 'suffer': 6188, 'evicted': 2199, 'evaluated': 2180, 'mental': 4025, 'salon': 5461, 'hair': 2899, 'theirs': 6415, 'candies': 922, 'candles': 923, 'alarm': 165, 'texts': 6399, 'system': 6288, 'happaned': 2926, 'slower': 5824, 'pinscher': 4749, 'miniature': 4082, 'purchase': 5011, 'omar': 4428, 'owners': 4543, 'sight': 5736, 'qualified': 5032, 'quality': 5034, 'overqualified': 4527, 'til': 6491, 'em': 2071, 'sendoff': 5599, 'thrift': 6458, 'designer': 1710, 'loser': 3819, 'walls': 6926, 'cries': 1492, 'lawn': 3659, 'property': 4967, 'grades': 2795, 'finger': 2427, 'ring': 5344, 'defeating': 1650, 'plenty': 4789, 'sea': 5552, 'fish': 2443, 'chased': 1050, 'mre': 4182, 'tested': 6392, 'rabies': 5051, 'diseases': 1814, 'highway': 3060, 'youre': 7214, 'sake': 5455, 'swerve': 6267, 'coupon': 1426, 'frappe': 2554, 'whip': 7032, 'caramel': 939, 'cream': 1473, 'coffees': 1196, 'tvs': 6688, 'mines': 4080, 'cuban': 1522, 'nba': 4241, 'minutes': 4088, 'dumpster': 1986, 'flashing': 2459, 'median': 4000, 'crying': 1515, 'hissing': 3078, 'swear': 6253, 'arms': 315, 'nightmares': 4316, 'consideration': 1331, 'feelings': 2367, 'bolted': 698, 'shrieked': 5723, 'banshee': 486, 'utter': 6830, 'rat': 5092, 'burned': 862, 'ate': 358, 'shot': 5699, 'littles': 3766, 'chainsaws': 1020, 'recommend': 5145, 'cofortable': 1197, 'civic': 1131, 'spotted': 5997, 'honda': 3112, 'harassing': 2940, 'abroad': 14, 'verbally': 6865, 'screamed': 5538, 'coincidentally': 1199, 'spaghetti': 5945, 'cooks': 1372, 'chicken': 1077, 'organs': 4472, 'hellp': 3025, 'shutting': 5727, 'syndrome': 6287, 'section': 5571, 'earning': 2007, 'iphone': 3413, 'moced': 4117, 'suburbs': 6170, 'md': 3983, 'fl': 2453, 'peeps': 4659, 'difference': 1761, 'girlfriends': 2729, 'quarter': 5036, 'bonuse': 706, 'relaxing': 5207, 'vaction': 6838, 'nyu': 4373, 'ohhhh': 4416, 'emotional': 2081, 'dramas': 1926, 'likt': 3741, 'inspiration': 3344, 'trumpet': 6657, 'blowing': 682, 'marijuana': 3929, 'lolol': 3796, 'ass': 343, 'legal': 3691, 'smothering': 5854, 'helicopter': 3022, 'spin': 5976, 'needing': 4254, 'picnic': 4735, 'pack': 4550, 'sunscreen': 6209, 'dragons': 1921, 'swinging': 6274, 'playground': 4779, 'swords': 6281, 'slaying': 5800, 'princesses': 4920, 'stays': 6053, 'rebuild': 5128, 'hip': 3070, 'bred': 779, 'bones': 704, 'mistreated': 4105, 'shaken': 5640, 'adult': 108, 'fireworks': 2438, 'bomb': 699, 'gunshots': 2879, 'balls': 475, 'vampire': 6847, 'fenced': 2378, 'locally': 3783, 'england': 2112, 'multiple': 4190, 'flashed': 2458, 'barbeque': 491, 'korean': 3609, 'drown': 1961, 'careful': 950, 'motorcycle': 4165, 'unsafe': 6798, 'idle': 3230, 'loses': 3821, 'finaly': 2418, 'peaceful': 4650, 'jackpot': 3450, 'damned': 1567, 'behaviors': 572, 'cared': 948, 'destructive': 1724, 'abuse': 20, 'ruining': 5417, 'continuing': 1352, 'heated': 3007, 'dumb': 1979, 'freely': 2564, 'business': 869, 'psychology': 4983, 'neighboors': 4262, 'monster': 4135, 'lad': 3620, 'wee': 6984, 'lurking': 3866, 'roaming': 5363, 'believed': 580, 'pacific': 4549, 'northwest': 4342, 'bigfoot': 623, 'gunpoint': 2876, 'cashier': 971, 'testify': 6393, 'boyfriends': 750, 'snuggle': 5874, 'chap': 1038, 'jolly': 3508, 'binge': 635, 'carrell': 959, 'steve': 6070, 'easter': 2016, 'egg': 2045, 'collected': 1208, 'eggs': 2046, 'collect': 1207, 'littler': 3765, 'cd': 995, 'afghanistan': 127, 'deployment': 1692, 'bury': 864, 'golden': 2757, 'retriever': 5309, 'pepper': 4667, 'springer': 6003, 'spaniel': 5947, 'pull': 4993, 'breathe': 775, 'sadness': 5446, 'youngest': 7212, 'wooded': 7114, 'swimmer': 6272, 'ticked': 6482, 'affect': 120, 'professional': 4946, 'marginally': 3928, 'tomato': 6524, 'butthurt': 876, 'serves': 5621, 'ruin': 5415, 'objects': 4380, 'mow': 4179, 'mansion': 3921, 'sized': 5775, 'mower': 4180, 'stopping': 6093, 'clown': 1174, 'afarid': 119, 'uncle': 6734, 'reunited': 5316, 'hump': 3186, 'catching': 983, 'physically': 4725, 'activity': 64, 'frenetic': 2570, 'hapy': 2939, 'complain': 1265, 'piper': 4750, 'pizza': 4760, 'peter': 4705, 'squeeze': 6010, 'hist': 3079, 'kansas': 3541, 'cherish': 1073, 'greatly': 2824, 'e': 1997, 'wouldv': 7149, 'expense': 2242, 'mutual': 4207, 'lead': 3666, 'altercation': 191, 'simply': 5748, 'verbal': 6864, 'defend': 1651, 'witnessed': 7096, 'apologized': 263, 'image': 3249, 'misunderstanding': 4107, 'stupid': 6160, 'pushover': 5023, 'whiny': 7031, 'brat': 763, 'disgusting': 1815, 'roach': 5356, 'ache': 45, 'chills': 1089, 'gross': 2843, 'roaches': 5357, 'biting': 648, 'heck': 3012, 'essentially': 2162, 'smaller': 5830, 'sleeps': 5806, 'plugs': 4792, 'ew': 2202, 'spiders': 5973, 'lifetime': 3727, 'woah': 7099, 'rigs': 5342, 'charged': 1047, 'army': 316, 'endured': 2102, 'immensely': 3260, 'costco': 1404, 'quantity': 5035, 'value': 6844, 'tag': 6297, 'membership': 4017, 'bulk': 840, 'unlimited': 6785, 'psyched': 4982, 'cooking': 1371, 'theses': 6430, 'cthat': 1520, 'football': 2512, 'bmws': 688, 'usa': 6820, 'civil': 1132, 'mist': 4102, 'iran': 3415, 'star': 6029, 'lunatic': 3860, 'nuclear': 4360, 'robot': 5368, 'stresffull': 6126, 'diet': 1758, 'bt': 810, 'stepping': 6066, 'dancing': 1571, 'grandchild': 2804, 'centipede': 1006, 'range': 5083, 'rover': 5404, 'crowd': 1503, 'venus': 6863, 'trap': 6606, 'jealously': 3463, 'decisions': 1637, 'suckks': 6183, 'dragonfly': 1920, 'chasing': 1052, 'corners': 1393, 'freaky': 2560, 'spooky': 5992, 'anybody': 245, 'scratches': 5535, 'damaged': 1564, 'cover': 1434, 'imagination': 3250, 'overjoyed': 4522, 'passings': 4623, 'daddy': 1560, 'anniversaries': 222, 'precious': 4880, 'fragile': 2550, 'temptation': 6364, 'rush': 5426, 'balance': 467, 'suspects': 6241, 'impossible': 3270, 'somebody': 5902, 'hug': 3172, 'excitement': 2218, 'gardening': 2667, 'shouted': 5707, 'resentful': 5275, 'understandlble': 6749, 'drowned': 1962, 'nearly': 4245, 'observant': 4383, 'cavs': 994, 'anyways': 253, 'rx': 5435, 'mazda': 3976, 'items': 3442, 'mall': 3903, 'goldfish': 2758, 'burial': 860, 'hence': 3032, 'kindergarten': 3578, 'bright': 788, 'milestone': 4068, 'socialize': 5881, 'nightlight': 4314, 'darkness': 1583, 'smartphone': 5836, 'freezing': 2567, 'frustrates': 2606, 'athletic': 360, 'supervisor': 6216, 'traits': 6596, 'develop': 1733, 'determination': 1729, 'concentrate': 1286, 'bearded': 534, 'dragon': 1919, 'anew': 212, 'ceiling': 996, 'comforter': 1228, 'ufc': 6714, 'dillishaw': 1770, 'slot': 5821, 'mistress': 4106, 'steampunk': 6059, 'slots': 5822, 'warning': 6939, 'knowing': 3602, 'anny': 229, 'aswell': 356, 'smell': 5840, 'knocks': 3600, 'smoke': 5846, 'roses': 5394, 'smelled': 5841, 'joke': 3505, 'farts': 2324, 'diabeties': 1744, 'decade': 1631, 'improvement': 3276, 'rooting': 5392, 'stranded': 6106, 'boat': 690, 'ghosted': 2713, 'chemistry': 1070, 'ignore': 3234, 'immediately': 3259, 'metioned': 4045, 'cheer': 1065, 'texting': 6398, 'answering': 235, 'control': 1358, 'accidents': 33, 'fatal': 2329, 'scariest': 5501, 'hurricaines': 3198, 'commonly': 1243, 'affected': 121, 'pelting': 4662, 'winds': 7067, 'debris': 1628, 'howling': 3164, 'except': 2212, 'hurricaine': 3197, 'downed': 1902, 'homes': 3107, 'unpredictable': 6793, 'biopsy': 639, 'stung': 6159, 'outsider': 4504, 'southern': 5941, 'hispanic': 3077, 'belle': 583, 'white': 7036, 'women': 7105, 'oddball': 4399, 'venemous': 6860, 'moccs': 4116, 'backyard': 454, 'indonesia': 3302, 'casualties': 979, 'disasters': 1795, 'prone': 4962, 'areas': 301, 'tragedies': 6586, 'battlefield': 523, 'ghostly': 2715, 'smudge': 5855, 'unsettling': 6802, 'photo': 4722, 'respectful': 5285, 'site': 5765, 'presence': 4895, 'rules': 5418, 'relationshio': 5199, 'chat': 1053, 'dreamy': 1939, 'send': 5597, 'invitation': 3405, 'judge': 3519, 'silly': 5743, 'illicit': 3244, 'emotion': 2080, 'notebook': 4347, 'colon': 1212, 'offered': 4406, 'enroll': 2124, 'righyt': 5341, 'selected': 5588, 'grey': 2832, 'instructor': 3358, 'yoga': 7204, 'fantasy': 2317, 'bout': 741, 'marissa': 3932, 'warnings': 6940, 'forecast': 2521, 'trees': 6630, 'hamster': 2910, 'sparky': 5950, 'tearful': 6344, 'ears': 2009, 'shelter': 5661, 'washed': 6945, 'twisters': 6698, 'include': 3284, 'petey': 4706, 'reminisce': 5232, 'invious': 3404, 'slackers': 5794, 'annoys': 227, 'bringing': 792, 'ha': 2886, 'appreciated': 285, 'fist': 2445, 'porch': 4829, 'terror': 6388, 'tower': 6571, 'rode': 5372, 'mgm': 4048, 'drops': 1959, 'position': 4835, 'promote': 4958, 'bu': 811, 'advantage': 113, 'louis': 3834, 'rubbing': 5411, 'brag': 754, 'cheated': 1058, 'injured': 3326, 'snout': 5869, 'tongue': 6529, 'nicked': 4307, 'bleeding': 664, 'belongings': 589, 'logan': 3792, 'mexico': 4047, 'limo': 3744, 'jeez': 3468, 'superhero': 6213, 'scene': 5509, 'june': 3532, 'setting': 5626, 'creaking': 1472, 'scraping': 5532, 'clouds': 1172, 'heathy': 3008, 'completed': 1269, 'grieving': 2835, 'faithful': 2303, 'diving': 1848, 'promised': 4956, 'horribly': 3137, 'ladder': 3621, 'standing': 6024, 'didin': 1752, 'compsci': 1281, 'strict': 6132, 'oddly': 4400, 'leashes': 3681, 'rivalry': 5351, 'sibling': 5728, 'ten': 6365, 'devastating': 1731, 'drifted': 1944, 'treid': 6631, 'receipt': 5131, 'stormed': 6099, 'settled': 5628, 'approval': 291, 'stronger': 6141, 'definitly': 1660, 'rolls': 5383, 'carrying': 963, 'carries': 961, 'loyal': 3848, 'increase': 3290, 'chest': 1074, 'paralyzed': 4589, 'blinked': 673, 'figuers': 2400, 'awake': 414, 'yell': 7192, 'whom': 7043, 'retirement': 5305, 'murder': 4192, 'cancelling': 920, 'keeping': 3549, 'crate': 1463, 'congatulations': 1312, 'wih': 7050, 'ohhh': 4415, 'apps': 294, 'duck': 1971, 'relatives': 5203, 'arguments': 312, 'devolves': 1740, 'worrisome': 7139, 'aside': 335, 'communicating': 1245, 'objective': 4379, 'van': 6848, 'conversion': 1364, 'gianormous': 2719, 'connections': 1322, 'reunion': 5314, 'century': 1008, 'generous': 2691, 'period': 4683, 'rheumatoid': 5326, 'flare': 2457, 'illness': 3246, 'optimistic': 4459, 'chronic': 1114, 'exotic': 2235, 'patience': 4634, 'workload': 7129, 'willpower': 7061, 'fitness': 2447, 'research': 5273, 'strategies': 6110, 'dieting': 1759, 'intake': 3364, 'factor': 2288, 'calorie': 901, 'calories': 902, 'genetics': 2694, 'lifting': 3729, 'effort': 2043, 'word': 7118, 'da': 1557, 'memorable': 4019, 'meaningful': 3988, 'recorder': 5150, 'tape': 6316, 'banging': 480, 'owl': 4538, 'owls': 4539, 'creep': 1484, 'athlete': 359, 'talent': 6303, 'raw': 5101, 'guarantee': 2859, 'lining': 3748, 'zip': 7231, 'pushing': 5022, 'hold': 3095, 'compete': 1260, 'deserves': 1708, 'goodluck': 2767, 'ferret': 2382, 'fuzzy': 2644, 'climbing': 1153, 'feeder': 2363, 'bopped': 718, 'feline': 2370, 'playin': 4780, 'afterlife': 133, 'buds': 821, 'coral': 1387, 'laying': 3663, 'creeped': 1485, 'roadtrip': 5361, 'intersate': 3381, 'financially': 2422, 'useful': 6824, 'purchases': 5013, 'battery': 521, 'starter': 6037, 'busted': 870, 'ignition': 3233, 'march': 3925, 'diverticulitis': 1846, 'bowels': 742, 'appendicitis': 270, 'developed': 1734, 'successfully': 6177, 'hassle': 2960, 'scrubber': 5546, 'appendix': 271, 'removed': 5240, 'intestines': 3387, 'eeeek': 2037, 'replay': 5258, 'ringing': 5345, 'loooong': 3810, 'promise': 4955, 'gambling': 2654, 'drinks': 1947, 'smokes': 5848, 'spoke': 5988, 'active': 61, 'personnel': 4698, 'basic': 511, 'lay': 3662, 'reserve': 5277, 'numerous': 4366, 'wallowed': 6925, 'shared': 5648, 'training': 6594, 'enrolling': 2125, 'phase': 4714, 'oregon': 4469, 'tennessee': 6370, 'transfer': 6598, 'sticking': 6073, 'holidays': 3101, 'gether': 2704, 'adapt': 75, 'geez': 2682, 'lion': 3750, 'zoom': 7234, 'enclosure': 2094, 'zoo': 7233, 'refund': 5174, 'sweaty': 6257, 'unlock': 6786, 'red': 5159, 'carpet': 958, 'driveway': 1954, 'wide': 7047, 'ebut': 2024, 'anywher': 254, 'desirable': 1711, 'desk': 1712, 'drawer': 1930, 'flighty': 2472, 'partners': 4613, 'task': 6322, 'daunting': 1598, 'decent': 1633, 'chalk': 1022, 'written': 7164, 'paul': 4638, 'cornell': 1390, 'strike': 6134, 'copper': 1383, 'nerves': 4277, 'flight': 2470, 'classic': 1139, 'romeo': 5386, 'juliet': 3524, 'practice': 4865, 'tortoise': 6550, 'euthanized': 2177, 'hurting': 3204, 'toddlers': 6513, 'smile': 5843, 'hell': 3023, 'divorcing': 1851, 'valid': 6842, 'torn': 6545, 'couples': 1425, 'blooms': 680, 'vision': 6883, 'clouded': 1171, 'lit': 3760, 'cable': 886, 'channel': 1035, 'babytv': 444, 'channels': 1036, 'hadn': 2890, 'songs': 5917, 'singing': 5752, 'cablein': 887, 'hired': 3074, 'bubbly': 813, 'pop': 4825, 'roads': 5360, 'infront': 3318, 'tring': 6641, 'unforunate': 6766, 'inspires': 3347, 'happier': 2934, 'gas': 2671, 'karma': 3544, 'rips': 5347, 'consolation': 1335, 'succeed': 6173, 'classmates': 1141, 'professionally': 4947, 'upon': 6812, 'wreck': 7157, 'shocking': 5681, 'einstein': 2051, 'albert': 168, 'knowledge': 3603, 'intelligent': 3365, 'suggestions': 6196, 'math': 3963, 'rehab': 5192, 'addiction': 80, 'gut': 2880, 'mistake': 4103, 'common': 1242, 'ouija': 4487, 'answered': 234, 'hand': 2911, 'pnemonia': 4796, 'undue': 6753, 'negativity': 4259, 'sentence': 5606, 'pressure': 4901, 'accomplish': 35, 'green': 2828, 'blaming': 657, 'inward': 3411, 'blatantly': 661, 'fishing': 2444, 'catfish': 984, 'jet': 3481, 'rodents': 5373, 'bin': 634, 'fries': 2587, 'fried': 2580, 'potatoes': 4851, 'junk': 3534, 'digestive': 1766, 'unusual': 6807, 'incomes': 3287, 'private': 4927, 'bass': 514, 'turd': 6674, 'events': 2187, 'maintained': 3891, 'maintain': 3889, 'improves': 3278, 'excruciating': 2221, 'fibro': 2391, 'inspire': 3345, 'organic': 4471, 'nuerofeedback': 4361, 'deaths': 1624, 'neuropathy': 4288, 'symptoms': 6286, 'herbs': 3034, 'exercising': 2226, 'chiropractor': 1095, 'addition': 82, 'plays': 4782, 'joel': 3495, 'nutrient': 4369, 'improving': 3279, 'vegan': 6855, 'bounds': 739, 'dr': 1915, 'leaps': 3672, 'furhman': 2638, 'compassion': 1259, 'fb': 2344, 'diets': 1760, 'tapped': 6318, 'fasting': 2327, 'groups': 2848, 'keto': 3553, 'weeked': 6988, 'skip': 5787, 'scenario': 5508, 'hubby': 3171, 'ridden': 5334, 'alrighty': 188, 'korea': 3608, 'worlds': 7134, 'original': 4474, 'political': 4814, 'todays': 6511, 'faring': 2319, 'climate': 1151, 'hometown': 3110, 'becky': 545, 'gee': 2681, 'ikr': 3240, 'lemons': 3698, 'goldie': 2759, 'ego': 2047, 'selfishness': 5591, 'industry': 3306, 'observe': 4384, 'actively': 62, 'necessarily': 4247, 'passive': 4627, 'subconsciously': 6164, 'towards': 6570, 'bike': 626, 'investigate': 3400, 'clowns': 1175, 'carnival': 956, 'hahah': 2894, 'furious': 2639, 'punched': 5002, 'gerbil': 2700, 'gary': 2670, 'restarted': 5293, 'dunken': 1987, 'emu': 2091, 'swiftly': 6270, 'darling': 1584, 'acne': 52, 'suffered': 6189, 'scarred': 5504, 'faced': 2283, 'scars': 5505, 'returned': 5311, 'guilty': 2869, 'society': 5883, 'classmate': 1140, 'rollercoasters': 5381, 'refresh': 5171, 'beaten': 539, 'severely': 5633, 'hanged': 2920, 'hates': 2966, 'bank': 482, 'approved': 293, 'bakery': 466, 'donuts': 1885, 'wo': 7098, 'swooped': 6280, 'seagull': 5554, 'regal': 5179, 'buicks': 833, 'gesture': 2701, 'adopting': 103, 'overcrowding': 4515, 'eek': 2039, 'properly': 4965, 'daytime': 1604, 'registered': 5184, 'joining': 3503, 'beds': 552, 'offers': 4408, 'center': 1005, 'tanning': 6315, 'massages': 3951, 'cardio': 945, 'whiles': 7027, 'weightlifting': 6994, 'ac': 23, 'rabbit': 5050, 'saddest': 5444, 'owned': 4541, 'owns': 4545, 'completly': 1272, 'december': 1632, 'texas': 6396, 'trips': 6644, 'costs': 1405, 'retake': 5302, 'bittersweet': 651, 'breaks': 771, 'remembered': 5224, 'nobody': 4326, 'padre': 4554, 'island': 3431, 'reported': 5261, 'newspaper': 4299, 'austin': 395, 'dime': 1771, 'max': 3971, 'spouse': 5998, 'niggling': 4311, 'unhealthy': 6769, 'petrified': 4707, 'faces': 2284, 'existence': 2234, 'sisiter': 5759, 'twinge': 6694, 'joyous': 3516, 'celebrations': 1001, 'gather': 2674, 'sting': 6076, 'diploma': 1776, 'failure': 2298, 'contruction': 1359, 'extorted': 2267, 'gang': 2660, 'rushed': 5427, 'numbered': 4364, 'iguana': 3238, 'reptiles': 5265, 'tournament': 6565, 'golf': 2760, 'deathly': 1623, 'proposal': 4969, 'july': 3525, 'raptor': 5088, 'afterall': 132, 'brutal': 809, 'killings': 3574, 'handed': 2912, 'sheconstantly': 5658, 'rainy': 5070, 'liking': 3740, 'invoke': 3409, 'assure': 353, 'praised': 4868, 'esteem': 2164, 'ie': 3231, 'unfair': 6759, 'county': 1423, 'rally': 5074, 'harley': 2949, 'addicted': 78, 'addicting': 79, 'moderation': 4120, 'doomed': 1888, 'heals': 2990, 'watchim': 6958, 'attached': 364, 'differently': 1763, 'scream': 5537, 'waking': 6915, 'paralysis': 4588, 'episodes': 2145, 'depressive': 1698, 'therapist': 6424, 'weinstein': 6996, 'harvey': 2956, 'favorites': 2339, 'fulfill': 2614, 'material': 3960, 'swipe': 6275, 'goign': 2754, 'bullshit': 845, 'perks': 4685, 'boooo': 714, 'pointers': 4803, 'unbalanced': 6728, 'generally': 2686, 'discouraging': 1803, 'devasted': 1732, 'definite': 1658, 'ooooh': 4444, 'bonuses': 707, 'clothing': 1168, 'honor': 3118, 'contests': 1348, 'recognition': 5143, 'craving': 1464, 'bestfriends': 605, 'seat': 5562, 'passenger': 4620, 'gf': 2708, 'recovers': 5155, 'pumped': 5000, 'innapropriate': 3330, 'malls': 3904, 'shootings': 5689, 'conceal': 1285, 'license': 3719, 'bars': 502, 'parallel': 4587, 'yellow': 7195, 'parking': 4597, 'uh': 6717, 'mountain': 4167, 'enemy': 2103, 'arch': 298, 'vets': 6869, 'disease': 1813, 'doggy': 1864, 'stresfull': 6127, 'slender': 5808, 'peered': 4660, 'shadow': 5636, 'slinking': 5817, 'ladies': 3622, 'relations': 5198, 'potty': 4855, 'lessons': 3708, 'oklahoma': 4421, 'tornados': 6548, 'moore': 4142, 'hearted': 3003, 'harvard': 2955, 'including': 3285, 'supporting': 6218, 'caring': 955, 'seinfeld': 5586, 'jerry': 3477, 'discs': 1808, 'scar': 5496, 'tissue': 6505, 'finishing': 2433, 'exam': 2206, 'certified': 1015, 'electricity': 2060, 'wondering': 7109, 'electric': 2058, 'reverse': 5319, 'instances': 3351, 'abductions': 6, 'attempted': 372, 'exploitation': 2255, 'pneumonia': 4797, 'increasing': 3292, 'overwhelmingly': 4535, 'regard': 5180, 'safety': 5453, 'leery': 3688, 'boom': 713, 'pops': 4827, 'padlock': 4553, 'sirens': 5758, 'hurricanes': 3200, 'trifecta': 6638, 'mix': 4110, 'phat': 4715, 'stereo': 6068, 'warm': 6936, 'winters': 7078, 'louisiana': 3835, 'fahrenheit': 2293, 'coldest': 1202, 'central': 1007, 'explained': 2253, 'calmed': 900, 'flown': 2488, 'extactic': 2263, 'market': 3935, 'farmer': 2321, 'beats': 541, 'outdoors': 4496, 'masters': 3954, 'holder': 3096, 'educated': 2035, 'hill': 3064, 'rustling': 5433, 'grass': 2819, 'majestic': 3894, 'legs': 3696, 'fence': 2377, 'privacy': 4926, 'frogs': 2596, 'cornered': 1392, 'frog': 2595, 'goose': 2772, 'scotch': 5528, 'torture': 6551, 'immune': 3261, 'sickness': 5731, 'trait': 6595, 'apples': 273, 'twins': 6696, 'information': 3317, 'theem': 6413, 'line': 3745, 'doorsteps': 1892, 'saf': 5447, 'superstitious': 6215, 'cross': 1500, 'frame': 2551, 'thursday': 6478, 'speeding': 5963, 'clunker': 1182, 'payments': 4646, 'wake': 6913, 'rarer': 5091, 'creamery': 1474, 'raffle': 5061, 'sleepover': 5805, 'litlle': 3762, 'quiet': 5045, 'ittle': 3446, 'repeatedly': 5252, 'link': 3749, 'streaming': 6119, 'radio': 5060, 'song': 5916, 'ads': 107, 'hiding': 3052, 'covers': 1437, 'camaro': 904, 'camaros': 905, 'awesom': 424, 'hits': 3083, 'weakness': 6970, 'troubling': 6651, 'vulnerable': 6905, 'mornings': 4149, 'traumas': 6612, 'train': 6592, 'album': 169, 'accessible': 29, 'distracted': 1840, 'era': 2149, 'taxi': 6331, 'mailed': 3885, 'markers': 3934, 'copic': 1381, 'faded': 2292, 'dinners': 1774, 'connection': 1321, 'tuesday': 6668, 'reminding': 5230, 'parked': 4596, 'precaution': 4877, 'disneyworld': 1824, 'eight': 2049, 'comparing': 1257, 'offer': 4405, 'lazy': 3664, 'overnight': 4524, 'tests': 6395, 'lackadaisical': 3619, 'diagnose': 1745, 'becomes': 548, 'correctly': 1398, 'teslas': 6390, 'slicker': 5813, 'mug': 4186, 'cake': 891, 'plastic': 4774, 'narcissistic': 4229, 'guts': 2881, 'shredded': 5720, 'plain': 4765, 'officially': 4411, 'runs': 5422, 'distinction': 1839, 'behaved': 570, 'obedience': 4376, 'mans': 3920, 'obedient': 4377, 'pepperoni': 4668, 'typing': 6709, 'dominoes': 1875, 'default': 1649, 'pizzas': 4761, 'secretly': 5570, 'deck': 1638, 'walkin': 6919, 'swollen': 6279, 'kicked': 3560, 'fresh': 2573, 'auto': 401, 'february': 2357, 'africa': 130, 'stares': 6032, 'geta': 2703, 'cameras': 908, 'firebomb': 2436, 'booking': 711, 'jelous': 3471, 'hahahah': 2896, 'jaja': 3453, 'healing': 2989, 'disrupted': 1833, 'nowhere': 4359, 'write': 7161, 'error': 2155, 'guided': 2866, 'cares': 953, 'soul': 5933, 'pans': 4576, 'guillermo': 2868, 'labyrinth': 3617, 'toro': 6549, 'del': 1666, 'tyme': 6704, 'till': 6493, 'panicking': 4574, 'houses': 3160, 'nachos': 4217, 'crashes': 1462, 'intuition': 3395, 'unemployed': 6755, 'oppurtunites': 4456, 'darkest': 1582, 'dawn': 1599, 'priceless': 4915, 'irrelevant': 3423, 'nurses': 4368, 'exhausting': 2228, 'kiss': 3583, 'digital': 1768, 'backup': 452, 'assured': 354, 'relaxed': 5206, 'bearable': 533, 'humidity': 3182, 'budgie': 820, 'summing': 6203, 'kayaking': 3546, 'shark': 5650, 'shore': 5694, 'loner': 3800, 'nirvana': 4322, 'sounce': 5935, 'introvert': 3392, 'ppl': 4861, 'whle': 7037, 'chose': 1107, 'awkward': 430, 'networking': 4287, 'zero': 7230, 'checkin': 1062, 'result': 5299, 'lmao': 3775, 'desperate': 1714, 'disinterested': 1819, 'puts': 5027, 'contrary': 1356, 'phenomena': 4716, 'personally': 4697, 'transparent': 6603, 'intuitive': 3396, 'grind': 2837, 'dedicated': 1644, 'characer': 1041, 'malfunction': 3900, 'secondary': 5567, 'parachute': 4582, 'parachuting': 4583, 'bros': 799, 'revealed': 5317, 'smash': 5838, 'direct': 1777, 'genre': 2695, 'pikachu': 4743, 'donkey': 1881, 'kong': 3607, 'fighting': 2398, 'nostalgic': 4344, 'newest': 4296, 'ds': 1969, 'tournaments': 6566, 'wii': 7052, 'checks': 1064, 'impressed': 3272, 'cell': 1003, 'retrace': 5306, 'steps': 6067, 'idiot': 3228, 'navy': 4240, 'lunches': 3863, 'cafeteria': 888, 'hourly': 3156, 'grudge': 2856, 'asian': 334, 'ours': 4489, 'perk': 4684, 'managers': 3913, 'eagles': 2001, 'preseason': 4894, 'busier': 868, 'yukon': 7222, 'knox': 3606, 'ethan': 2169, 'miricle': 4090, 'village': 6876, 'higher': 3054, 'dunking': 1988, 'sneaker': 5864, 'sneakers': 5865, 'cowering': 1439, 'aced': 43, 'hyped': 3214, 'respond': 5286, 'enabler': 2092, 'strength': 6122, 'requires': 5268, 'bait': 463, 'silent': 5742, 'grocery': 2840, 'existed': 2233, 'mina': 4073, 'groceries': 2839, 'sweep': 6258, 'toppings': 6544, 'cheese': 1067, 'domino': 1874, 'bell': 582, 'rang': 5082, 'answer': 233, 'deliver': 1672, 'scores': 5526, 'invite': 3406, 'hugs': 3176, 'sometime': 5910, 'prime': 4918, 'example': 2208, 'per': 4670, 'charge': 1046, 'serve': 5619, 'authentic': 398, 'mexican': 4046, 'tasty': 6326, 'slices': 5811, 'slapped': 5798, 'reunite': 5315, 'sacrificed': 5439, 'increased': 3291, 'mcdonalds': 3980, 'machines': 3876, 'lockdown': 3789, 'orders': 4468, 'thunderstorms': 6477, 'aresn': 306, 'payday': 4642, 'lifes': 3725, 'sooner': 5921, 'decorations': 1643, 'parakeet': 4585, 'polly': 4816, 'shrine': 5725, 'awe': 421, 'outof': 4501, 'closing': 1164, 'firat': 2434, 'downgrade': 1904, 'downgraded': 1905, 'pajamas': 4563, 'striped': 6137, 'tear': 6343, 'jerker': 3474, 'holocaust': 3102, 'commercials': 1237, 'juse': 3535, 'speeches': 5961, 'public': 4987, 'cuddle': 1525, 'cuddling': 1526, 'instinctual': 3357, 'fe': 2346, 'chill': 1087, 'santa': 5473, 'pretend': 4904, 'cancel': 917, 'saddening': 5442, 'beacuse': 530, 'beyond': 617, 'funnel': 2632, 'cloud': 1170, 'mates': 3962, 'loads': 3778, 'salaries': 5456, 'calculated': 893, 'amsterdam': 207, 'policeman': 4810, 'parklands': 4598, 'debate': 1625, 'focussed': 2497, 'documentaries': 1857, 'bbc': 525, 'devistated': 1739, 'sammy': 5467, 'earns': 2008, 'companies': 1249, 'seniority': 5602, 'aggravating': 141, 'clarify': 1136, 'senior': 5601, 'iplayer': 3414, 'club': 1177, 'ti': 6481, 'deeply': 1646, 'destroyed': 1723, 'creature': 1478, 'foreigner': 2525, 'foreign': 2524, 'scout': 5531, 'thundering': 6475, 'ins': 3335, 'string': 6135, 'division': 1849, 'sub': 6162, 'fixing': 2451, 'customers': 1547, 'cursed': 1543, 'employees': 2086, 'entitled': 2134, 'invasion': 3397, 'ordeal': 4464, 'masked': 3949, 'ransacked': 5085, 'burglars': 859, 'weapons': 6973, 'restful': 5295, 'discontent': 1797, 'regularly': 5191, 'expressed': 2260, 'chad': 1016, 'discontented': 1798, 'neighbour': 4267, 'gangs': 2661, 'situtation': 5770, 'knifes': 3596, 'bats': 520, 'infested': 3310, 'thousands': 6453, 'skin': 5785, 'crawls': 1469, 'drama': 1925, 'squirrels': 6011, 'enjoyable': 2116, 'thrive': 6462, 'turtles': 6685, 'maintenence': 3893, 'intensive': 3368, 'captivity': 936, 'relies': 5214, 'queen': 5038, 'delivery': 1675, 'autonomy': 404, 'path': 4632, 'wayne': 6967, 'rotation': 5395, 'bruce': 805, 'upgrade': 6811, 'lifestyle': 3726, 'chicks': 1079, 'marketing': 3936, 'shown': 5716, 'effect': 2041, 'recover': 5152, 'ensure': 2126, 'adjustments': 89, 'protective': 4976, 'seconds': 5568, 'closure': 1165, 'virtually': 6881, 'unscathed': 6799, 'riving': 5354, 'curvy': 1545, 'lower': 3846, 'ahh': 150, 'laughing': 3653, 'autistic': 400, 'appointments': 283, 'disagree': 1786, 'polices': 4811, 'tensions': 6375, 'imposed': 3268, 'newly': 4297, 'tariffs': 6321, 'youve': 7219, 'indifference': 3300, 'finale': 2415, 'vying': 6906, 'fulfilled': 2615, 'product': 4940, 'camper': 911, 'socialising': 5880, 'maybee': 3975, 'campers': 912, 'technically': 6349, 'paper': 4580, 'toilet': 6518, 'recycled': 5158, 'aisle': 162, 'stir': 6081, 'fry': 2608, 'chinese': 1091, 'momentous': 4127, 'liberating': 3717, 'achiever': 49, 'toghether': 6517, 'shouldnt': 5706, 'bar': 488, 'herer': 3037, 'storming': 6100, 'branches': 761, 'dry': 1967, 'investment': 3402, 'fifty': 2395, 'disneyland': 1823, 'sun': 6205, 'pointed': 4801, 'lord': 3816, 'mri': 4183, 'tumors': 6671, 'causing': 991, 'restored': 5296, 'switched': 6277, 'nutritarian': 4370, 'superbowl': 6211, 'bacon': 456, 'omelet': 4429, 'hobby': 3091, 'gory': 2775, 'madden': 3878, 'download': 1907, 'assaulted': 345, 'athletics': 361, 'strengths': 6124, 'weaknesses': 6971, 'showing': 5715, 'enlighten': 2119, 'complaints': 1267, 'isolated': 3434, 'coconut': 1192, 'pineapple': 4747, 'stock': 6083, 'fav': 2336, 'acces': 27, 'twitch': 6700, 'alot': 184, 'account': 39, 'streamers': 6118, 'followers': 2502, 'entertaining': 2130, 'highways': 3061, 'shining': 5672, 'gauge': 2677, 'overheated': 4520, 'pancreatitis': 4570, 'recovered': 5153, 'betrayers': 611, 'untrustworthy': 6806, 'hateful': 2964, 'generation': 2689, 'detached': 1725, 'apathetic': 260, 'clubbin': 1178, 'seals': 5557, 'wasps': 6950, 'swarm': 6249, 'military': 4069, 'stick': 6072, 'rolled': 5378, 'rockies': 5370, 'intervention': 3383, 'heartwarming': 3004, 'stroke': 6139, 'joking': 3507, 'describe': 1702, 'laughter': 3655, 'spite': 5980, 'friggin': 2588, 'slap': 5797, 'medicine': 4004, 'busting': 871, 'clot': 1166, 'stepdad': 6063, 'cruel': 1505, 'petsmart': 4709, 'letter': 3711, 'irs': 3428, 'dispute': 1831, 'seize': 5587, 'ballet': 473, 'sweetest': 6261, 'imagining': 3253, 'bullit': 844, 'mustang': 4203, 'conducting': 1300, 'themed': 6418, 'millennials': 4071, 'opt': 4458, 'barack': 489, 'obama': 4375, 'former': 2537, 'loosen': 3814, 'idk': 3229, 'responsibilty': 5290, 'aha': 148, 'january': 3457, 'clue': 1181, 'bangs': 481, 'happeneing': 2931, 'lilke': 3743, 'eagerly': 2000, 'dorm': 1893, 'facetime': 2285, 'passage': 4618, 'american': 204, 'syuch': 6290, 'anotehr': 230, 'uk': 6719, 'cheers': 1066, 'happend': 2929, 'relieve': 5215, 'chair': 1021, 'spare': 5948, 'appointment': 282, 'dressed': 1941, 'attracts': 386, 'tarantula': 6320, 'exhibits': 2229, 'forgotten': 2534, 'reminded': 5228, 'perharps': 4681, 'option': 4460, 'disturbed': 1843, 'yah': 7177, 'remind': 5227, 'camera': 907, 'misplace': 4094, 'vanished': 6851, 'underneath': 6743, 'furniture': 2640, 'skeeve': 5777, 'celebrated': 998, 'perignon': 4682, 'dom': 1872, 'trained': 6593, 'grumpy': 2858, 'vacationing': 6835, 'tears': 6346, 'bali': 471, 'shed': 5659, 'offering': 4407, 'necessary': 4248, 'abusive': 22, 'studios': 6154, 'universal': 6777, 'miami': 4049, 'hottest': 3154, 'tanned': 6314, 'irish': 3418, 'genes': 2692, 'spill': 5974, 'currency': 1539, 'plummeting': 4793, 'economic': 2026, 'crisis': 1496, 'lira': 3753, 'european': 2174, 'markets': 3937, 'turkey': 6676, 'turkish': 6677, 'kow': 3610, 'thus': 6479, 'usd': 6821, 'imposing': 3269, 'dumping': 1984, 'rapid': 5087, 'investors': 3403, 'sanctions': 5469, 'national': 4234, 'dressing': 1942, 'feb': 2356, 'energized': 2105, 'inner': 3331, 'turmoil': 6678, 'soothe': 5927, 'l': 3612, 'orlando': 4475, 'dolphins': 1871, 'cozumel': 1445, 'instruments': 3359, 'nightlife': 4313, 'bicycle': 620, 'twisted': 6697, 'sprain': 5999, 'reminder': 5229, 'renewing': 5242, 'reassess': 5126, 'figures': 2403, 'stack': 6016, 'web': 6979, 'developer': 1735, 'wre': 7156, 'bundles': 852, 'startled': 6040, 'hoe': 3093, 'spares': 5949, 'indiana': 3299, 'alabam': 164, 'aall': 2, 'opposed': 4454, 'sweetheart': 6262, 'hairstyle': 2902, 'wearing': 6975, 'sink': 5756, 'judging': 3521, 'outfit': 4497, 'hype': 3213, 'haircut': 2900, 'bug': 825, 'ashamed': 330, 'answers': 236, 'laid': 3625, 'laws': 3660, 'overbearing': 4509, 'ar': 297, 'subject': 6165, 'picking': 4730, 'lone': 3798, 'pill': 4745, 'slept': 5809, 'attacking': 368, 'ashes': 331, 'chump': 1120, 'burn': 861, 'builds': 837, 'student': 6150, 'arm': 313, 'terminal': 6379, 'mouintian': 4166, 'mountian': 4169, 'australia': 396, 'interior': 3376, 'definetly': 1657, 'constant': 1337, 'scratch': 5533, 'stops': 6094, 'accord': 38, 'heuer': 3044, 'sentimental': 5607, 'recommendations': 5146, 'foul': 2546, 'riley': 5343, 'b': 439, 'congestive': 1313, 'borrow': 724, 'stealing': 6058, 'seek': 5578, 'jumpscares': 3530, 'suspense': 6242, 'comedies': 1221, 'actors': 66, 'present': 4896, 'vader': 6841, 'darth': 1586, 'drawn': 1932, 'appartment': 266, 'differnt': 1764, 'version': 6866, 'coin': 1198, 'antique': 239, 'valuable': 6843, 'backstory': 450, 'bulgaria': 839, 'slows': 5826, 'nature': 4238, 'simpler': 5747, 'creeps': 1488, 'realistic': 5115, 'heads': 2986, 'monday': 4132, 'induced': 3304, 'nauseated': 4239, 'screws': 5545, 'panned': 4575, 'dealers': 1615, 'creeping': 1487, 'drug': 1964, 'pluck': 4790, 'sharks': 5651, 'sweating': 6255, 'discovery': 1807, 'partying': 4616, 'purse': 5017, 'demanded': 1677, 'keys': 3557, 'secure': 5572, 'horrific': 3139, 'protect': 4974, 'yourselves': 7217, 'prevent': 4909, 'flags': 2454, 'treated': 6625, 'cells': 1004, 'autoimmune': 402, 'bests': 606, 'guns': 2877, 'separate': 5608, 'jumps': 3529, 'salsa': 5462, 'margarita': 3926, 'crab': 1447, 'muscles': 4196, 'weights': 6995, 'preference': 4884, 'sworn': 6283, 'rural': 5425, 'unbelievable': 6729, 'bro': 795, 'braves': 765, 'relevant': 5211, 'embarrassed': 2075, 'seafood': 5553, 'fiancee': 2390, 'buffet': 823, 'yum': 7223, 'buffets': 824, 'overreacting': 4529, 'characteristic': 1043, 'admired': 94, 'hairs': 2901, 'unique': 6773, 'begging': 562, 'picky': 4734, 'contribute': 1357, 'ireland': 3417, 'castles': 978, 'classroom': 1142, 'hall': 2905, 'woohooo': 7117, 'ages': 140, 'paris': 4594, 'pace': 4548, 'tradeoff': 6583, 'ecosystem': 2028, 'michael': 4052, 'jordan': 3510, 'oof': 4440, 'sum': 6199, 'bond': 702, 'yearbook': 7190, 'comet': 1224, 'guessing': 2864, 'scumbags': 5549, 'identify': 3226, 'command': 1232, 'ought': 4485, 'pigs': 4742, 'dispicable': 1829, 'shallow': 5642, 'tour': 6563, 'counties': 1419, 'vistiing': 6890, 'guessed': 2863, 'morbid': 4145, 'ignoring': 3237, 'nonstop': 4334, 'specially': 5956, 'hardcore': 2942, 'hitch': 3082, 'phew': 4717, 'trapped': 6607, 'exploring': 2258, 'cave': 993, 'submerged': 6166, 'odds': 4401, 'xbox': 7170, 'dat': 1588, 'gotteeem': 2784, 'trolled': 6647, 'epic': 2143, 'outbacks': 4492, 'treasure': 6622, 'retrieve': 5308, 'propose': 4970, 'casserole': 976, 'miles': 4067, 'served': 5620, 'salvage': 5464, 'loop': 3811, 'rollecoaster': 5377, 'sent': 5605, 'nevermind': 4290, 'scaed': 5493, 'hooray': 3125, 'begins': 566, 'aspect': 341, 'dreading': 1934, 'fulfil': 2613, 'reassuring': 5127, 'terrific': 6382, 'tourist': 6564, 'tenagers': 6366, 'extorting': 2268, 'threating': 6455, 'resolved': 5279, 'reps': 5264, 'dealer': 1614, 'motherhood': 4157, 'highschool': 3058, 'anyhow': 246, 'highschoolers': 3059, 'lotta': 3828, 'nextdoor': 4302, 'wander': 6927, 'cop': 1378, 'officer': 4410, 'narcissists': 4230, 'disk': 1820, 'data': 1589, 'external': 2266, 'videos': 6873, 'hd': 2980, 'handle': 2915, 'explanation': 2254, 'savings': 5486, 'accounts': 40, 'emergencies': 2078, 'button': 877, 'tiem': 6488, 'hahahaha': 2897, 'drag': 1916, 'somebad': 5901, 'flirt': 2476, 'blatenly': 662, 'attactive': 370, 'mate': 3959, 'attractive': 385, 'compliment': 1276, 'obnoxious': 4381, 'unavoidable': 6727, 'sorrowful': 5929, 'alpha': 185, 'kidnapped': 3565, 'misses': 4099, 'campground': 913, 'dejected': 1665, 'dashsund': 1587, 'wirh': 7082, 'diagnosis': 1747, 'singer': 5751, 'weeknd': 6991, 'question': 5040, 'crane': 1456, 'stuffed': 6158, 'flames': 2456, 'ot': 4478, 'transferred': 6599, 'dialysis': 1749, 'clinic': 1155, 'among': 205, 'ipad': 3412, 'latest': 3650, 'craigslists': 1454, 'soulmate': 5934, 'marrying': 3943, 'p': 4547, 'aware': 418, 'husky': 3209, 'huskies': 3208, 'expressions': 2262, 'funniest': 2635, 'useless': 6825, 'restroom': 5297, 'productivity': 4943, 'hides': 3051, 'complicated': 1274, 'onions': 4436, 'murdered': 4193, 'chainsaw': 1019, 'jesus': 3480, 'doors': 1890, 'fickle': 2392, 'coyote': 1443, 'slide': 5814, 'described': 1703, 'peru': 4700, 'themselfes': 6421, 'responsibilities': 5288, 'worries': 7137, 'smartphones': 5837, 'snapchat': 5861, 'lame': 3629, 'alwasy': 194, 'leniency': 3702, 'countries': 1420, 'mandatory': 3916, 'smoothly': 5853, 'occasional': 4389, 'pity': 4759, 'tea': 6334, 'concern': 1287, 'pessimistic': 4702, 'breast': 773, 'manner': 3919, 'deteriorating': 1728, 'conditions': 1296, 'possess': 4841, 'banker': 483, 'shopkeeper': 5691, 'equally': 2147, 'ritual': 5350, 'sundays': 6207, 'salary': 5457, 'bald': 469, 'shave': 5655, 'cases': 969, 'baker': 465, 'boggles': 696, 'revolution': 5322, 'climbed': 1152, 'clubbing': 1179, 'indoors': 3303, 'strayed': 6114, 'lab': 3614, 'correct': 1396, 'brakes': 758, 'brake': 757, 'hitting': 3084, 'worn': 7135, 'anniversity': 224, 'separated': 5609, 'awaken': 415, 'emt': 2090, 'bubbling': 812, 'sends': 5600, 'dominated': 1873, 'overhwleming': 4521, 'minivan': 4083, 'wing': 7071, 'divorce': 1850, 'frozen': 2600, 'bascially': 505, 'wind': 7064, 'bbq': 526, 'borrowed': 725, 'succesfully': 6174, 'programme': 4951, 'workout': 7130, 'mechanic': 3997, 'jobless': 3491, 'distressed': 1842, 'smooth': 5850, 'debts': 1630, 'shoulders': 5704, 'productive': 4942, 'thunderstorm': 6476, 'taxis': 6332, 'draw': 1929, 'loops': 3812, 'disagreements': 1787, 'discourse': 1804, 'nervwrecking': 4280, 'insults': 3362, 'address': 84, 'adjusting': 88, 'conditional': 1294, 'poisoning': 4806, 'longest': 3804, 'hmm': 3087, 'propolis': 4968, 'recieved': 5139, 'ain': 156, 'nights': 4317, 'cloths': 1169, 'margin': 3927, 'gucci': 2861, 'yummy': 7224, 'exchange': 2215, 'reach': 5104, 'hamburgers': 2909, 'grilling': 2836, 'irresponsible': 3425, 'wise': 7084, 'earned': 2006, 'illusion': 3247, 'score': 5524, 'highest': 3055, 'disappointments': 1793, 'chilled': 1088, 'sheriff': 5665, 'huh': 3177, 'weary': 6977, 'highlight': 3056, 'chickens': 1078, 'stange': 6026, 'hurry': 3202, 'ghostbusters': 2712, 'puddle': 4990, 'rainstorm': 5069, 'flakes': 2455, 'zone': 7232, 'twilight': 6693, 'menudo': 4028, 'posole': 4840, 'tamales': 6311, 'reflect': 5169, 'gene': 2684, 'ubereats': 6712, 'discount': 1801, 'refused': 5176, 'competitors': 1264, 'jilted': 3486, 'desperately': 1715, 'gossiping': 2779, 'nothings': 4349, 'gossip': 2778, 'creepiest': 1486, 'planet': 4768, 'peacefully': 4651, 'details': 1726, 'shoot': 5687, 'circumstances': 1127, 'suckying': 6185, 'buys': 881, 'thrill': 6459, 'strapped': 6109, 'conned': 1323, 'cryptocurrency': 1516, 'losses': 3824, 'hyping': 3216, 'invested': 3399, 'invest': 3398, 'lesson': 3707, 'recoup': 5151, 'stocks': 6084, 'eater': 2020, 'doughnuts': 1899, 'flavor': 2464, 'soooooo': 5925, 'functional': 2623, 'conditioning': 1295, 'humid': 3181, 'aagh': 1, 'insulate': 3360, 'combination': 1218, 'practically': 4864, 'hundreds': 3189, 'mystic': 4213, 'ct': 1519, 'hears': 2998, 'bogeyman': 695, 'sweetie': 6264, 'listed': 3755, 'battling': 524, 'surgeries': 6229, 'unconsolable': 6738, 'splashing': 5981, 'electrocute': 2061, 'scruffy': 5547, 'deodorant': 1687, 'forgo': 2532, 'method': 4044, 'government': 2787, 'multi': 4189, 'ol': 4422, 'fingered': 2428, 'someones': 5907, 'rug': 5414, 'poop': 4821, 'tradition': 6584, 'habit': 2888, 'rub': 5409, 'belly': 585, 'replaceable': 5255, 'prix': 4929, 'saddened': 5441, 'causes': 990, 'facing': 2286, 'convenient': 1360, 'flights': 2471, 'congratulation': 1317, 'troubles': 6650, 'pullups': 4998, 'pushup': 5024, 'niiice': 4319, 'unseen': 6801, 'eeep': 2038, 'reliable': 5212, 'withdraw': 7092, 'overdraft': 4517, 'fee': 2360, 'waive': 6912, 'prints': 4922, 'cities': 1129, 'paranoid': 4590, 'total': 6555, 'blackness': 655, 'pitch': 4757, 'unprepared': 6794, 'outright': 4502, 'perseverance': 4691, 'satisfying': 5479, 'excitment': 2220, 'repeating': 5253, 'attitudes': 380, 'marriages': 3940, 'impeaching': 3264, 'haters': 2965, 'extreme': 2270, 'golfing': 2761, 'tropical': 6648, 'smoothies': 5852, 'smoothie': 5851, 'sugar': 6193, 'healthier': 2993, 'juice': 3522, 'itself': 3445, 'fruit': 2602, 'ares': 305, 'panera': 4571, 'wound': 7150, 'bread': 766, 'slippery': 5819, 'medication': 4002, 'unsteady': 6803, 'toys': 6576, 'babygirl': 442, 'steak': 6056, 'crappy': 1459, 'grabbing': 2790, 'payment': 4645, 'monthly': 4138, 'beggars': 561, 'las': 3643, 'yale': 7180, 'undergrad': 6741, 'grad': 2792, 'tasked': 6323, 'individual': 3301, 'blew': 670, 'exceed': 2210, 'deligence': 1670, 'juts': 3538, 'poured': 4858, 'pen': 4663, 'parrot': 4601, 'responsibility': 5289, 'expansion': 2236, 'warcraft': 6935, 'popular': 4828, 'addictive': 81, 'presumably': 4903, 'entertainment': 2131, 'hopeless': 3131, 'dip': 1775, 'considering': 1333, 'upcoming': 6810, 'additional': 83, 'tens': 6372, 'loans': 3781, 'peeking': 4657, 'ralph': 5075, 'suits': 6198, 'yo': 7203, 'shots': 5701, 'whereabouts': 7021, 'gunshot': 2878, 'desensitized': 1705, 'minneapolis': 4084, 'nails': 4221, 'prevents': 4911, 'constraints': 1339, 'giggling': 2725, 'polite': 4813, 'sto': 6082, 'ridulous': 5339, 'grandkids': 2809, 'cracked': 1449, 'learner': 3675, 'permit': 4687, 'parralel': 4600, 'dmv': 1852, 'wildfire': 7054, 'wildfires': 7055, 'gloomy': 2745, 'exceptionally': 2213, 'enters': 2129, 'horse': 3144, 'otherwise': 4482, 'mississippi': 4101, 'rice': 5329, 'smashed': 5839, 'mashed': 3948, 'technical': 6348, 'fryer': 2609, 'friar': 2575, 'understanding': 6748, 'frying': 2610, 'invitro': 3408, 'cycle': 1555, 'beans': 531, 'knees': 3593, 'visibly': 6882, 'jokes': 3506, 'humor': 3184, 'incorporate': 3289, 'laughs': 3654, 'beforehand': 559, 'snack': 5856, 'robbery': 5366, 'unfold': 6760, 'dialed': 1748, 'fairness': 2301, 'gyms': 2885, 'improvise': 3280, 'tutorials': 6686, 'momma': 4129, 'cutting': 1552, 'blankets': 659, 'curled': 1538, 'chews': 1075, 'sigh': 5735, 'blanket': 658, 'vancouver': 6849, 'ny': 4372, 'dissappointed': 1834, 'kitty': 3590, 'pts': 4985, 'seperate': 5610, 'touchy': 6560, 'hoarder': 3090, 'rescues': 5272, 'dryer': 1968, 'laundromat': 3656, 'washer': 6946, 'hook': 3123, 'gourmet': 2786, 'mmmm': 4113, 'pounds': 4857, 'pup': 5008, 'newborn': 4293, 'pitbull': 4756, 'heels': 3016, 'heelys': 3017, 'pairs': 4562, 'bouquet': 740, 'attleast': 381, 'doggo': 1863, 'wounds': 7152, 'uncles': 6735, 'aunts': 394, 'irritating': 3427, 'surgeon': 6228, 'comics': 1229, 'cigar': 1124, 'lightening': 3731, 'bizzare': 652, 'crystal': 1517, 'unnerved': 6787, 'yankees': 7182, 'matty': 3968, 'lease': 3679, 'discontinued': 1800, 'shade': 5635, 'lipstick': 3752, 'branch': 760, 'xpac': 7171, 'firms': 2441, 'promising': 4957, 'shift': 5667, 'recentyl': 5137, 'gaining': 2648, 'functions': 2625, 'steadily': 6055, 'werewolves': 7008, 'meds': 4007, 'hor': 3135, 'whrn': 7045, 'unaccomplished': 6724, 'walaking': 6916, 'qualities': 5033, 'shine': 5668, 'jackets': 3449, 'malted': 3906, 'cups': 1531, 'disappoint': 1790, 'scold': 5521, 'redoing': 5162, 'combine': 1219, 'adventures': 114, 'alzheimers': 197, 'downhill': 1906, 'backbone': 446, 'icu': 3222, 'hadnt': 2891, 'liar': 3716, 'wheel': 7014, 'curb': 1532, 'steeping': 6060, 'happily': 2936, 'mailmen': 3886, 'awwwwww': 438, 'doggie': 1862, 'gardens': 2668, 'busch': 866, 'hallowscream': 2907, 'moderate': 4119, 'comfortably': 1227, 'eihter': 2050, 'mountains': 4168, 'tyke': 6703, 'fatality': 2330, 'hands': 2917, 'wilson': 7062, 'lizard': 3772, 'wrote': 7166, 'creatures': 1479, 'crawling': 1468, 'heebiejeebies': 3014, 'godzilla': 2752, 'republicans': 5266, 'species': 5957, 'notion': 4354, 'directly': 1780, 'rejecting': 5194, 'election': 2056, 'voted': 6902, 'unacceptable': 6723, 'scientists': 5520, 'consensus': 1328, 'chimpanzees': 1090, 'holy': 3103, 'partake': 4603, 'hmmm': 3088, 'smirk': 5845, 'rubbed': 5410, 'bellybutton': 586, 'donut': 1884, 'shops': 5693, 'tragically': 6589, 'jogging': 3496, 'trigger': 6639, 'sing': 5750, 'naturals': 4237, 'vocal': 6896, 'chords': 1105, 'pipes': 4751, 'gems': 2683, 'norm': 4338, 'medications': 4003, 'hinders': 3067, 'finance': 2419, 'banks': 485, 'whistle': 7035, 'spray': 6000, 'walkway': 6922, 'risk': 5349, 'direction': 1779, 'deter': 1727, 'conscious': 1327, 'dread': 1933, 'partly': 4611, 'birthdays': 644, 'bombarded': 700, 'barriers': 501, 'nuisance': 4362, 'flirting': 2477, 'rd': 5102, 'deposit': 1693, 'palce': 4565, 'scooter': 5523, 'wheelchair': 7015, 'forest': 2526, 'thick': 6433, 'kissing': 3584, 'incredible': 3293, 'screens': 5542, 'prior': 4923, 'strenuous': 6125, 'glacier': 2737, 'views': 6875, 'filming': 2409, 'pro': 4932, 'exhilarating': 2230, 'coast': 1186, 'happay': 2927, 'pto': 4984, 'unruly': 6797, 'mighty': 4065, 'hasnt': 2959, 'merchant': 4030, 'response': 5287, 'diligent': 1769, 'estimates': 2165, 'shipping': 5674, 'mile': 4066, 'deadly': 1611, 'cleaned': 1144, 'performed': 4676, 'kudos': 3611, 'composure': 1278, 'publicly': 4988, 'perform': 4674, 'devestated': 1737, 'grive': 2838, 'midwest': 4061, 'v': 6831, 'fences': 2379, 'climed': 1154, 'downs': 1909, 'witts': 7097, 'plugging': 4791, 'coooking': 1376, 'chanel': 1030, 'purple': 5015, 'mohawk': 4122, 'inducing': 3305, 'ricado': 5328, 'bored': 720, 'reply': 5259, 'push': 5020, 'alas': 167, 'unreasonable': 6796, 'defenitly': 1653, 'employers': 2088, 'wrangler': 7155, 'taunting': 6328, 'practical': 4863, 'trade': 6581, 'con': 1284, 'afflack': 123, 'george': 2697, 'clooney': 1157, 'minus': 4086, 'ben': 593, 'bugatti': 826, 'freakin': 2557, 'bugattis': 827, 'exhort': 2231, 'couchsurfing': 1409, 'director': 1781, 'youll': 7209, 'discussing': 1811, 'decline': 1640, 'oriented': 4473, 'hondas': 3113, 'sweeping': 6259, 'medium': 4006, 'guard': 2860, 'unintelligible': 6771, 'slack': 5793, 'mugged': 4187, 'punks': 5006, 'brighter': 789, 'patch': 4631, 'rip': 5346, 'armadillo': 314, 'adolph': 100, 'footed': 2513, 'turf': 6675, 'bless': 666, 'granddad': 2806, 'winnings': 7075, 'corpse': 1395, 'feasting': 2353, 'lsd': 3849, 'hm': 3086, 'salted': 5463, 'flavour': 2465, 'creams': 1475, 'clowny': 1176, 'ingrate': 3320, 'pricey': 4916, 'mentioned': 4027, 'jerkers': 3475, 'neighbourhood': 4268, 'breakins': 770, 'patrol': 4637, 'transit': 6601, 'hub': 3170, 'nicest': 4306, 'decorated': 1641, 'hav': 2971, 'sign': 5737, 'peering': 4661, 'unreal': 6795, 'snatch': 5863, 'samples': 5468, 'attainable': 371, 'instagram': 3349, 'realistoc': 5116, 'filters': 2411, 'females': 2376, 'tokyo': 6519, 'credit': 1480, 'leash': 3680, 'precautionary': 4878, 'procedures': 4936, 'testing': 6394, 'overboard': 4510, 'hangovers': 2923, 'passionate': 4625, 'rats': 5097, 'snaked': 5858, 'terrify': 6386, 'likely': 3738, 'georgia': 2698, 'jackson': 3451, 'guitar': 2871, 'pointer': 4802, 'laser': 3644, 'dd': 1608, 'gigantic': 2724, 'drain': 1922, 'buck': 814, 'astronomically': 355, 'eyeballing': 2275, 'owes': 4537, 'sucking': 6182, 'canceled': 918, 'thorns': 6445, 'sitcom': 5764, 'quirky': 5046, 'obscure': 4382, 'bluejay': 686, 'startle': 6039, 'remarried': 5221, 'alseep': 189, 'tenant': 6367, 'east': 2015, 'previous': 4912, 'negatives': 4258, 'positives': 4838, 'intervene': 3382, 'irritated': 3426, 'dripping': 1948, 'unit': 6775, 'lavish': 3657, 'caribbean': 954, 'sooo': 5922, 'adam': 73, 'scott': 5530, 'podcasts': 4799, 'celebreties': 1002, 'internet': 3377, 'reporting': 5262, 'jelly': 3470, 'halfway': 2904, 'actualy': 70, 'dealership': 1616, 'confortable': 1308, 'wasting': 6954, 'anythign': 249, 'copy': 1385, 'author': 399, 'fforde': 2388, 'jasper': 3459, 'nerdy': 4275, 'sensativity': 5603, 'erratically': 2153, 'wadering': 6907, 'anmails': 220, 'gotcha': 2782, 'playstation': 4783, 'solved': 5898, 'popcorn': 4826, 'imidiatly': 3255, 'vacas': 6833, 'ship': 5673, 'woken': 7101, 'secured': 5573, 'kitties': 3589, 'homesick': 3109, 'terribly': 6381, 'arrested': 320, 'weirdness': 6999, 'sniffing': 5867, 'spell': 5965, 'sinister': 5755, 'romances': 5384, 'twenty': 6689, 'tucked': 6666, 'shelves': 5663, 'daredevil': 1580, 'connected': 1320, 'marvel': 3946, 'afleck': 128, 'jennifer': 3472, 'garner': 2669, 'werewolf': 7007, 'treatable': 6624, 'breeds': 782, 'sympathies': 6285, 'calls': 898, 'tube': 6665, 'belonged': 588, 'donate': 1878, 'greet': 2830, 'intrude': 3393, 'widow': 7048, 'nonetheless': 4332, 'sasquatch': 5475, 'beef': 554, 'jerky': 3476, 'believes': 581, 'potato': 4850, 'bartender': 503, 'pretending': 4906, 'grama': 2801, 'durning': 1991, 'massive': 3952, 'repay': 5250, 'dammmnn': 1565, 'flexibility': 2467, 'euthanize': 2176, 'saddens': 5443, 'companions': 1251, 'terible': 6377, 'satsified': 5480, 'evacuate': 2178, 'evacuated': 2179, 'perfectly': 4673, 'sooth': 5926, 'precautions': 4879, 'trusted': 6660, 'beatdown': 538, 'gate': 2672, 'uncofortable': 6736, 'especialy': 2161, 'inquire': 3334, 'racking': 5058, 'administration': 90, 'tension': 6374, 'newton': 4300, 'cuz': 1553, 'stariin': 6033, 'swag': 6246, 'matt': 3965, 'hughes': 3175, 'dapper': 1577, 'mat': 3955, 'daaat': 1558, 'slammin': 5796, 'accused': 41, 'juked': 3523, 'jodie': 3493, 'bemused': 592, 'seuss': 5630, 'foster': 2545, 'rhymes': 5327, 'oj': 4418, 'dangit': 1576, 'wings': 7072, 'hospice': 3145, 'grandad': 2803, 'lifeline': 3724, 'typhoon': 6707, 'choices': 1100, 'matters': 3967, 'immaterial': 3256, 'aruba': 326, 'outlive': 4499, 'corrupt': 1400, 'ghetto': 2710, 'internship': 3378, 'laughed': 3652, 'marks': 3938, 'ignored': 3235, 'reebok': 5164, 'reeboks': 5165, 'adidas': 86, 'converse': 1363, 'tucking': 6667, 'frusterating': 2604, 'hopefull': 3129, 'dertermination': 1701, 'miracle': 4089, 'attic': 378, 'leak': 3670, 'spaced': 5943, 'hooligans': 3124, 'garages': 2664, 'persian': 4692, 'tossed': 6554, 'fam': 2308, 'behaviours': 573, 'snuggling': 5876, 'cocoa': 1191, 'shebang': 5657, 'prized': 4931, 'argentinian': 309, 'lullabies': 3857, 'someting': 5912, 'overcoming': 4514, 'honorable': 3119, 'aliens': 173, 'hardships': 2947, 'endurance': 2100, 'hardship': 2946, 'toad': 6509, 'lover': 3840, 'attachments': 365, 'jessie': 3479, 'sufficient': 6192, 'led': 3687, 'distancing': 1837, 'hopeful': 3128, 'shadowy': 5638, 'patio': 4636, 'visitors': 6888, 'wheels': 7016, 'tacoma': 6295, 'toyota': 6575, 'dependable': 1689, 'respected': 5284, 'appreciates': 286, 'friendships': 2586, 'neighbours': 4269, 'reminiscing': 5233, 'eloped': 2068, 'soo': 5919, 'shoulder': 5703, 'stalker': 6020, 'crawlies': 1467, 'spine': 5977, 'shivers': 5678, 'appealing': 267, 'visually': 6892, 'scamming': 5495, 'entrepreneur': 2135, 'snowboard': 5870, 'pleasurable': 4788, 'foo': 2507, 'fighters': 2397, 'raging': 5062, 'studies': 6153, 'wears': 6976, 'challanege': 1023, 'squash': 6008, 'yuck': 7221, 'shoe': 5683, 'ability': 8, 'cart': 965, 'absolute': 16, 'entryway': 2136, 'gumball': 2873, 'grace': 2791, 'gods': 2751, 'expectant': 2239, 'learns': 3677, 'terrifies': 6384, 'hte': 3168, 'condolence': 1297, 'longed': 3802, 'deprived': 1700, 'hereditary': 3036, 'deprivation': 1699, 'moral': 4143, 'cane': 925, 'corso': 1401, 'pretended': 4905, 'abandon': 4, 'discipline': 1796, 'acted': 57, 'teaches': 6338, 'strawberry': 6112, 'shortcake': 5696, 'dragging': 1918, 'cartoons': 966, 'supports': 6220, 'remodeled': 5234, 'reasonable': 5124, 'outdated': 4494, 'shattering': 5654, 'vinyl': 6877, 'debating': 1626, 'smacking': 5828, 'slapping': 5799, 'twig': 6692, 'awfully': 427, 'windy': 7069, 'foolish': 2510, 'doorstep': 1891, 'behold': 575, 'smallish': 5832, 'lo': 3776, 'seats': 5563, 'tlc': 6507, 'ghoul': 2717, 'ornaments': 4477, 'backups': 453, 'manhattan': 3917, 'cuisine': 1528, 'ack': 51, 'sucker': 6181, 'kitchenaid': 3586, 'appliance': 274, 'bullet': 842, 'trunk': 6658, 'coax': 1189, 'ferris': 2383, 'mary': 3947, 'freshman': 2574, 'bull': 841, 'shreds': 5721, 'disaster': 1794, 'recipe': 5140, 'walks': 6921, 'airhorn': 158, 'spook': 5990, 'experince': 2249, 'marine': 3930, 'stringing': 6136, 'chipper': 1093, 'tremendous': 6632, 'topics': 6543, 'approached': 289, 'cuba': 1521, 'spain': 5946, 'utmost': 6829, 'treats': 6628, 'gal': 2650, 'shady': 5639, 'reevaluate': 5166, 'watches': 6957, 'blocked': 676, 'facebooks': 2282, 'hjow': 3085, 'discuss': 1809, 'confides': 1305, 'complete': 1268, 'judgement': 3520, 'handfuls': 2914, 'nine': 4320, 'carried': 960, 'delicate': 1668, 'approve': 292, 'landlords': 3636, 'litter': 3763, 'criminals': 1494, 'hideout': 3050, 'luckiest': 3852, 'pursuing': 5019, 'directed': 1778, 'associating': 349, 'appointed': 281, 'homeschooled': 3108, 'boundaries': 738, 'biomed': 637, 'vacuum': 6839, 'dyson': 1996, 'cordless': 1388, 'vacuums': 6840, 'discussed': 1810, 'solution': 5895, 'boxer': 745, 'boxers': 746, 'shook': 5686, 'carbs': 941, 'improvements': 3277, 'wipe': 7079, 'underselling': 6745, 'boxes': 747, 'eclipsed': 2025, 'disappeared': 1789, 'matches': 3957, 'description': 1704, 'trace': 6578, 'choke': 1101, 'tie': 6486, 'lanai': 3631, 'racer': 5055, 'maniac': 3918, 'collapsed': 1204, 'partially': 4604, 'snowing': 5871, 'inflating': 3313, 'jitsu': 3488, 'jiu': 3489, 'infinity': 3312, 'lookin': 3807, 'acid': 50, 'boric': 721, 'ahhh': 151, 'note': 4346, 'zealand': 7228, 'tide': 6485, 'pleasantly': 4785, 'particualr': 4606, 'waves': 6965, 'geothermal': 2699, 'springs': 6004, 'highly': 3057, 'degrading': 1662, 'remembers': 5226, 'conclusions': 1291, 'favourite': 2343, 'trailer': 6591, 'mowing': 4181, 'worthy': 7145, 'toni': 6530, 'collette': 1211, 'rec': 5129, 'beware': 615, 'cheapest': 1057, 'surveys': 6237, 'barcelona': 494, 'silver': 5744, 'review': 5320, 'friedn': 2581, 'website': 6980, 'mourned': 4171, 'kittens': 3588, 'owe': 4536, 'betted': 612, 'pools': 4820, 'inground': 3322, 'backyward': 455, 'stream': 6117, 'chases': 1051, 'picks': 4732, 'john': 3498, 'finiance': 2430, 'credntials': 1481, 'dreamed': 1936, 'formally': 2536, 'seethingly': 5584, 'maturely': 3970, 'christmastime': 1113, 'feast': 2352, 'cinnamon': 1126, 'strawberries': 6111, 'oven': 4506, 'roles': 5375, 'coved': 1433, 'stove': 6103, 'kerosene': 3552, 'freeway': 2565, 'hazard': 2978, 'tow': 6568, 'awoken': 432, 'lamborghini': 3628, 'balling': 474, 'splendid': 5983, 'aretha': 307, 'franklin': 2553, 'audiobook': 389, 'satisfaction': 5477, 'hurried': 3201, 'grudges': 2857, 'stink': 6078, 'tony': 6534, 'bennett': 599, 'attended': 375, 'performing': 4678, 'avid': 408, 'listener': 3758, 'preschool': 4892, 'naked': 4222, 'aka': 163, 'kardashians': 3543, 'flaunting': 2463, 'heavily': 3010, 'editing': 2032, 'percent': 4671, 'fulltime': 2619, 'resentment': 5276, 'independance': 3297, 'lovable': 3836, 'growls': 2853, 'fierce': 2394, 'snoring': 5868, 'fondly': 2506, 'funs': 2637, 'sold': 5891, 'yardsales': 7184, 'ebay': 2023, 'barrel': 500, 'cya': 1554, 'boop': 715, 'toots': 6541, 'camero': 909, 'pfft': 4712, 'meth': 4043, 'pete': 4704, 'couchrides': 1408, 'chemicals': 1069, 'maintenance': 3892, 'cosign': 1402, 'surprises': 6234, 'chorus': 1106, 'taping': 6317, 'crawly': 1470, 'cockaroach': 1190, 'colledge': 1209, 'stil': 6074, 'cougar': 1411, 'protecting': 4975, 'wary': 6943, 'stiches': 6071, 'positivity': 4839, 'enhance': 2114, 'nannies': 4226, 'scheduling': 5513, 'flattering': 2462, 'stare': 6030, 'demon': 1680, 'tips': 6500, 'surpassed': 6231, 'forces': 2519, 'wholesaling': 7042, 'carcass': 942, 'bleach': 663, 'bathtub': 518, 'bath': 516, 'harmed': 2951, 'bush': 867, 'tabby': 6292, 'shouuld': 5709, 'facve': 2291, 'doin': 1866, 'lexus': 3715, 'dent': 1683, 'paralell': 4586, 'lamp': 3630, 'bloody': 679, 'heehee': 3015, 'diabetics': 1743, 'hypertension': 3215, 'remembering': 5225, 'history': 3080, 'conducive': 1299, 'motivate': 4159, 'publisher': 4989, 'passions': 4626, 'favors': 2341, 'funds': 2629, 'overrated': 4528, 'seattle': 5564, 'underestimated': 6740, 'ans': 232, 'hanuted': 2924, 'perservered': 4690, 'positively': 4837, 'reframe': 5170, 'view': 6874, 'mindful': 4076, 'tearing': 6345, 'moly': 4124, 'froze': 2599, 'placements': 4763, 'internships': 3379, 'current': 1540, 'choosing': 1104, 'thumbs': 6472, 'complex': 1273, 'twiddling': 6691, 'returning': 5312, 'stationed': 6048, 'sacrifice': 5438, 'oughta': 4486, 'civilians': 1133, 'punished': 5003, 'preying': 4913, 'tame': 6312, 'gathers': 2676, 'burglar': 858, 'cringe': 1495, 'immature': 3257, 'shrimp': 5724, 'japanese': 3458, 'darn': 1585, 'dragged': 1917, 'bleh': 665, 'snapped': 5862, 'contraption': 1355, 'tying': 6702, 'netting': 4285, 'wire': 7081, 'landed': 3633, 'meteor': 4041, 'object': 4378, 'impress': 3271, 'confidently': 1304, 'frighten': 2589, 'witches': 7090, 'dirtbike': 1783, 'yahoo': 7178, 'reaon': 5122, 'employee': 2085, 'pickup': 4733, 'struggles': 6146, 'alzheimer': 196, 'selfish': 5590, 'depresses': 1695, 'carve': 967, 'recharge': 5138, 'rattled': 5099, 'mamba': 3908, 'kc': 3547, 'drop': 1956, 'twisty': 6699, 'bajesus': 464, 'strive': 6138, 'wentz': 7004, 'wiht': 7051, 'players': 4778, 'foles': 2498, 'lsot': 3850, 'sayings': 5491, 'fortune': 2543, 'applies': 278, 'jim': 3487, 'eyed': 2276, 'jumpy': 3531, 'jazzy': 3461, 'browns': 804, 'subaru': 6163, 'wrx': 7167, 'forester': 2527, 'contract': 1354, 'renewal': 5241, 'worded': 7119, 'award': 416, 'misread': 4096, 'apologies': 261, 'awaits': 413, 'remove': 5239, 'fuckin': 2611, 'sushi': 6240, 'downtown': 1913, 'blinds': 672, 'fed': 2359, 'peaked': 4653, 'cod': 1193, 'eachother': 1999, 'themself': 6420, 'begrudged': 567, 'uni': 6770, 'clubs': 1180, 'network': 4286, 'split': 5984, 'een': 2040, 'occur': 4392, 'mclaren': 3981, 'whow': 7044, 'puny': 5007, 'baout': 487, 'supercars': 6212, 'porche': 4830, 'wishes': 7088, 'funner': 2633, 'caffeine': 889, 'iced': 3221, 'pedestrian': 4655, 'witness': 7095, 'employer': 2087, 'hershey': 3041, 'hostel': 3149, 'kiev': 3569, 'sat': 5476, 'larger': 3642, 'intentionally': 3371, 'challenges': 1025, 'smacked': 5827, 'canyon': 934, 'breathtaking': 777, 'observed': 4385, 'guide': 2865, 'traveler': 6617, 'guides': 2867, 'assumed': 351, 'paths': 4633, 'mule': 4188, 'adults': 109, 'hangout': 2922, 'forming': 2538, 'info': 3315, 'titan': 6506, 'nissan': 4323, 'trucks': 6653, 'regretted': 5189, 'slammed': 5795, 'shiver': 5677, 'dramatic': 1927, 'tahiti': 6298, 'startling': 6041, 'whens': 7019, 'aweomse': 423, 'gambler': 2652, 'beginner': 564, 'doberman': 1854, 'tongiht': 6528, 'puke': 4992, 'awards': 417, 'persistently': 4693, 'hong': 3117, 'parade': 4584, 'eddie': 2030, 'murphy': 4194, 'mcdonald': 3979, 'mcnuggets': 3982, 'vegetarian': 6857, 'meat': 3995, 'alternate': 192, 'meats': 3996, 'malfunctioned': 3901, 'landing': 3634, 'intruder': 3394, 'sleeper': 5803, 'solo': 5894, 'stacking': 6017, 'dough': 1898, 'focusing': 2496, 'admirable': 92, 'beefed': 555, 'bikes': 627, 'tools': 6537, 'irreplaceable': 3424, 'aog': 256, 'giver': 2734, 'joe': 3494, 'dirt': 1782, 'sheesh': 5660, 'corn': 1389, 'maze': 3977, 'afterwords': 136, 'fluff': 2489, 'rattle': 5098, 'shovel': 5710, 'justice': 3537, 'slithered': 5820, 'dispense': 1828, 'bugger': 829, 'hostage': 3148, 'stabbed': 6014, 'consultant': 1341, 'ordering': 4467, 'mmm': 4112, 'vividly': 6895, 'fart': 2323, 'overtrusted': 4532, 'shorts': 5698, 'mitzvah': 4109, 'embarrassing': 2076, 'distant': 1838, 'endure': 2101, 'havanese': 2972, 'urging': 6818, 'finacee': 2413, 'curfew': 1535, 'comments': 1236, 'excuses': 2224, 'asheville': 332, 'blows': 684, 'properties': 4966, 'cottage': 1406, 'atvs': 387, 'boats': 692, 'motor': 4164, 'canoe': 929, 'skis': 5789, 'canoeing': 930, 'awayu': 420, 'access': 28, 'scholarships': 5515, 'smartest': 5835, 'ranking': 5084, 'compromises': 1280, 'karate': 3542, 'belt': 591, 'heh': 3018, 'defense': 1654, 'despised': 1718, 'disrespectful': 1832, 'engaging': 2108, 'divert': 1845, 'yyouca': 7227, 'yursef': 7226, 'thin': 6435, 'merry': 4031, 'logs': 3794, 'nogg': 4327, 'imperfections': 3265, 'grounded': 2846, 'bags': 461, 'mini': 4081, 'rectangle': 5157, 'smelling': 5842, 'nevertheless': 4291, 'mvp': 4209, 'injuries': 3327, 'veered': 6854, 'fourteen': 2549, 'congratualtions': 1315, 'canada': 916, 'provincial': 4980, 'frequent': 2571, 'commendable': 1234, 'factors': 2289, 'priorities': 4924, 'punk': 5005, 'resubscribing': 5298, 'subscription': 6168, 'subscribe': 6167, 'suited': 6197, 'socializing': 5882, 'coudn': 1410, 'insecurity': 3340, 'erased': 2150, 'fabulous': 2279, 'instantly': 3353, 'listened': 3757, 'rolling': 5382, 'iron': 3422, 'sole': 5892, 'cozy': 1446, 'slippers': 5818, 'discontinue': 1799, 'unsuccessful': 6804, 'dental': 1684, 'jibbers': 3485, 'generaly': 2687, 'sugery': 6194, 'adventurous': 115, 'mellow': 4012, 'meme': 4018, 'intro': 3390, 'insightful': 3343, 'humorous': 3185, 'sceneros': 5510, 'references': 5167, 'mazel': 3978, 'tov': 6567, 'gospel': 2777, 'tract': 6580, 'overpass': 4525, 'dates': 1592, 'groove': 2842, 'learnt': 3678, 'tech': 6347, 'sciences': 5519, 'completing': 1271, 'profession': 4945, 'reward': 5323, 'beloved': 590, 'loosing': 3815, 'overwhelmed': 4533, 'tps': 6577, 'reports': 5263, 'lumbergh': 3858, 'gotan': 2781, 'pronounced': 4963, 'antibiotics': 238, 'gum': 2872, 'swell': 6266, 'wisdom': 7083, 'satisfied': 5478, 'context': 1349, 'yesterdays': 7200, 'croatia': 1499, 'add': 77, 'referring': 5168, 'barbados': 490, 'crack': 1448, 'areokay': 304, 'speed': 5962, 'maximum': 3972, 'potential': 4852, 'cs': 1518, 'delivered': 1673, 'lack': 3618, 'adamant': 74, 'closeness': 1160, 'churro': 1123, 'donatello': 1879, 'unplanned': 6790, 'grandparents': 2816, 'grandchildren': 2805, 'ferrari': 2381, 'fever': 2386, 'prescribed': 4893, 'curing': 1536, 'lump': 3859, 'biopsied': 638, 'ent': 2127, 'ho': 3089, 'febuary': 2358, 'cataracts': 981, 'yaers': 7176, 'evenings': 2185, 'jeeeze': 3465, 'fulfilling': 2616, 'surf': 6225, 'surfer': 6226, 'boogie': 708, 'inland': 3329, 'rivers': 5353, 'surfing': 6227, 'boating': 691, 'barges': 496, 'tug': 6669, 'rust': 5432, 'wrenching': 7159, 'cante': 933, 'meditation': 4005, 'breathing': 776, 'muscle': 4195, 'relaxation': 5205, 'anxieties': 241, 'mindset': 4078, 'bran': 759, 'condensed': 1292, 'discovered': 1806, 'irma': 3421, 'flordia': 2484, 'swerving': 6269, 'negotiating': 4260, 'location': 3786, 'cracking': 1451, 'cloudy': 1173, 'pal': 4564, 'stingy': 6077, 'dose': 1894, 'soda': 5884, 'uhm': 6718, 'convincing': 1366, 'remorse': 5236, 'remorseful': 5237, 'depression': 1697, 'ghat': 2709, 'boulders': 736, 'meters': 4042, 'ness': 4281, 'prestigious': 4902, 'admission': 95, 'universities': 6779, 'occured': 4393, 'fro': 2594, 'barks': 499, 'muzzle': 4208, 'bothered': 732, 'email': 2072, 'savvy': 5487, 'technologically': 6351, 'vehicles': 6859, 'ceo': 1009, 'temporary': 6363, 'lips': 3751, 'unexplainable': 6758, 'cam': 903, 'housework': 3161, 'naps': 4228, 'london': 3797, 'artificial': 324, 'fender': 2380, 'bender': 596, 'whiplash': 7033, 'rushing': 5428, 'husbands': 3207, 'searched': 5559, 'resented': 5274, 'powerful': 4860, 'disdain': 1812, 'bride': 784, 'groom': 2841, 'shadows': 5637, 'vivid': 6894, 'reactions': 5109, 'evoke': 2201, 'horrors': 3143, 'carb': 940, 'dunno': 1989, 'vs': 6904, 'hopping': 3134, 'whereas': 7022, 'administrative': 91, 'turnover': 6682, 'scarlett': 5503, 'johansson': 3497, 'bruised': 806, 'evaluation': 2181, 'hospitals': 3147, 'violent': 6878, 'shepherd': 5664, 'australian': 397, 'follows': 2504, 'unavailable': 6726, 'code': 1194, 'scummy': 5550, 'kidney': 3566, 'traps': 6609, 'nervousness': 4279, 'someplace': 5908, 'morining': 4147, 'wakes': 6914, 'oversleep': 4531, 'painless': 4559, 'construction': 1340, 'atrocious': 363, 'mocc': 4115, 'blogs': 677, 'locations': 3787, 'jetting': 3483, 'losers': 3820, 'winner': 7073, 'compact': 1248, 'legged': 3694, 'crawl': 1465, 'thy': 6480, 'suspicious': 6243, 'speedwagon': 5964, 'reo': 5247, 'leppard': 3705, 'incubus': 3295, 'clip': 1156, 'denied': 1681, 'questioned': 5041, 'melatonin': 4011, 'aid': 152, 'benadryl': 594, 'wonders': 7110, 'sweets': 6265, 'cookies': 1370, 'theatres': 6412, 'annabelle': 221, 'owning': 4544, 'flower': 2486, 'festival': 2384, 'epcot': 2142, 'seminars': 5596, 'festivals': 2385, 'solve': 5897, 'arrangements': 319, 'persons': 4699, 'rental': 5245, 'solving': 5899, 'storeand': 6096, 'pulledoutabig': 4995, 'lied': 3721, 'absolutly': 18, 'bothering': 733, 'writes': 7162, 'inoperable': 3333, 'paw': 4639, 'itll': 3443, 'aids': 153, 'noooo': 4335, 'ails': 154, 'rack': 5057, 'surrounds': 6236, 'overdue': 4518, 'hint': 3069, 'pushy': 5025, 'cues': 1527, 'recognize': 5144, 'motive': 4163, 'snuggled': 5875, 'elderly': 2055, 'soil': 5889, 'raing': 5067, 'rained': 5065, 'inferior': 3308, 'midweek': 4060, 'riptide': 5348, 'scotia': 5529, 'martinique': 3945, 'nova': 4355, 'currents': 1542, 'sideways': 5734, 'pages': 4555, 'passport': 4628, 'border': 719, 'philippines': 4718, 'glade': 2739, 'freight': 2568, 'sam': 5465, 'produced': 4938, 'confirmed': 1307, 'plants': 4773, 'jalapeno': 3454, 'peppers': 4669, 'producing': 4939, 'cucumber': 1524, 'melons': 4013, 'tomatoes': 6525, 'thumb': 6471, 'beside': 601, 'warmth': 6938, 'attmpts': 382, 'wildlife': 7056, 'captured': 937, 'mold': 4123, 'leo': 3703, 'lymphoma': 3870, 'fluffy': 2490, 'tom': 6523, 'ginger': 2726, 'chunk': 1121, 'gophers': 2773, 'ace': 42, 'oliver': 4427, 'softie': 5887, 'fella': 2372, 'delivering': 1674, 'kills': 3575, 'excursion': 2222, 'frequently': 2572, 'parts': 4614, 'dealt': 1620, 'gamble': 2651, 'hydroplaned': 3212, 'whew': 7024, 'rant': 5086, 'pub': 4986, 'trivia': 6645, 'chuck': 1117, 'predator': 4881, 'coop': 1377, 'sliced': 5810, 'cans': 931, 'receiving': 5134, 'lane': 3637, 'casket': 974, 'french': 2569, 'bruises': 807, 'hoep': 3094, 'pulls': 4997, 'bomber': 701, 'cruises': 1508, 'dared': 1579, 'lagoon': 3624, 'cliff': 1150, 'erricson': 2154, 'johnny': 3499, 'tada': 6296, 'smallest': 5831, 'sustain': 6244, 'breeder': 781, 'rotty': 5398, 'penny': 4664, 'paired': 4561, 'runts': 5424, 'fj': 2452, 'cruiser': 1507, 'squat': 6009, 'harmless': 2952, 'errands': 2152, 'skippy': 5788, 'jr': 3517, 'travelled': 6619, 'underground': 6742, 'basements': 510, 'duke': 1977, 'hood': 3122, 'profound': 4949, 'advised': 118, 'gawd': 2679, 'jeezus': 3469, 'downright': 1908, 'segway': 5585, 'snowmen': 5872, 'melt': 4014, 'declared': 1639, 'rainfall': 5066, 'pounded': 4856, 'mortality': 4151, 'vey': 6870, 'honesty': 3116, 'unpacked': 6788, 'praise': 4867, 'compliments': 1277, 'cathartic': 985, 'hun': 3187, 'opportunities': 4452, 'acclimate': 34, 'teacup': 6340, 'yorkie': 7207, 'flyers': 2492, 'backs': 448, 'exchanging': 2216, 'instigating': 3355, 'scaring': 5502, 'excessive': 2214, 'beyblades': 616, 'envying': 2141, 'tiger': 6489, 'leader': 3667, 'workdays': 7124, 'dozen': 1914, 'giveaways': 2732, 'taco': 6294, 'efforts': 2044, 'soft': 5885, 'corporate': 1394, 'consoles': 1336, 'nab': 4216, 'systems': 6289, 'yu': 7220, 'gi': 2718, 'envied': 2137, 'lil': 3742, 'peep': 4658, 'xxxtentacion': 7173, 'xxx': 7172, 'resonated': 5280, 'legend': 3692, 'gentleman': 2696, 'overseas': 4530, 'quest': 5039, 'funnest': 2634, 'spells': 5967, 'rely': 5218, 'sufficiency': 6191, 'buti': 874, 'fruitarian': 2603, 'sweats': 6256, 'frightens': 2592, 'feared': 2348, 'snowstorm': 5873, 'shrank': 5719, 'prayed': 4872, 'production': 4941, 'stable': 6015, 'intentially': 3369, 'favortism': 2342, 'icecream': 3220, 'vanilla': 6850, 'achieve': 46, 'certainty': 1013, 'uncertainty': 6733, 'gaming': 2658, 'setups': 5629, 'reviewers': 5321, 'gamer': 2656, 'creed': 1482, 'assassin': 344, 'firing': 2439, 'economy': 2027, 'peacocks': 4652, 'mating': 3964, 'champagne': 1026, 'steer': 6061, 'ambulance': 201, 'chaos': 1037, 'electrical': 2059, 'helpless': 3030, 'remeber': 5222, 'companionship': 1252, 'vr': 6903, 'hunting': 3196, 'unpacking': 6789, 'sitter': 5766, 'transition': 6602, 'scratching': 5536, 'whining': 7030, 'skid': 5781, 'rocks': 5371, 'wasteful': 6953, 'ether': 2170, 'swerved': 6268, 'amelia': 202, 'electronics': 2063, 'electrocuted': 2062, 'click': 1148, 'unplugged': 6792, 'gambles': 2653, 'lotteries': 3829, 'bejesus': 578, 'created': 1476, 'formula': 2539, 'uniquely': 6774, 'identifying': 3227, 'adds': 85, 'values': 6846, 'seperates': 5611, 'divides': 1847, 'ascii': 329, 'length': 3700, 'peasy': 4654, 'warming': 6937, 'global': 2743, 'realising': 5114, 'biking': 628, 'honour': 3120, 'starving': 6044, 'neighborhoods': 4265, 'bicyclists': 621, 'sidewalk': 5733, 'nighttime': 4318, 'nasa': 4232, 'released': 5209, 'printed': 4921, 'files': 2404, 'europa': 2172, 'poster': 4847, 'themes': 6419, 'trappist': 6608, 'explorers': 2257, 'chub': 1116, 'sump': 6204, 'daylights': 1602, 'pump': 4999, 'condition': 1293, 'concerts': 1290}\n"
          ],
          "name": "stdout"
        }
      ]
    },
    {
      "cell_type": "code",
      "metadata": {
        "id": "Dx5U9XqoFvmx",
        "colab_type": "code",
        "colab": {}
      },
      "source": [
        "v.vocabulary_rev_ = dict((value,key) for key,value in v.vocabulary_.items())"
      ],
      "execution_count": 0,
      "outputs": []
    },
    {
      "cell_type": "code",
      "metadata": {
        "id": "aSuAWXPZFvmy",
        "colab_type": "code",
        "outputId": "4816c689-2946-4f59-ca0b-8ab2ce556766",
        "colab": {
          "base_uri": "https://localhost:8080/",
          "height": 307
        }
      },
      "source": [
        "def show_top_words(dist, vocab):\n",
        "    df = pd.DataFrame(dist,columns = ['count']).reset_index()\n",
        "    df['word'] = df['index'].map(vocab)\n",
        "    df.sort_values('count',ascending=False).head(30)[['word','count']].plot(x='word',y='count',kind='bar')\n",
        "show_top_words(np.sum(X, axis=0).tolist()[0], v.vocabulary_rev_)"
      ],
      "execution_count": 15,
      "outputs": [
        {
          "output_type": "display_data",
          "data": {
            "image/png": "[encoded data removed]",
            "text/plain": [
              "<Figure size 432x288 with 1 Axes>"
            ]
          },
          "metadata": {
            "tags": []
          }
        }
      ]
    },
    {
      "cell_type": "markdown",
      "metadata": {
        "id": "rwEZlEexFvm0",
        "colab_type": "text"
      },
      "source": [
        "## BOW with NLTK"
      ]
    },
    {
      "cell_type": "code",
      "metadata": {
        "id": "GoR6vVAAFvm1",
        "colab_type": "code",
        "outputId": "2345c11c-134d-412a-e1fe-b59bbc93e078",
        "colab": {
          "base_uri": "https://localhost:8080/",
          "height": 34
        }
      },
      "source": [
        "stop_words = set(stopwords.words('english'))\n",
        "#stop_words.update([\"comma\",\"wa\",\"get\",\"oh\",\"got\",\"go\"])\n",
        "stop_words.update([\"comma\"])\n",
        "lemmatizer = WordNetLemmatizer()\n",
        "\n",
        "def nltk_tokenize(sentence):\n",
        "    sentence = sentence.lower().replace('_',' ')\n",
        "    words = word_tokenize(sentence)\n",
        "    words = [lemmatizer.lemmatize(w) for w in words if w.isalpha()]\n",
        "    words = [w for w in words if w not in stop_words]\n",
        "    return list(set(words))\n",
        "    \n",
        "print (nltk_tokenize(train.iloc[0,0]))"
      ],
      "execution_count": 16,
      "outputs": [
        {
          "output_type": "stream",
          "text": [
            "['sweat', 'microscope', 'always', 'make', 'like', 'looked', 'general', 'bullet', 'interview', 'job', 'uncomfortable']\n"
          ],
          "name": "stdout"
        }
      ]
    },
    {
      "cell_type": "code",
      "metadata": {
        "id": "K-TR0C88QJdO",
        "colab_type": "code",
        "colab": {}
      },
      "source": [
        ""
      ],
      "execution_count": 0,
      "outputs": []
    },
    {
      "cell_type": "code",
      "metadata": {
        "id": "ejS7MZLgFvm2",
        "colab_type": "code",
        "outputId": "5bef42a9-17f8-47ca-eb67-ea230661d3da",
        "colab": {
          "base_uri": "https://localhost:8080/",
          "height": 204
        }
      },
      "source": [
        "train['nltk_word_list'] = train['utterance'].apply(nltk_tokenize)\n",
        "train.head()"
      ],
      "execution_count": 17,
      "outputs": [
        {
          "output_type": "execute_result",
          "data": {
            "text/html": [
              "<div>\n",
              "<style scoped>\n",
              "    .dataframe tbody tr th:only-of-type {\n",
              "        vertical-align: middle;\n",
              "    }\n",
              "\n",
              "    .dataframe tbody tr th {\n",
              "        vertical-align: top;\n",
              "    }\n",
              "\n",
              "    .dataframe thead th {\n",
              "        text-align: right;\n",
              "    }\n",
              "</style>\n",
              "<table border=\"1\" class=\"dataframe\">\n",
              "  <thead>\n",
              "    <tr style=\"text-align: right;\">\n",
              "      <th></th>\n",
              "      <th>utterance</th>\n",
              "      <th>context</th>\n",
              "      <th>word_list</th>\n",
              "      <th>nltk_word_list</th>\n",
              "    </tr>\n",
              "  </thead>\n",
              "  <tbody>\n",
              "    <tr>\n",
              "      <th>0</th>\n",
              "      <td>Job interviews always make me sweat bullets_co...</td>\n",
              "      <td>terrified</td>\n",
              "      <td>[me, a, under, interviews, microscope, makes, ...</td>\n",
              "      <td>[sweat, microscope, always, make, like, looked...</td>\n",
              "    </tr>\n",
              "    <tr>\n",
              "      <th>1</th>\n",
              "      <td>Don't be nervous. Just be prepared.</td>\n",
              "      <td>terrified</td>\n",
              "      <td>[prepared, just, don, nervous, be, t]</td>\n",
              "      <td>[prepared, nervous]</td>\n",
              "    </tr>\n",
              "    <tr>\n",
              "      <th>2</th>\n",
              "      <td>I feel like getting prepared and then having a...</td>\n",
              "      <td>terrified</td>\n",
              "      <td>[at, prepared, thrown, curve, off, like, throw...</td>\n",
              "      <td>[prepared, thrown, curve, throw, like, ball, f...</td>\n",
              "    </tr>\n",
              "    <tr>\n",
              "      <th>3</th>\n",
              "      <td>Yes but if you stay calm it will be ok.</td>\n",
              "      <td>terrified</td>\n",
              "      <td>[but, stay, ok, if, yes, it, be, calm, will, you]</td>\n",
              "      <td>[ok, yes, stay, calm]</td>\n",
              "    </tr>\n",
              "    <tr>\n",
              "      <th>4</th>\n",
              "      <td>It's hard to stay clam. How do you do it?</td>\n",
              "      <td>terrified</td>\n",
              "      <td>[clam, s, do, stay, to, it, hard, you, how]</td>\n",
              "      <td>[clam, hard, stay]</td>\n",
              "    </tr>\n",
              "  </tbody>\n",
              "</table>\n",
              "</div>"
            ],
            "text/plain": [
              "                                           utterance  ...                                     nltk_word_list\n",
              "0  Job interviews always make me sweat bullets_co...  ...  [sweat, microscope, always, make, like, looked...\n",
              "1                Don't be nervous. Just be prepared.  ...                                [prepared, nervous]\n",
              "2  I feel like getting prepared and then having a...  ...  [prepared, thrown, curve, throw, like, ball, f...\n",
              "3            Yes but if you stay calm it will be ok.  ...                              [ok, yes, stay, calm]\n",
              "4         It's hard to stay clam. How do you do it?   ...                                 [clam, hard, stay]\n",
              "\n",
              "[5 rows x 4 columns]"
            ]
          },
          "metadata": {
            "tags": []
          },
          "execution_count": 17
        }
      ]
    },
    {
      "cell_type": "code",
      "metadata": {
        "id": "PnA-CN3UFvm7",
        "colab_type": "code",
        "colab": {}
      },
      "source": [
        "v_nltk = DictVectorizer()\n",
        "X_nltk = v_nltk.fit_transform(Counter(row['nltk_word_list']) for _, row in train.iterrows())"
      ],
      "execution_count": 0,
      "outputs": []
    },
    {
      "cell_type": "code",
      "metadata": {
        "id": "hNuBC4L5Fvm8",
        "colab_type": "code",
        "outputId": "a959ea96-5119-4a7a-c093-182c95f9f1f7",
        "colab": {
          "base_uri": "https://localhost:8080/",
          "height": 170
        }
      },
      "source": [
        "print (X_nltk.A)\n",
        "print (X_nltk.shape)\n",
        "print (X.max())"
      ],
      "execution_count": 19,
      "outputs": [
        {
          "output_type": "stream",
          "text": [
            "[[0. 0. 0. ... 0. 0. 0.]\n",
            " [0. 0. 0. ... 0. 0. 0.]\n",
            " [0. 0. 0. ... 0. 0. 0.]\n",
            " ...\n",
            " [0. 0. 0. ... 0. 0. 0.]\n",
            " [0. 0. 0. ... 0. 0. 0.]\n",
            " [0. 0. 0. ... 0. 0. 0.]]\n",
            "(12250, 6309)\n",
            "1.0\n"
          ],
          "name": "stdout"
        }
      ]
    },
    {
      "cell_type": "code",
      "metadata": {
        "id": "jrJ5n2W_Fvm-",
        "colab_type": "code",
        "outputId": "803fd380-95e8-4849-a533-7de8cad9e828",
        "colab": {
          "base_uri": "https://localhost:8080/",
          "height": 300
        }
      },
      "source": [
        "v_nltk.vocabulary_rev_ = dict((value,key) for key,value in v_nltk.vocabulary_.items())\n",
        "show_top_words(np.sum(X_nltk, axis=0).tolist()[0], v_nltk.vocabulary_rev_)"
      ],
      "execution_count": 20,
      "outputs": [
        {
          "output_type": "display_data",
          "data": {
            "image/png": "[encoded data removed]",
            "text/plain": [
              "<Figure size 432x288 with 1 Axes>"
            ]
          },
          "metadata": {
            "tags": []
          }
        }
      ]
    },
    {
      "cell_type": "markdown",
      "metadata": {
        "id": "PNEeh5UbFvnB",
        "colab_type": "text"
      },
      "source": [
        "## Normalization"
      ]
    },
    {
      "cell_type": "code",
      "metadata": {
        "id": "nLAZNrILFvnC",
        "colab_type": "code",
        "outputId": "421cf455-f7f7-4794-f902-aec4b0b8c378",
        "colab": {
          "base_uri": "https://localhost:8080/",
          "height": 884
        }
      },
      "source": [
        "vectorizer = TfidfTransformer()\n",
        "X_norm = vectorizer.fit_transform(X_nltk)\n",
        "print (X_norm)"
      ],
      "execution_count": 21,
      "outputs": [
        {
          "output_type": "stream",
          "text": [
            "  (0, 5896)\t0.37817377817787823\n",
            "  (0, 5491)\t0.3574345372336066\n",
            "  (0, 3540)\t0.39463543981019\n",
            "  (0, 3402)\t0.18280172522847127\n",
            "  (0, 3328)\t0.29547748594205503\n",
            "  (0, 3266)\t0.1558890167420118\n",
            "  (0, 3061)\t0.2072640709270408\n",
            "  (0, 2969)\t0.33357072011072236\n",
            "  (0, 2348)\t0.32189098530819005\n",
            "  (0, 727)\t0.3664940433753459\n",
            "  (0, 173)\t0.19053530666631777\n",
            "  (1, 4268)\t0.7649540496478454\n",
            "  (1, 3729)\t0.6440848561543436\n",
            "  (2, 5666)\t0.4274228352514051\n",
            "  (2, 5664)\t0.4009255767947816\n",
            "  (2, 4268)\t0.37540462135530095\n",
            "  (2, 3266)\t0.18180520727368168\n",
            "  (2, 2367)\t0.2501668423709629\n",
            "  (2, 2070)\t0.2037956344282253\n",
            "  (2, 1333)\t0.4602426741261015\n",
            "  (2, 417)\t0.40822446022999737\n",
            "  (3, 6280)\t0.3456465930279408\n",
            "  (3, 5311)\t0.470156939964998\n",
            "  (3, 3855)\t0.4673721115280015\n",
            "  (3, 778)\t0.6641115824142684\n",
            "  :\t:\n",
            "  (12246, 4038)\t0.3426790481728674\n",
            "  (12246, 3719)\t0.3201763351565446\n",
            "  (12246, 404)\t0.24484752874547677\n",
            "  (12247, 5450)\t0.5678903412702191\n",
            "  (12247, 4831)\t0.4312368671043352\n",
            "  (12247, 3849)\t0.3300710362850522\n",
            "  (12247, 2428)\t0.6185373357750877\n",
            "  (12248, 6047)\t0.14033592197534583\n",
            "  (12248, 5769)\t0.443724003208096\n",
            "  (12248, 5622)\t0.3723762437822151\n",
            "  (12248, 5209)\t0.4357904027202701\n",
            "  (12248, 3868)\t0.20714256143128285\n",
            "  (12248, 3266)\t0.19761514126347238\n",
            "  (12248, 2800)\t0.3130518299515267\n",
            "  (12248, 2761)\t0.2600125439148244\n",
            "  (12248, 2407)\t0.22361884086877903\n",
            "  (12248, 448)\t0.3965656993619277\n",
            "  (12249, 6272)\t0.2828604334246252\n",
            "  (12249, 6236)\t0.27280599493545427\n",
            "  (12249, 5620)\t0.36564285896721743\n",
            "  (12249, 4782)\t0.4306164578887039\n",
            "  (12249, 3151)\t0.2714895180224984\n",
            "  (12249, 2561)\t0.3332553529779357\n",
            "  (12249, 2404)\t0.42200299807957703\n",
            "  (12249, 1637)\t0.4044618784744579\n"
          ],
          "name": "stdout"
        }
      ]
    },
    {
      "cell_type": "markdown",
      "metadata": {
        "id": "qdQm6m36FvnH",
        "colab_type": "text"
      },
      "source": [
        "## Classifier"
      ]
    },
    {
      "cell_type": "code",
      "metadata": {
        "id": "6nqdWIpUFvnK",
        "colab_type": "code",
        "outputId": "94b1166d-de88-4297-b119-21ae9ea85474",
        "colab": {
          "base_uri": "https://localhost:8080/",
          "height": 221
        }
      },
      "source": [
        "test_raw = pd.read_csv(\"/content/drive/My Drive/Colab Notebooks/empatheticdialogues/test.csv\",sep=\",\",quoting=csv.QUOTE_NONE)\n",
        "test = prepare_data(test_raw)\n",
        "test['nltk_word_list'] = test['utterance'].apply(nltk_tokenize)\n",
        "test_X_nltk = v_nltk.transform(Counter(row['nltk_word_list']) for _, row in test.iterrows())\n",
        "test_X_norm = vectorizer.transform(test_X_nltk)\n",
        "print (test.shape)\n",
        "test.head()"
      ],
      "execution_count": 22,
      "outputs": [
        {
          "output_type": "stream",
          "text": [
            "(1382, 3)\n"
          ],
          "name": "stdout"
        },
        {
          "output_type": "execute_result",
          "data": {
            "text/html": [
              "<div>\n",
              "<style scoped>\n",
              "    .dataframe tbody tr th:only-of-type {\n",
              "        vertical-align: middle;\n",
              "    }\n",
              "\n",
              "    .dataframe tbody tr th {\n",
              "        vertical-align: top;\n",
              "    }\n",
              "\n",
              "    .dataframe thead th {\n",
              "        text-align: right;\n",
              "    }\n",
              "</style>\n",
              "<table border=\"1\" class=\"dataframe\">\n",
              "  <thead>\n",
              "    <tr style=\"text-align: right;\">\n",
              "      <th></th>\n",
              "      <th>utterance</th>\n",
              "      <th>context</th>\n",
              "      <th>nltk_word_list</th>\n",
              "    </tr>\n",
              "  </thead>\n",
              "  <tbody>\n",
              "    <tr>\n",
              "      <th>0</th>\n",
              "      <td>I'm so sad because i've read an article about ...</td>\n",
              "      <td>sad</td>\n",
              "      <td>[article, doctor, sad, girl, medication, read,...</td>\n",
              "    </tr>\n",
              "    <tr>\n",
              "      <th>1</th>\n",
              "      <td>Ugh_comma_ those articles always get me too......</td>\n",
              "      <td>sad</td>\n",
              "      <td>[article, always, wrong, get, ugh, wa]</td>\n",
              "    </tr>\n",
              "    <tr>\n",
              "      <th>2</th>\n",
              "      <td>she was born premature at home_comma_ she had ...</td>\n",
              "      <td>sad</td>\n",
              "      <td>[doctor, born, home, breathing, taking, instea...</td>\n",
              "    </tr>\n",
              "    <tr>\n",
              "      <th>3</th>\n",
              "      <td>Jeez! Its so unfortunate... very sad really.</td>\n",
              "      <td>sad</td>\n",
              "      <td>[really, unfortunate, sad, jeez]</td>\n",
              "    </tr>\n",
              "    <tr>\n",
              "      <th>4</th>\n",
              "      <td>yes! And i do believe in God and prayers but g...</td>\n",
              "      <td>sad</td>\n",
              "      <td>[take, hospital, doctor, prayer, goodness, ple...</td>\n",
              "    </tr>\n",
              "  </tbody>\n",
              "</table>\n",
              "</div>"
            ],
            "text/plain": [
              "                                           utterance  ...                                     nltk_word_list\n",
              "0  I'm so sad because i've read an article about ...  ...  [article, doctor, sad, girl, medication, read,...\n",
              "1  Ugh_comma_ those articles always get me too......  ...             [article, always, wrong, get, ugh, wa]\n",
              "2  she was born premature at home_comma_ she had ...  ...  [doctor, born, home, breathing, taking, instea...\n",
              "3      Jeez! Its so unfortunate... very sad really.   ...                   [really, unfortunate, sad, jeez]\n",
              "4  yes! And i do believe in God and prayers but g...  ...  [take, hospital, doctor, prayer, goodness, ple...\n",
              "\n",
              "[5 rows x 3 columns]"
            ]
          },
          "metadata": {
            "tags": []
          },
          "execution_count": 22
        }
      ]
    },
    {
      "cell_type": "code",
      "metadata": {
        "id": "amCKdKc2FvnM",
        "colab_type": "code",
        "outputId": "21fea018-7f8b-4473-86c8-18f07b7fb957",
        "colab": {
          "base_uri": "https://localhost:8080/",
          "height": 119
        }
      },
      "source": [
        "clf = SGDClassifier(random_state = 0, loss = 'log', max_iter = 100)\n",
        "clf.fit(X_norm, train['context'])"
      ],
      "execution_count": 23,
      "outputs": [
        {
          "output_type": "execute_result",
          "data": {
            "text/plain": [
              "SGDClassifier(alpha=0.0001, average=False, class_weight=None,\n",
              "              early_stopping=False, epsilon=0.1, eta0=0.0, fit_intercept=True,\n",
              "              l1_ratio=0.15, learning_rate='optimal', loss='log', max_iter=100,\n",
              "              n_iter_no_change=5, n_jobs=None, penalty='l2', power_t=0.5,\n",
              "              random_state=0, shuffle=True, tol=0.001, validation_fraction=0.1,\n",
              "              verbose=0, warm_start=False)"
            ]
          },
          "metadata": {
            "tags": []
          },
          "execution_count": 23
        }
      ]
    },
    {
      "cell_type": "code",
      "metadata": {
        "id": "-krRb-3NFvnQ",
        "colab_type": "code",
        "colab": {}
      },
      "source": [
        "def output_model_result(model, test_X, y):\n",
        "    y_predict = model.predict(test_X)\n",
        "    print (\"Accuracy Score: %2.1f%%\"%(accuracy_score(y,y_predict)*100.0))\n",
        "    print (\"F1 Score:\")\n",
        "    f1_list = f1_score(y,y_predict,average=None,labels=['sad', 'jealous', 'joyful', 'terrified'])\n",
        "    print (f1_list)\n",
        "    print (\"Avg F1 Score: %2.1f%%\"%(sum(f1_list)/len(f1_list)*100.0))\n",
        "    print (\"Confusion Matrix: \")\n",
        "    cm = confusion_matrix(y,y_predict,labels=['sad', 'jealous', 'joyful', 'terrified'])\n",
        "    print (cm)\n",
        "    print (\"Normalized Confusion Matrix: \")\n",
        "    cm_norm = (cm/(cm.dot(np.ones((4,1)))))\n",
        "    print (cm_norm)"
      ],
      "execution_count": 0,
      "outputs": []
    },
    {
      "cell_type": "code",
      "metadata": {
        "id": "9QNyS-3Ru_0E",
        "colab_type": "code",
        "outputId": "e07168a9-0b1d-44ca-8fc7-a5b2dd9cfbff",
        "colab": {
          "base_uri": "https://localhost:8080/",
          "height": 255
        }
      },
      "source": [
        "output_model_result(clf,X_norm, train['context']) #train set result"
      ],
      "execution_count": 25,
      "outputs": [
        {
          "output_type": "stream",
          "text": [
            "Accuracy Score: 76.0%\n",
            "F1 Score:\n",
            "[0.74252566 0.74588477 0.75735797 0.79331257]\n",
            "Avg F1 Score: 76.0%\n",
            "Confusion Matrix: \n",
            "[[2496  301  262  268]\n",
            " [ 325 2175  268  162]\n",
            " [ 278  251 2213  182]\n",
            " [ 297  175  177 2420]]\n",
            "Normalized Confusion Matrix: \n",
            "[[0.75022543 0.0904719  0.07874962 0.08055305]\n",
            " [0.1109215  0.74232082 0.09146758 0.0552901 ]\n",
            " [0.09507524 0.08584131 0.75683995 0.0622435 ]\n",
            " [0.09677419 0.05702183 0.05767351 0.78853047]]\n"
          ],
          "name": "stdout"
        }
      ]
    },
    {
      "cell_type": "code",
      "metadata": {
        "id": "O93UPPqyFvnR",
        "colab_type": "code",
        "outputId": "6edc56b2-6543-4a03-ae0e-0a6ebab74433",
        "colab": {
          "base_uri": "https://localhost:8080/",
          "height": 255
        }
      },
      "source": [
        "output_model_result(clf,test_X_norm, test['context']) #test set result"
      ],
      "execution_count": 26,
      "outputs": [
        {
          "output_type": "stream",
          "text": [
            "Accuracy Score: 63.3%\n",
            "F1 Score:\n",
            "[0.62418726 0.5852187  0.62857143 0.69936709]\n",
            "Avg F1 Score: 63.4%\n",
            "Confusion Matrix: \n",
            "[[240  41  47  46]\n",
            " [ 63 194  59  38]\n",
            " [ 59  48 220  29]\n",
            " [ 33  26  18 221]]\n",
            "Normalized Confusion Matrix: \n",
            "[[0.64171123 0.10962567 0.12566845 0.12299465]\n",
            " [0.1779661  0.5480226  0.16666667 0.10734463]\n",
            " [0.16573034 0.13483146 0.61797753 0.08146067]\n",
            " [0.11073826 0.08724832 0.06040268 0.74161074]]\n"
          ],
          "name": "stdout"
        }
      ]
    },
    {
      "cell_type": "code",
      "metadata": {
        "id": "iq3U1-1EFvnT",
        "colab_type": "code",
        "outputId": "a46914c6-a044-44a0-b83b-29f19ea1553e",
        "colab": {
          "base_uri": "https://localhost:8080/",
          "height": 359
        }
      },
      "source": [
        "test['predicted'] = clf.predict(test_X_norm)\n",
        "test[test['predicted'] != test['context']].head(10)"
      ],
      "execution_count": 27,
      "outputs": [
        {
          "output_type": "execute_result",
          "data": {
            "text/html": [
              "<div>\n",
              "<style scoped>\n",
              "    .dataframe tbody tr th:only-of-type {\n",
              "        vertical-align: middle;\n",
              "    }\n",
              "\n",
              "    .dataframe tbody tr th {\n",
              "        vertical-align: top;\n",
              "    }\n",
              "\n",
              "    .dataframe thead th {\n",
              "        text-align: right;\n",
              "    }\n",
              "</style>\n",
              "<table border=\"1\" class=\"dataframe\">\n",
              "  <thead>\n",
              "    <tr style=\"text-align: right;\">\n",
              "      <th></th>\n",
              "      <th>utterance</th>\n",
              "      <th>context</th>\n",
              "      <th>nltk_word_list</th>\n",
              "      <th>predicted</th>\n",
              "    </tr>\n",
              "  </thead>\n",
              "  <tbody>\n",
              "    <tr>\n",
              "      <th>2</th>\n",
              "      <td>she was born premature at home_comma_ she had ...</td>\n",
              "      <td>sad</td>\n",
              "      <td>[doctor, born, home, breathing, taking, instea...</td>\n",
              "      <td>terrified</td>\n",
              "    </tr>\n",
              "    <tr>\n",
              "      <th>4</th>\n",
              "      <td>yes! And i do believe in God and prayers but g...</td>\n",
              "      <td>sad</td>\n",
              "      <td>[take, hospital, doctor, prayer, goodness, ple...</td>\n",
              "      <td>terrified</td>\n",
              "    </tr>\n",
              "    <tr>\n",
              "      <th>6</th>\n",
              "      <td>3 years is a long time. How come?</td>\n",
              "      <td>joyful</td>\n",
              "      <td>[long, time, come, year]</td>\n",
              "      <td>sad</td>\n",
              "    </tr>\n",
              "    <tr>\n",
              "      <th>8</th>\n",
              "      <td>Oh I see. They must miss you_comma_ too.</td>\n",
              "      <td>joyful</td>\n",
              "      <td>[must, see, miss, oh]</td>\n",
              "      <td>sad</td>\n",
              "    </tr>\n",
              "    <tr>\n",
              "      <th>14</th>\n",
              "      <td>She was around 11_comma_ so she took it very h...</td>\n",
              "      <td>sad</td>\n",
              "      <td>[around, knew, home, school, took, went, stay,...</td>\n",
              "      <td>terrified</td>\n",
              "    </tr>\n",
              "    <tr>\n",
              "      <th>16</th>\n",
              "      <td>One of the saddest things to me is when people...</td>\n",
              "      <td>sad</td>\n",
              "      <td>[underestimate, thing, people, capable, one, s...</td>\n",
              "      <td>jealous</td>\n",
              "    </tr>\n",
              "    <tr>\n",
              "      <th>18</th>\n",
              "      <td>That's perfectly natural. You sound like the k...</td>\n",
              "      <td>sad</td>\n",
              "      <td>[come, though, quickly, like, bearing, perfect...</td>\n",
              "      <td>jealous</td>\n",
              "    </tr>\n",
              "    <tr>\n",
              "      <th>20</th>\n",
              "      <td>I met up with an old flame recently_comma_ did...</td>\n",
              "      <td>jealous</td>\n",
              "      <td>[met, expected, go, old, flame, recently]</td>\n",
              "      <td>sad</td>\n",
              "    </tr>\n",
              "    <tr>\n",
              "      <th>21</th>\n",
              "      <td>Oh ya? What happened?? I'm intrigued</td>\n",
              "      <td>jealous</td>\n",
              "      <td>[happened, ya, intrigued, oh]</td>\n",
              "      <td>terrified</td>\n",
              "    </tr>\n",
              "    <tr>\n",
              "      <th>23</th>\n",
              "      <td>Woah plot twist. She brought him along to meet...</td>\n",
              "      <td>jealous</td>\n",
              "      <td>[twist, along, meet, woah, plot, brought]</td>\n",
              "      <td>joyful</td>\n",
              "    </tr>\n",
              "  </tbody>\n",
              "</table>\n",
              "</div>"
            ],
            "text/plain": [
              "                                            utterance  ...  predicted\n",
              "2   she was born premature at home_comma_ she had ...  ...  terrified\n",
              "4   yes! And i do believe in God and prayers but g...  ...  terrified\n",
              "6                   3 years is a long time. How come?  ...        sad\n",
              "8            Oh I see. They must miss you_comma_ too.  ...        sad\n",
              "14  She was around 11_comma_ so she took it very h...  ...  terrified\n",
              "16  One of the saddest things to me is when people...  ...    jealous\n",
              "18  That's perfectly natural. You sound like the k...  ...    jealous\n",
              "20  I met up with an old flame recently_comma_ did...  ...        sad\n",
              "21               Oh ya? What happened?? I'm intrigued  ...  terrified\n",
              "23  Woah plot twist. She brought him along to meet...  ...     joyful\n",
              "\n",
              "[10 rows x 4 columns]"
            ]
          },
          "metadata": {
            "tags": []
          },
          "execution_count": 27
        }
      ]
    },
    {
      "cell_type": "code",
      "metadata": {
        "id": "Ho9tjd6SFvnU",
        "colab_type": "code",
        "colab": {}
      },
      "source": [
        "def get_missing_word_percent(word_list, vocab):\n",
        "    count = 0\n",
        "    missing_count = 0\n",
        "    for w in word_list:\n",
        "        count += 1\n",
        "        if w not in vocab:\n",
        "            missing_count += 1\n",
        "    if count == 0:\n",
        "        return 0\n",
        "    return float(missing_count)/float(count)"
      ],
      "execution_count": 0,
      "outputs": []
    },
    {
      "cell_type": "code",
      "metadata": {
        "id": "GKCxzM06FvnV",
        "colab_type": "code",
        "outputId": "3fd38f72-45b3-44ea-a660-95b357fc9f60",
        "colab": {
          "base_uri": "https://localhost:8080/",
          "height": 359
        }
      },
      "source": [
        "test['missing_percent'] = test['nltk_word_list'].map(lambda x: get_missing_word_percent(x, v_nltk.vocabulary_))\n",
        "test[test['predicted'] != test['context']].head(10)"
      ],
      "execution_count": 29,
      "outputs": [
        {
          "output_type": "execute_result",
          "data": {
            "text/html": [
              "<div>\n",
              "<style scoped>\n",
              "    .dataframe tbody tr th:only-of-type {\n",
              "        vertical-align: middle;\n",
              "    }\n",
              "\n",
              "    .dataframe tbody tr th {\n",
              "        vertical-align: top;\n",
              "    }\n",
              "\n",
              "    .dataframe thead th {\n",
              "        text-align: right;\n",
              "    }\n",
              "</style>\n",
              "<table border=\"1\" class=\"dataframe\">\n",
              "  <thead>\n",
              "    <tr style=\"text-align: right;\">\n",
              "      <th></th>\n",
              "      <th>utterance</th>\n",
              "      <th>context</th>\n",
              "      <th>nltk_word_list</th>\n",
              "      <th>predicted</th>\n",
              "      <th>missing_percent</th>\n",
              "    </tr>\n",
              "  </thead>\n",
              "  <tbody>\n",
              "    <tr>\n",
              "      <th>2</th>\n",
              "      <td>she was born premature at home_comma_ she had ...</td>\n",
              "      <td>sad</td>\n",
              "      <td>[doctor, born, home, breathing, taking, instea...</td>\n",
              "      <td>terrified</td>\n",
              "      <td>0.083333</td>\n",
              "    </tr>\n",
              "    <tr>\n",
              "      <th>4</th>\n",
              "      <td>yes! And i do believe in God and prayers but g...</td>\n",
              "      <td>sad</td>\n",
              "      <td>[take, hospital, doctor, prayer, goodness, ple...</td>\n",
              "      <td>terrified</td>\n",
              "      <td>0.076923</td>\n",
              "    </tr>\n",
              "    <tr>\n",
              "      <th>6</th>\n",
              "      <td>3 years is a long time. How come?</td>\n",
              "      <td>joyful</td>\n",
              "      <td>[long, time, come, year]</td>\n",
              "      <td>sad</td>\n",
              "      <td>0.000000</td>\n",
              "    </tr>\n",
              "    <tr>\n",
              "      <th>8</th>\n",
              "      <td>Oh I see. They must miss you_comma_ too.</td>\n",
              "      <td>joyful</td>\n",
              "      <td>[must, see, miss, oh]</td>\n",
              "      <td>sad</td>\n",
              "      <td>0.000000</td>\n",
              "    </tr>\n",
              "    <tr>\n",
              "      <th>14</th>\n",
              "      <td>She was around 11_comma_ so she took it very h...</td>\n",
              "      <td>sad</td>\n",
              "      <td>[around, knew, home, school, took, went, stay,...</td>\n",
              "      <td>terrified</td>\n",
              "      <td>0.000000</td>\n",
              "    </tr>\n",
              "    <tr>\n",
              "      <th>16</th>\n",
              "      <td>One of the saddest things to me is when people...</td>\n",
              "      <td>sad</td>\n",
              "      <td>[underestimate, thing, people, capable, one, s...</td>\n",
              "      <td>jealous</td>\n",
              "      <td>0.333333</td>\n",
              "    </tr>\n",
              "    <tr>\n",
              "      <th>18</th>\n",
              "      <td>That's perfectly natural. You sound like the k...</td>\n",
              "      <td>sad</td>\n",
              "      <td>[come, though, quickly, like, bearing, perfect...</td>\n",
              "      <td>jealous</td>\n",
              "      <td>0.142857</td>\n",
              "    </tr>\n",
              "    <tr>\n",
              "      <th>20</th>\n",
              "      <td>I met up with an old flame recently_comma_ did...</td>\n",
              "      <td>jealous</td>\n",
              "      <td>[met, expected, go, old, flame, recently]</td>\n",
              "      <td>sad</td>\n",
              "      <td>0.000000</td>\n",
              "    </tr>\n",
              "    <tr>\n",
              "      <th>21</th>\n",
              "      <td>Oh ya? What happened?? I'm intrigued</td>\n",
              "      <td>jealous</td>\n",
              "      <td>[happened, ya, intrigued, oh]</td>\n",
              "      <td>terrified</td>\n",
              "      <td>0.250000</td>\n",
              "    </tr>\n",
              "    <tr>\n",
              "      <th>23</th>\n",
              "      <td>Woah plot twist. She brought him along to meet...</td>\n",
              "      <td>jealous</td>\n",
              "      <td>[twist, along, meet, woah, plot, brought]</td>\n",
              "      <td>joyful</td>\n",
              "      <td>0.333333</td>\n",
              "    </tr>\n",
              "  </tbody>\n",
              "</table>\n",
              "</div>"
            ],
            "text/plain": [
              "                                            utterance  ... missing_percent\n",
              "2   she was born premature at home_comma_ she had ...  ...        0.083333\n",
              "4   yes! And i do believe in God and prayers but g...  ...        0.076923\n",
              "6                   3 years is a long time. How come?  ...        0.000000\n",
              "8            Oh I see. They must miss you_comma_ too.  ...        0.000000\n",
              "14  She was around 11_comma_ so she took it very h...  ...        0.000000\n",
              "16  One of the saddest things to me is when people...  ...        0.333333\n",
              "18  That's perfectly natural. You sound like the k...  ...        0.142857\n",
              "20  I met up with an old flame recently_comma_ did...  ...        0.000000\n",
              "21               Oh ya? What happened?? I'm intrigued  ...        0.250000\n",
              "23  Woah plot twist. She brought him along to meet...  ...        0.333333\n",
              "\n",
              "[10 rows x 5 columns]"
            ]
          },
          "metadata": {
            "tags": []
          },
          "execution_count": 29
        }
      ]
    },
    {
      "cell_type": "code",
      "metadata": {
        "id": "i1ko0K35FvnX",
        "colab_type": "code",
        "outputId": "627da618-d5ef-4363-a677-19ca4afca5f9",
        "colab": {
          "base_uri": "https://localhost:8080/",
          "height": 359
        }
      },
      "source": [
        "test.sort_values('missing_percent',ascending=False).head(10)"
      ],
      "execution_count": 30,
      "outputs": [
        {
          "output_type": "execute_result",
          "data": {
            "text/html": [
              "<div>\n",
              "<style scoped>\n",
              "    .dataframe tbody tr th:only-of-type {\n",
              "        vertical-align: middle;\n",
              "    }\n",
              "\n",
              "    .dataframe tbody tr th {\n",
              "        vertical-align: top;\n",
              "    }\n",
              "\n",
              "    .dataframe thead th {\n",
              "        text-align: right;\n",
              "    }\n",
              "</style>\n",
              "<table border=\"1\" class=\"dataframe\">\n",
              "  <thead>\n",
              "    <tr style=\"text-align: right;\">\n",
              "      <th></th>\n",
              "      <th>utterance</th>\n",
              "      <th>context</th>\n",
              "      <th>nltk_word_list</th>\n",
              "      <th>predicted</th>\n",
              "      <th>missing_percent</th>\n",
              "    </tr>\n",
              "  </thead>\n",
              "  <tbody>\n",
              "    <tr>\n",
              "      <th>81</th>\n",
              "      <td>Justin Beiber.</td>\n",
              "      <td>jealous</td>\n",
              "      <td>[justin, beiber]</td>\n",
              "      <td>terrified</td>\n",
              "      <td>1.000000</td>\n",
              "    </tr>\n",
              "    <tr>\n",
              "      <th>571</th>\n",
              "      <td>That is infair</td>\n",
              "      <td>jealous</td>\n",
              "      <td>[infair]</td>\n",
              "      <td>terrified</td>\n",
              "      <td>1.000000</td>\n",
              "    </tr>\n",
              "    <tr>\n",
              "      <th>545</th>\n",
              "      <td>I am very excited for the arrival of our 7th g...</td>\n",
              "      <td>joyful</td>\n",
              "      <td>[grandbaby, arrival, excited]</td>\n",
              "      <td>joyful</td>\n",
              "      <td>0.666667</td>\n",
              "    </tr>\n",
              "    <tr>\n",
              "      <th>98</th>\n",
              "      <td>Someone should have sued them.</td>\n",
              "      <td>sad</td>\n",
              "      <td>[sued, someone]</td>\n",
              "      <td>terrified</td>\n",
              "      <td>0.500000</td>\n",
              "    </tr>\n",
              "    <tr>\n",
              "      <th>1078</th>\n",
              "      <td>i like paprika in my mac and cheese</td>\n",
              "      <td>joyful</td>\n",
              "      <td>[like, mac, cheese, paprika]</td>\n",
              "      <td>joyful</td>\n",
              "      <td>0.500000</td>\n",
              "    </tr>\n",
              "    <tr>\n",
              "      <th>168</th>\n",
              "      <td>Thank you for your solidarity</td>\n",
              "      <td>sad</td>\n",
              "      <td>[solidarity, thank]</td>\n",
              "      <td>joyful</td>\n",
              "      <td>0.500000</td>\n",
              "    </tr>\n",
              "    <tr>\n",
              "      <th>915</th>\n",
              "      <td>I named her Layla.</td>\n",
              "      <td>joyful</td>\n",
              "      <td>[layla, named]</td>\n",
              "      <td>joyful</td>\n",
              "      <td>0.500000</td>\n",
              "    </tr>\n",
              "    <tr>\n",
              "      <th>575</th>\n",
              "      <td>Do you smack the women who do it?</td>\n",
              "      <td>jealous</td>\n",
              "      <td>[smack, woman]</td>\n",
              "      <td>jealous</td>\n",
              "      <td>0.500000</td>\n",
              "    </tr>\n",
              "    <tr>\n",
              "      <th>306</th>\n",
              "      <td>If I had dispensible funds like that_comma_ th...</td>\n",
              "      <td>joyful</td>\n",
              "      <td>[definitely, pillow, ala, like, fund, guy, pri...</td>\n",
              "      <td>jealous</td>\n",
              "      <td>0.500000</td>\n",
              "    </tr>\n",
              "    <tr>\n",
              "      <th>704</th>\n",
              "      <td>Emerged from a bathroom? Intiguing. What do yo...</td>\n",
              "      <td>sad</td>\n",
              "      <td>[bathroom, intiguing, emerged, mean]</td>\n",
              "      <td>jealous</td>\n",
              "      <td>0.500000</td>\n",
              "    </tr>\n",
              "  </tbody>\n",
              "</table>\n",
              "</div>"
            ],
            "text/plain": [
              "                                              utterance  ... missing_percent\n",
              "81                                       Justin Beiber.  ...        1.000000\n",
              "571                                      That is infair  ...        1.000000\n",
              "545   I am very excited for the arrival of our 7th g...  ...        0.666667\n",
              "98                       Someone should have sued them.  ...        0.500000\n",
              "1078                i like paprika in my mac and cheese  ...        0.500000\n",
              "168                       Thank you for your solidarity  ...        0.500000\n",
              "915                                  I named her Layla.  ...        0.500000\n",
              "575                   Do you smack the women who do it?  ...        0.500000\n",
              "306   If I had dispensible funds like that_comma_ th...  ...        0.500000\n",
              "704   Emerged from a bathroom? Intiguing. What do yo...  ...        0.500000\n",
              "\n",
              "[10 rows x 5 columns]"
            ]
          },
          "metadata": {
            "tags": []
          },
          "execution_count": 30
        }
      ]
    },
    {
      "cell_type": "code",
      "metadata": {
        "id": "7Twp-qAJFvnZ",
        "colab_type": "code",
        "outputId": "2b394359-70b8-4eee-eb77-23be8435e17d",
        "colab": {
          "base_uri": "https://localhost:8080/",
          "height": 68
        }
      },
      "source": [
        "p = 0.2\n",
        "print (test[test['missing_percent']>=p].shape[0])\n",
        "print (test.shape[0])\n",
        "print (\"Accuracy Score when missing_percent >= %.1f: %2.1f%%\"%(p,accuracy_score(test[test['missing_percent']>=p]['context'],test[test['missing_percent']>=p]['predicted'])*100))"
      ],
      "execution_count": 31,
      "outputs": [
        {
          "output_type": "stream",
          "text": [
            "138\n",
            "1382\n",
            "Accuracy Score when missing_percent >= 0.2: 44.9%\n"
          ],
          "name": "stdout"
        }
      ]
    },
    {
      "cell_type": "markdown",
      "metadata": {
        "id": "_Jz_K8yPLBde",
        "colab_type": "text"
      },
      "source": [
        "## Pretrained Model - wordToVec"
      ]
    },
    {
      "cell_type": "code",
      "metadata": {
        "id": "FyuWrcHAFvnc",
        "colab_type": "code",
        "colab": {}
      },
      "source": [
        "import gensim\n",
        "from gensim.models.word2vec import Word2Vec # the word2vec model gensim class\n",
        "from tqdm import tqdm\n",
        "#tqdm.pandas(desc=\"progress-bar\")\n"
      ],
      "execution_count": 0,
      "outputs": []
    },
    {
      "cell_type": "code",
      "metadata": {
        "id": "LT_SFuAiFvnf",
        "colab_type": "code",
        "outputId": "3652e380-ca06-4fdc-a5ee-b8bd06b30c45",
        "colab": {
          "base_uri": "https://localhost:8080/",
          "height": 71
        }
      },
      "source": [
        "model = gensim.models.KeyedVectors.load_word2vec_format('/content/drive/My Drive/Colab Notebooks/GoogleNews-vectors-negative300.bin.gz', binary=True)"
      ],
      "execution_count": 33,
      "outputs": [
        {
          "output_type": "stream",
          "text": [
            "/usr/local/lib/python3.6/dist-packages/smart_open/smart_open_lib.py:398: UserWarning: This function is deprecated, use smart_open.open instead. See the migration notes for details: https://github.com/RaRe-Technologies/smart_open/blob/master/README.rst#migrating-to-the-new-open-function\n",
            "  'See the migration notes for details: %s' % _MIGRATION_NOTES_URL\n"
          ],
          "name": "stderr"
        }
      ]
    },
    {
      "cell_type": "code",
      "metadata": {
        "id": "b_G2x19rFvng",
        "colab_type": "code",
        "outputId": "f757b121-abcf-4759-97d6-496e1023c4c5",
        "colab": {
          "base_uri": "https://localhost:8080/",
          "height": 241
        }
      },
      "source": [
        "model.most_similar('question')"
      ],
      "execution_count": 34,
      "outputs": [
        {
          "output_type": "stream",
          "text": [
            "/usr/local/lib/python3.6/dist-packages/gensim/matutils.py:737: FutureWarning: Conversion of the second argument of issubdtype from `int` to `np.signedinteger` is deprecated. In future, it will be treated as `np.int64 == np.dtype(int).type`.\n",
            "  if np.issubdtype(vec.dtype, np.int):\n"
          ],
          "name": "stderr"
        },
        {
          "output_type": "execute_result",
          "data": {
            "text/plain": [
              "[('questions', 0.7561894655227661),\n",
              " ('unasked_question', 0.6627503633499146),\n",
              " ('quesiton', 0.6254581212997437),\n",
              " ('unanswerable_question', 0.6157240271568298),\n",
              " ('quesion', 0.6034299731254578),\n",
              " ('answer', 0.5857622623443604),\n",
              " ('Questions', 0.5840161442756653),\n",
              " ('Question', 0.5829653739929199),\n",
              " ('queston', 0.5682158470153809),\n",
              " ('conundrum', 0.5641218423843384)]"
            ]
          },
          "metadata": {
            "tags": []
          },
          "execution_count": 34
        }
      ]
    },
    {
      "cell_type": "code",
      "metadata": {
        "id": "9nPdRdVCFvni",
        "colab_type": "code",
        "colab": {}
      },
      "source": [
        "from sklearn.feature_extraction.text import TfidfVectorizer\n",
        "from collections import defaultdict\n",
        "class TfidfEmbeddingVectorizer(object):\n",
        "    def __init__(self, word2vec):\n",
        "        self.word2vec = word2vec\n",
        "        self.word2weight = None\n",
        "        self.dim = 300\n",
        "\n",
        "    def fit(self, X, y=None):\n",
        "        tfidf = TfidfVectorizer(analyzer=lambda x: x,min_df=3)\n",
        "        tfidf.fit(X)\n",
        "        default_idf = float(sum(tfidf.idf_))/float(len(tfidf.idf_))\n",
        "        self.word2weight = defaultdict(\n",
        "            lambda: default_idf,\n",
        "            [(w, tfidf.idf_[i]) for w, i in tfidf.vocabulary_.items()])\n",
        "        return self\n",
        "\n",
        "    def transform(self, X):\n",
        "        return np.array([\n",
        "                np.mean([self.word2vec[w] * self.word2weight[w]\n",
        "                         for w in words if w in self.word2vec] or\n",
        "                        [np.zeros(self.dim)], axis=0)\n",
        "                for words in X])"
      ],
      "execution_count": 0,
      "outputs": []
    },
    {
      "cell_type": "code",
      "metadata": {
        "id": "LFSAh8tBmDg3",
        "colab_type": "code",
        "colab": {}
      },
      "source": [
        "class MeanEmbeddingVectorizer(object):\n",
        "    def __init__(self, word2vec):\n",
        "        self.word2vec = word2vec\n",
        "        self.dim = 300\n",
        "\n",
        "    def fit(self, X, y=None):\n",
        "        return self\n",
        "\n",
        "    def transform(self, X):\n",
        "        #for words in X:\n",
        "        #  for w in words:\n",
        "        #    if (w not in self.word2vec) and (len(w.split(\"_\")) == 1):\n",
        "        #        print (\"Not in word2vec:\" + w)\n",
        "        #    if (w in self.word2vec) and (len(w.split(\"_\")) > 1):\n",
        "        #        print (\"Phases in word2vec:\" + w)\n",
        "        return np.array([\n",
        "            np.mean([self.word2vec[w] for w in words if w in self.word2vec]\n",
        "                    or [np.zeros(self.dim)], axis=0)\n",
        "            for words in X])"
      ],
      "execution_count": 0,
      "outputs": []
    },
    {
      "cell_type": "code",
      "metadata": {
        "id": "EOf6txRfHm21",
        "colab_type": "code",
        "outputId": "3e75f508-e4e8-4e24-8d4b-13ae3de9eb00",
        "colab": {
          "base_uri": "https://localhost:8080/",
          "height": 71
        }
      },
      "source": [
        "from nltk.util import everygrams\n",
        "import re\n",
        "\n",
        "stop_words = set(stopwords.words('english'))\n",
        "#stop_words.update([\"comma\",\"wa\",\"get\",\"oh\",\"got\",\"go\"])\n",
        "stop_words.update([\"comma\",\".\",\",\"])\n",
        "stop_words.remove(\"not\")\n",
        "\n",
        "lemmatizer = WordNetLemmatizer()\n",
        "spell = Speller(lang='en')\n",
        "def ngram_tokenize(sentence):\n",
        "    sentence = sentence.lower()\n",
        "    sentence = sentence.replace(\".\", \" \")\\\n",
        "        .replace('_',' ')\\\n",
        "        .replace(\". . .\", \" ... \")\\\n",
        "        .replace(\",\", \" \")\\\n",
        "        .replace(\";\", \" \")\\\n",
        "        .replace(\":\", \" \")\\\n",
        "        .replace(\"!\", \" ! \")\\\n",
        "        .replace(\"n't\",' not')\\\n",
        "        .replace('\"', \" \")\\\n",
        "        .replace(\"?\", \" \")\n",
        "    sentence = re.sub(r'\\$[0-9]+',\"<dollar>\",sentence)\n",
        "    sentence = re.sub(r'[0-9]+(\\s)?dollar(s)?',\"<dollar>\",sentence)\n",
        "    sentence = re.sub(r'[0-9]+',\"<number>\",sentence)\n",
        "    sentence = re.sub(r\"\\'[a-z]\\S*\",\"\",sentence)\n",
        "    words = sentence.lower().split()\n",
        "    words = [spell(lemmatizer.lemmatize(w)) for w in words]\n",
        "    words = [w for w in words if w not in stop_words]\n",
        "    return [\"_\".join(x) for x in (everygrams(words, max_len=3))]\n",
        "    \n",
        "print (ngram_tokenize(train.iloc[1,0]))\n",
        "print (ngram_tokenize(\"I have $5 in linda's pocket or 5 dollar in my hand. That's simply awesome. We've been friend. \"))"
      ],
      "execution_count": 37,
      "outputs": [
        {
          "output_type": "stream",
          "text": [
            "['not', 'nervous', 'prepared', 'not_nervous', 'nervous_prepared', 'not_nervous_prepared']\n",
            "['<dollar>', 'linda', 'pocket', '<dollar>', 'hand', 'simply', 'awesome', 'friend', '<dollar>_linda', 'linda_pocket', 'pocket_<dollar>', '<dollar>_hand', 'hand_simply', 'simply_awesome', 'awesome_friend', '<dollar>_linda_pocket', 'linda_pocket_<dollar>', 'pocket_<dollar>_hand', '<dollar>_hand_simply', 'hand_simply_awesome', 'simply_awesome_friend']\n"
          ],
          "name": "stdout"
        }
      ]
    },
    {
      "cell_type": "code",
      "metadata": {
        "id": "RVf-RrBgJHHX",
        "colab_type": "code",
        "outputId": "90db7e1f-86e2-4f46-910a-5b02e3fb685d",
        "colab": {
          "base_uri": "https://localhost:8080/",
          "height": 272
        }
      },
      "source": [
        "train['ngram_word_list'] = train['utterance'].apply(ngram_tokenize)\n",
        "test['ngram_word_list'] = test['utterance'].apply(ngram_tokenize)\n",
        "train.head()"
      ],
      "execution_count": 38,
      "outputs": [
        {
          "output_type": "execute_result",
          "data": {
            "text/html": [
              "<div>\n",
              "<style scoped>\n",
              "    .dataframe tbody tr th:only-of-type {\n",
              "        vertical-align: middle;\n",
              "    }\n",
              "\n",
              "    .dataframe tbody tr th {\n",
              "        vertical-align: top;\n",
              "    }\n",
              "\n",
              "    .dataframe thead th {\n",
              "        text-align: right;\n",
              "    }\n",
              "</style>\n",
              "<table border=\"1\" class=\"dataframe\">\n",
              "  <thead>\n",
              "    <tr style=\"text-align: right;\">\n",
              "      <th></th>\n",
              "      <th>utterance</th>\n",
              "      <th>context</th>\n",
              "      <th>word_list</th>\n",
              "      <th>nltk_word_list</th>\n",
              "      <th>ngram_word_list</th>\n",
              "    </tr>\n",
              "  </thead>\n",
              "  <tbody>\n",
              "    <tr>\n",
              "      <th>0</th>\n",
              "      <td>Job interviews always make me sweat bullets_co...</td>\n",
              "      <td>terrified</td>\n",
              "      <td>[me, a, under, interviews, microscope, makes, ...</td>\n",
              "      <td>[sweat, microscope, always, make, like, looked...</td>\n",
              "      <td>[job, interview, always, make, sweat, bullet, ...</td>\n",
              "    </tr>\n",
              "    <tr>\n",
              "      <th>1</th>\n",
              "      <td>Don't be nervous. Just be prepared.</td>\n",
              "      <td>terrified</td>\n",
              "      <td>[prepared, just, don, nervous, be, t]</td>\n",
              "      <td>[prepared, nervous]</td>\n",
              "      <td>[not, nervous, prepared, not_nervous, nervous_...</td>\n",
              "    </tr>\n",
              "    <tr>\n",
              "      <th>2</th>\n",
              "      <td>I feel like getting prepared and then having a...</td>\n",
              "      <td>terrified</td>\n",
              "      <td>[at, prepared, thrown, curve, off, like, throw...</td>\n",
              "      <td>[prepared, thrown, curve, throw, like, ball, f...</td>\n",
              "      <td>[feel, like, getting, prepared, curve, ball, t...</td>\n",
              "    </tr>\n",
              "    <tr>\n",
              "      <th>3</th>\n",
              "      <td>Yes but if you stay calm it will be ok.</td>\n",
              "      <td>terrified</td>\n",
              "      <td>[but, stay, ok, if, yes, it, be, calm, will, you]</td>\n",
              "      <td>[ok, yes, stay, calm]</td>\n",
              "      <td>[yes, stay, calm, ok, yes_stay, stay_calm, cal...</td>\n",
              "    </tr>\n",
              "    <tr>\n",
              "      <th>4</th>\n",
              "      <td>It's hard to stay clam. How do you do it?</td>\n",
              "      <td>terrified</td>\n",
              "      <td>[clam, s, do, stay, to, it, hard, you, how]</td>\n",
              "      <td>[clam, hard, stay]</td>\n",
              "      <td>[hard, stay, clam, hard_stay, stay_clam, hard_...</td>\n",
              "    </tr>\n",
              "  </tbody>\n",
              "</table>\n",
              "</div>"
            ],
            "text/plain": [
              "                                           utterance  ...                                    ngram_word_list\n",
              "0  Job interviews always make me sweat bullets_co...  ...  [job, interview, always, make, sweat, bullet, ...\n",
              "1                Don't be nervous. Just be prepared.  ...  [not, nervous, prepared, not_nervous, nervous_...\n",
              "2  I feel like getting prepared and then having a...  ...  [feel, like, getting, prepared, curve, ball, t...\n",
              "3            Yes but if you stay calm it will be ok.  ...  [yes, stay, calm, ok, yes_stay, stay_calm, cal...\n",
              "4         It's hard to stay clam. How do you do it?   ...  [hard, stay, clam, hard_stay, stay_clam, hard_...\n",
              "\n",
              "[5 rows x 5 columns]"
            ]
          },
          "metadata": {
            "tags": []
          },
          "execution_count": 38
        }
      ]
    },
    {
      "cell_type": "code",
      "metadata": {
        "id": "icYDuAtTFvnl",
        "colab_type": "code",
        "outputId": "0c6e7f6e-6e1f-43d6-fa25-c687b6f56c0d",
        "colab": {
          "base_uri": "https://localhost:8080/",
          "height": 255
        }
      },
      "source": [
        "#pca = PCA(.95)\n",
        "\n",
        "v_w2v = TfidfEmbeddingVectorizer(model)\n",
        "#v_w2v = MeanEmbeddingVectorizer(model)\n",
        "v_w2v.fit(Counter(row['ngram_word_list']) for _, row in train.iterrows())\n",
        "X_w2v = v_w2v.transform(Counter(row['ngram_word_list']) for _, row in train.iterrows())\n",
        "scaler = StandardScaler()\n",
        "scaler.fit(X_w2v)\n",
        "X_w2v = scaler.transform(X_w2v)\n",
        "#pca.fit(X_w2v)\n",
        "#X_w2v = pca.transform(X_w2v)\n",
        "#scaler_2 = StandardScaler()\n",
        "#scaler_2.fit(X_w2v)\n",
        "#X_w2v = scaler_2.transform(X_w2v)\n",
        "test_X_w2v = v_w2v.transform(Counter(row['ngram_word_list']) for _, row in test.iterrows())\n",
        "test_X_w2v = scaler.transform(test_X_w2v)\n",
        "#test_X_w2v = pca.transform(test_X_w2v)\n",
        "#test_X_w2v = scaler_2.transform(test_X_w2v)\n",
        "print (X_w2v.shape)\n",
        "print (X_w2v)\n",
        "#print (X_w2v.mean(axis=0))"
      ],
      "execution_count": 39,
      "outputs": [
        {
          "output_type": "stream",
          "text": [
            "(12250, 300)\n",
            "[[ 0.02564317  0.97136281 -0.22898353 ...  0.20271974 -1.63857973\n",
            "   0.55596588]\n",
            " [-0.57877482  0.204968    0.02967761 ...  1.45012536  0.72985862\n",
            "  -1.27589666]\n",
            " [ 0.61380251 -0.22577783 -0.49049709 ...  1.21560839 -1.34098993\n",
            "  -0.70890491]\n",
            " ...\n",
            " [ 0.02317245 -0.43304879  1.24072393 ... -0.50962696 -0.23966933\n",
            "   0.51344273]\n",
            " [-0.02067862  0.25225956  0.05360792 ...  0.55242543  0.40051408\n",
            "  -0.2037254 ]\n",
            " [-0.63566778 -0.4569332   0.89808284 ... -0.82647571 -0.42966578\n",
            "  -0.44090499]]\n"
          ],
          "name": "stdout"
        }
      ]
    },
    {
      "cell_type": "code",
      "metadata": {
        "id": "515O8z72IA1N",
        "colab_type": "code",
        "outputId": "7255cda2-f99b-4320-aa57-651e25613312",
        "colab": {
          "base_uri": "https://localhost:8080/",
          "height": 51
        }
      },
      "source": [
        "tfidf_2 = TfidfVectorizer(analyzer=lambda x: x,min_df=3)\n",
        "tfidf_2.fit(Counter(row['ngram_word_list']) for _, row in train.iterrows())\n",
        "X_bow = tfidf_2.transform(Counter(row['ngram_word_list']) for _, row in train.iterrows())\n",
        "print (X_w2v.shape)\n",
        "print (X_bow.shape)"
      ],
      "execution_count": 40,
      "outputs": [
        {
          "output_type": "stream",
          "text": [
            "(12250, 300)\n",
            "(12250, 6766)\n"
          ],
          "name": "stdout"
        }
      ]
    },
    {
      "cell_type": "code",
      "metadata": {
        "id": "2MXx3Rxt6Vyu",
        "colab_type": "code",
        "outputId": "16048adb-9bab-4b3f-9d7f-5850e8e54178",
        "colab": {
          "base_uri": "https://localhost:8080/",
          "height": 34
        }
      },
      "source": [
        "max(tfidf_2.idf_)"
      ],
      "execution_count": 41,
      "outputs": [
        {
          "output_type": "execute_result",
          "data": {
            "text/plain": [
              "9.02706848417428"
            ]
          },
          "metadata": {
            "tags": []
          },
          "execution_count": 41
        }
      ]
    },
    {
      "cell_type": "code",
      "metadata": {
        "id": "iBBeXuBa5cmk",
        "colab_type": "code",
        "outputId": "bfc151ce-f840-4e59-c4cc-7602f9b3dce5",
        "colab": {
          "base_uri": "https://localhost:8080/",
          "height": 325
        }
      },
      "source": [
        "tfidf_2.vocabulary_rev_ = dict((value,key) for key,value in tfidf_2.vocabulary_.items())\n",
        "show_top_words(np.sum(X_bow, axis=0).tolist()[0], tfidf_2.vocabulary_rev_)"
      ],
      "execution_count": 42,
      "outputs": [
        {
          "output_type": "display_data",
          "data": {
            "image/png": "[encoded data removed]",
            "text/plain": [
              "<Figure size 432x288 with 1 Axes>"
            ]
          },
          "metadata": {
            "tags": []
          }
        }
      ]
    },
    {
      "cell_type": "code",
      "metadata": {
        "id": "QpkitjKoM90i",
        "colab_type": "code",
        "colab": {}
      },
      "source": [
        "X_combined = np.append(X_w2v, X_bow.A, axis=1)\n",
        "test_X_bow = tfidf_2.transform(Counter(row['ngram_word_list']) for _, row in test.iterrows())\n",
        "test_X_combined = np.append(test_X_w2v, test_X_bow.A, axis=1)"
      ],
      "execution_count": 0,
      "outputs": []
    },
    {
      "cell_type": "code",
      "metadata": {
        "id": "9dQERdj70Goc",
        "colab_type": "code",
        "colab": {}
      },
      "source": [
        "#X_combined = np.append(X_w2v, X_norm.A, axis=1)\n",
        "#test_X_combined = np.append(test_X_w2v, test_X_norm.A, axis=1)"
      ],
      "execution_count": 0,
      "outputs": []
    },
    {
      "cell_type": "code",
      "metadata": {
        "id": "zZWUVcS3x4ug",
        "colab_type": "code",
        "outputId": "c9c3ff05-e0e6-437f-d681-ad8c3e1b9b69",
        "colab": {
          "base_uri": "https://localhost:8080/",
          "height": 255
        }
      },
      "source": [
        "print (X_combined.shape)\n",
        "print (X_combined)"
      ],
      "execution_count": 45,
      "outputs": [
        {
          "output_type": "stream",
          "text": [
            "(12250, 7066)\n",
            "[[ 0.02564317  0.97136281 -0.22898353 ...  0.          0.\n",
            "   0.        ]\n",
            " [-0.57877482  0.204968    0.02967761 ...  0.          0.\n",
            "   0.        ]\n",
            " [ 0.61380251 -0.22577783 -0.49049709 ...  0.          0.\n",
            "   0.        ]\n",
            " ...\n",
            " [ 0.02317245 -0.43304879  1.24072393 ...  0.          0.\n",
            "   0.        ]\n",
            " [-0.02067862  0.25225956  0.05360792 ...  0.          0.\n",
            "   0.        ]\n",
            " [-0.63566778 -0.4569332   0.89808284 ...  0.          0.\n",
            "   0.        ]]\n"
          ],
          "name": "stdout"
        }
      ]
    },
    {
      "cell_type": "code",
      "metadata": {
        "id": "vO-2_IZwFvnn",
        "colab_type": "code",
        "outputId": "a5f2176a-33e1-44ae-8f1a-9f99c6bce977",
        "colab": {
          "base_uri": "https://localhost:8080/",
          "height": 463
        }
      },
      "source": [
        "#from sklearn.neural_network import MLPClassifier\n",
        "#from sklearn.model_selection import GridSearchCV\n",
        "#mlp = MLPClassifier(random_state = 2019)\n",
        "\n",
        "#mlp_param_grid = {\n",
        "#    'hidden_layer_sizes':[(10,10),(16,),(20,20)],\n",
        "#    'activation':['tanh','relu'],\n",
        "#    'solver':['adam'],\n",
        "#    'alpha':[0.01,0.5,0.002,0.7],\n",
        "#    'learning_rate':['constant'],\n",
        "#    'max_iter':[200],\n",
        "#    'early_stopping':[False,True]\n",
        "#}\n",
        "\n",
        "gsMLP = GridSearchCV(mlp, param_grid = mlp_param_grid, cv = 5, scoring = 'f1_weighted', n_jobs= 4, verbose = 1)\n",
        "gsMLP.fit(X_combined,train['context'])\n",
        "print(gsMLP.best_params_)\n",
        "mlp_best0 = gsMLP.best_estimator_"
      ],
      "execution_count": 46,
      "outputs": [
        {
          "output_type": "stream",
          "text": [
            "Fitting 5 folds for each of 48 candidates, totalling 240 fits\n"
          ],
          "name": "stdout"
        },
        {
          "output_type": "stream",
          "text": [
            "[Parallel(n_jobs=4)]: Using backend LokyBackend with 4 concurrent workers.\n",
            "/usr/local/lib/python3.6/dist-packages/joblib/externals/loky/process_executor.py:706: UserWarning: A worker stopped while some jobs were given to the executor. This can be caused by a too short worker timeout or by a memory leak.\n",
            "  \"timeout or by a memory leak.\", UserWarning\n"
          ],
          "name": "stderr"
        },
        {
          "output_type": "error",
          "ename": "KeyboardInterrupt",
          "evalue": "ignored",
          "traceback": [
            "\u001b[0;31m---------------------------------------------------------------------------\u001b[0m",
            "\u001b[0;31mKeyboardInterrupt\u001b[0m                         Traceback (most recent call last)",
            "\u001b[0;32m<ipython-input-46-54fff567be48>\u001b[0m in \u001b[0;36m<module>\u001b[0;34m()\u001b[0m\n\u001b[1;32m     14\u001b[0m \u001b[0;34m\u001b[0m\u001b[0m\n\u001b[1;32m     15\u001b[0m \u001b[0mgsMLP\u001b[0m \u001b[0;34m=\u001b[0m \u001b[0mGridSearchCV\u001b[0m\u001b[0;34m(\u001b[0m\u001b[0mmlp\u001b[0m\u001b[0;34m,\u001b[0m \u001b[0mparam_grid\u001b[0m \u001b[0;34m=\u001b[0m \u001b[0mmlp_param_grid\u001b[0m\u001b[0;34m,\u001b[0m \u001b[0mcv\u001b[0m \u001b[0;34m=\u001b[0m \u001b[0;36m5\u001b[0m\u001b[0;34m,\u001b[0m \u001b[0mscoring\u001b[0m \u001b[0;34m=\u001b[0m \u001b[0;34m'f1_weighted'\u001b[0m\u001b[0;34m,\u001b[0m \u001b[0mn_jobs\u001b[0m\u001b[0;34m=\u001b[0m \u001b[0;36m4\u001b[0m\u001b[0;34m,\u001b[0m \u001b[0mverbose\u001b[0m \u001b[0;34m=\u001b[0m \u001b[0;36m1\u001b[0m\u001b[0;34m)\u001b[0m\u001b[0;34m\u001b[0m\u001b[0;34m\u001b[0m\u001b[0m\n\u001b[0;32m---> 16\u001b[0;31m \u001b[0mgsMLP\u001b[0m\u001b[0;34m.\u001b[0m\u001b[0mfit\u001b[0m\u001b[0;34m(\u001b[0m\u001b[0mX_combined\u001b[0m\u001b[0;34m,\u001b[0m\u001b[0mtrain\u001b[0m\u001b[0;34m[\u001b[0m\u001b[0;34m'context'\u001b[0m\u001b[0;34m]\u001b[0m\u001b[0;34m)\u001b[0m\u001b[0;34m\u001b[0m\u001b[0;34m\u001b[0m\u001b[0m\n\u001b[0m\u001b[1;32m     17\u001b[0m \u001b[0mprint\u001b[0m\u001b[0;34m(\u001b[0m\u001b[0mgsMLP\u001b[0m\u001b[0;34m.\u001b[0m\u001b[0mbest_params_\u001b[0m\u001b[0;34m)\u001b[0m\u001b[0;34m\u001b[0m\u001b[0;34m\u001b[0m\u001b[0m\n\u001b[1;32m     18\u001b[0m \u001b[0mmlp_best0\u001b[0m \u001b[0;34m=\u001b[0m \u001b[0mgsMLP\u001b[0m\u001b[0;34m.\u001b[0m\u001b[0mbest_estimator_\u001b[0m\u001b[0;34m\u001b[0m\u001b[0;34m\u001b[0m\u001b[0m\n",
            "\u001b[0;32m/usr/local/lib/python3.6/dist-packages/sklearn/model_selection/_search.py\u001b[0m in \u001b[0;36mfit\u001b[0;34m(self, X, y, groups, **fit_params)\u001b[0m\n\u001b[1;32m    686\u001b[0m                 \u001b[0;32mreturn\u001b[0m \u001b[0mresults\u001b[0m\u001b[0;34m\u001b[0m\u001b[0;34m\u001b[0m\u001b[0m\n\u001b[1;32m    687\u001b[0m \u001b[0;34m\u001b[0m\u001b[0m\n\u001b[0;32m--> 688\u001b[0;31m             \u001b[0mself\u001b[0m\u001b[0;34m.\u001b[0m\u001b[0m_run_search\u001b[0m\u001b[0;34m(\u001b[0m\u001b[0mevaluate_candidates\u001b[0m\u001b[0;34m)\u001b[0m\u001b[0;34m\u001b[0m\u001b[0;34m\u001b[0m\u001b[0m\n\u001b[0m\u001b[1;32m    689\u001b[0m \u001b[0;34m\u001b[0m\u001b[0m\n\u001b[1;32m    690\u001b[0m         \u001b[0;31m# For multi-metric evaluation, store the best_index_, best_params_ and\u001b[0m\u001b[0;34m\u001b[0m\u001b[0;34m\u001b[0m\u001b[0;34m\u001b[0m\u001b[0m\n",
            "\u001b[0;32m/usr/local/lib/python3.6/dist-packages/sklearn/model_selection/_search.py\u001b[0m in \u001b[0;36m_run_search\u001b[0;34m(self, evaluate_candidates)\u001b[0m\n\u001b[1;32m   1147\u001b[0m     \u001b[0;32mdef\u001b[0m \u001b[0m_run_search\u001b[0m\u001b[0;34m(\u001b[0m\u001b[0mself\u001b[0m\u001b[0;34m,\u001b[0m \u001b[0mevaluate_candidates\u001b[0m\u001b[0;34m)\u001b[0m\u001b[0;34m:\u001b[0m\u001b[0;34m\u001b[0m\u001b[0;34m\u001b[0m\u001b[0m\n\u001b[1;32m   1148\u001b[0m         \u001b[0;34m\"\"\"Search all candidates in param_grid\"\"\"\u001b[0m\u001b[0;34m\u001b[0m\u001b[0;34m\u001b[0m\u001b[0m\n\u001b[0;32m-> 1149\u001b[0;31m         \u001b[0mevaluate_candidates\u001b[0m\u001b[0;34m(\u001b[0m\u001b[0mParameterGrid\u001b[0m\u001b[0;34m(\u001b[0m\u001b[0mself\u001b[0m\u001b[0;34m.\u001b[0m\u001b[0mparam_grid\u001b[0m\u001b[0;34m)\u001b[0m\u001b[0;34m)\u001b[0m\u001b[0;34m\u001b[0m\u001b[0;34m\u001b[0m\u001b[0m\n\u001b[0m\u001b[1;32m   1150\u001b[0m \u001b[0;34m\u001b[0m\u001b[0m\n\u001b[1;32m   1151\u001b[0m \u001b[0;34m\u001b[0m\u001b[0m\n",
            "\u001b[0;32m/usr/local/lib/python3.6/dist-packages/sklearn/model_selection/_search.py\u001b[0m in \u001b[0;36mevaluate_candidates\u001b[0;34m(candidate_params)\u001b[0m\n\u001b[1;32m    665\u001b[0m                                \u001b[0;32mfor\u001b[0m \u001b[0mparameters\u001b[0m\u001b[0;34m,\u001b[0m \u001b[0;34m(\u001b[0m\u001b[0mtrain\u001b[0m\u001b[0;34m,\u001b[0m \u001b[0mtest\u001b[0m\u001b[0;34m)\u001b[0m\u001b[0;34m\u001b[0m\u001b[0;34m\u001b[0m\u001b[0m\n\u001b[1;32m    666\u001b[0m                                in product(candidate_params,\n\u001b[0;32m--> 667\u001b[0;31m                                           cv.split(X, y, groups)))\n\u001b[0m\u001b[1;32m    668\u001b[0m \u001b[0;34m\u001b[0m\u001b[0m\n\u001b[1;32m    669\u001b[0m                 \u001b[0;32mif\u001b[0m \u001b[0mlen\u001b[0m\u001b[0;34m(\u001b[0m\u001b[0mout\u001b[0m\u001b[0;34m)\u001b[0m \u001b[0;34m<\u001b[0m \u001b[0;36m1\u001b[0m\u001b[0;34m:\u001b[0m\u001b[0;34m\u001b[0m\u001b[0;34m\u001b[0m\u001b[0m\n",
            "\u001b[0;32m/usr/local/lib/python3.6/dist-packages/joblib/parallel.py\u001b[0m in \u001b[0;36m__call__\u001b[0;34m(self, iterable)\u001b[0m\n\u001b[1;32m   1014\u001b[0m \u001b[0;34m\u001b[0m\u001b[0m\n\u001b[1;32m   1015\u001b[0m             \u001b[0;32mwith\u001b[0m \u001b[0mself\u001b[0m\u001b[0;34m.\u001b[0m\u001b[0m_backend\u001b[0m\u001b[0;34m.\u001b[0m\u001b[0mretrieval_context\u001b[0m\u001b[0;34m(\u001b[0m\u001b[0;34m)\u001b[0m\u001b[0;34m:\u001b[0m\u001b[0;34m\u001b[0m\u001b[0;34m\u001b[0m\u001b[0m\n\u001b[0;32m-> 1016\u001b[0;31m                 \u001b[0mself\u001b[0m\u001b[0;34m.\u001b[0m\u001b[0mretrieve\u001b[0m\u001b[0;34m(\u001b[0m\u001b[0;34m)\u001b[0m\u001b[0;34m\u001b[0m\u001b[0;34m\u001b[0m\u001b[0m\n\u001b[0m\u001b[1;32m   1017\u001b[0m             \u001b[0;31m# Make sure that we get a last message telling us we are done\u001b[0m\u001b[0;34m\u001b[0m\u001b[0;34m\u001b[0m\u001b[0;34m\u001b[0m\u001b[0m\n\u001b[1;32m   1018\u001b[0m             \u001b[0melapsed_time\u001b[0m \u001b[0;34m=\u001b[0m \u001b[0mtime\u001b[0m\u001b[0;34m.\u001b[0m\u001b[0mtime\u001b[0m\u001b[0;34m(\u001b[0m\u001b[0;34m)\u001b[0m \u001b[0;34m-\u001b[0m \u001b[0mself\u001b[0m\u001b[0;34m.\u001b[0m\u001b[0m_start_time\u001b[0m\u001b[0;34m\u001b[0m\u001b[0;34m\u001b[0m\u001b[0m\n",
            "\u001b[0;32m/usr/local/lib/python3.6/dist-packages/joblib/parallel.py\u001b[0m in \u001b[0;36mretrieve\u001b[0;34m(self)\u001b[0m\n\u001b[1;32m    906\u001b[0m             \u001b[0;32mtry\u001b[0m\u001b[0;34m:\u001b[0m\u001b[0;34m\u001b[0m\u001b[0;34m\u001b[0m\u001b[0m\n\u001b[1;32m    907\u001b[0m                 \u001b[0;32mif\u001b[0m \u001b[0mgetattr\u001b[0m\u001b[0;34m(\u001b[0m\u001b[0mself\u001b[0m\u001b[0;34m.\u001b[0m\u001b[0m_backend\u001b[0m\u001b[0;34m,\u001b[0m \u001b[0;34m'supports_timeout'\u001b[0m\u001b[0;34m,\u001b[0m \u001b[0;32mFalse\u001b[0m\u001b[0;34m)\u001b[0m\u001b[0;34m:\u001b[0m\u001b[0;34m\u001b[0m\u001b[0;34m\u001b[0m\u001b[0m\n\u001b[0;32m--> 908\u001b[0;31m                     \u001b[0mself\u001b[0m\u001b[0;34m.\u001b[0m\u001b[0m_output\u001b[0m\u001b[0;34m.\u001b[0m\u001b[0mextend\u001b[0m\u001b[0;34m(\u001b[0m\u001b[0mjob\u001b[0m\u001b[0;34m.\u001b[0m\u001b[0mget\u001b[0m\u001b[0;34m(\u001b[0m\u001b[0mtimeout\u001b[0m\u001b[0;34m=\u001b[0m\u001b[0mself\u001b[0m\u001b[0;34m.\u001b[0m\u001b[0mtimeout\u001b[0m\u001b[0;34m)\u001b[0m\u001b[0;34m)\u001b[0m\u001b[0;34m\u001b[0m\u001b[0;34m\u001b[0m\u001b[0m\n\u001b[0m\u001b[1;32m    909\u001b[0m                 \u001b[0;32melse\u001b[0m\u001b[0;34m:\u001b[0m\u001b[0;34m\u001b[0m\u001b[0;34m\u001b[0m\u001b[0m\n\u001b[1;32m    910\u001b[0m                     \u001b[0mself\u001b[0m\u001b[0;34m.\u001b[0m\u001b[0m_output\u001b[0m\u001b[0;34m.\u001b[0m\u001b[0mextend\u001b[0m\u001b[0;34m(\u001b[0m\u001b[0mjob\u001b[0m\u001b[0;34m.\u001b[0m\u001b[0mget\u001b[0m\u001b[0;34m(\u001b[0m\u001b[0;34m)\u001b[0m\u001b[0;34m)\u001b[0m\u001b[0;34m\u001b[0m\u001b[0;34m\u001b[0m\u001b[0m\n",
            "\u001b[0;32m/usr/local/lib/python3.6/dist-packages/joblib/_parallel_backends.py\u001b[0m in \u001b[0;36mwrap_future_result\u001b[0;34m(future, timeout)\u001b[0m\n\u001b[1;32m    552\u001b[0m         AsyncResults.get from multiprocessing.\"\"\"\n\u001b[1;32m    553\u001b[0m         \u001b[0;32mtry\u001b[0m\u001b[0;34m:\u001b[0m\u001b[0;34m\u001b[0m\u001b[0;34m\u001b[0m\u001b[0m\n\u001b[0;32m--> 554\u001b[0;31m             \u001b[0;32mreturn\u001b[0m \u001b[0mfuture\u001b[0m\u001b[0;34m.\u001b[0m\u001b[0mresult\u001b[0m\u001b[0;34m(\u001b[0m\u001b[0mtimeout\u001b[0m\u001b[0;34m=\u001b[0m\u001b[0mtimeout\u001b[0m\u001b[0;34m)\u001b[0m\u001b[0;34m\u001b[0m\u001b[0;34m\u001b[0m\u001b[0m\n\u001b[0m\u001b[1;32m    555\u001b[0m         \u001b[0;32mexcept\u001b[0m \u001b[0mLokyTimeoutError\u001b[0m\u001b[0;34m:\u001b[0m\u001b[0;34m\u001b[0m\u001b[0;34m\u001b[0m\u001b[0m\n\u001b[1;32m    556\u001b[0m             \u001b[0;32mraise\u001b[0m \u001b[0mTimeoutError\u001b[0m\u001b[0;34m(\u001b[0m\u001b[0;34m)\u001b[0m\u001b[0;34m\u001b[0m\u001b[0;34m\u001b[0m\u001b[0m\n",
            "\u001b[0;32m/usr/lib/python3.6/concurrent/futures/_base.py\u001b[0m in \u001b[0;36mresult\u001b[0;34m(self, timeout)\u001b[0m\n\u001b[1;32m    425\u001b[0m                 \u001b[0;32mreturn\u001b[0m \u001b[0mself\u001b[0m\u001b[0;34m.\u001b[0m\u001b[0m__get_result\u001b[0m\u001b[0;34m(\u001b[0m\u001b[0;34m)\u001b[0m\u001b[0;34m\u001b[0m\u001b[0;34m\u001b[0m\u001b[0m\n\u001b[1;32m    426\u001b[0m \u001b[0;34m\u001b[0m\u001b[0m\n\u001b[0;32m--> 427\u001b[0;31m             \u001b[0mself\u001b[0m\u001b[0;34m.\u001b[0m\u001b[0m_condition\u001b[0m\u001b[0;34m.\u001b[0m\u001b[0mwait\u001b[0m\u001b[0;34m(\u001b[0m\u001b[0mtimeout\u001b[0m\u001b[0;34m)\u001b[0m\u001b[0;34m\u001b[0m\u001b[0;34m\u001b[0m\u001b[0m\n\u001b[0m\u001b[1;32m    428\u001b[0m \u001b[0;34m\u001b[0m\u001b[0m\n\u001b[1;32m    429\u001b[0m             \u001b[0;32mif\u001b[0m \u001b[0mself\u001b[0m\u001b[0;34m.\u001b[0m\u001b[0m_state\u001b[0m \u001b[0;32min\u001b[0m \u001b[0;34m[\u001b[0m\u001b[0mCANCELLED\u001b[0m\u001b[0;34m,\u001b[0m \u001b[0mCANCELLED_AND_NOTIFIED\u001b[0m\u001b[0;34m]\u001b[0m\u001b[0;34m:\u001b[0m\u001b[0;34m\u001b[0m\u001b[0;34m\u001b[0m\u001b[0m\n",
            "\u001b[0;32m/usr/lib/python3.6/threading.py\u001b[0m in \u001b[0;36mwait\u001b[0;34m(self, timeout)\u001b[0m\n\u001b[1;32m    293\u001b[0m         \u001b[0;32mtry\u001b[0m\u001b[0;34m:\u001b[0m    \u001b[0;31m# restore state no matter what (e.g., KeyboardInterrupt)\u001b[0m\u001b[0;34m\u001b[0m\u001b[0;34m\u001b[0m\u001b[0m\n\u001b[1;32m    294\u001b[0m             \u001b[0;32mif\u001b[0m \u001b[0mtimeout\u001b[0m \u001b[0;32mis\u001b[0m \u001b[0;32mNone\u001b[0m\u001b[0;34m:\u001b[0m\u001b[0;34m\u001b[0m\u001b[0;34m\u001b[0m\u001b[0m\n\u001b[0;32m--> 295\u001b[0;31m                 \u001b[0mwaiter\u001b[0m\u001b[0;34m.\u001b[0m\u001b[0macquire\u001b[0m\u001b[0;34m(\u001b[0m\u001b[0;34m)\u001b[0m\u001b[0;34m\u001b[0m\u001b[0;34m\u001b[0m\u001b[0m\n\u001b[0m\u001b[1;32m    296\u001b[0m                 \u001b[0mgotit\u001b[0m \u001b[0;34m=\u001b[0m \u001b[0;32mTrue\u001b[0m\u001b[0;34m\u001b[0m\u001b[0;34m\u001b[0m\u001b[0m\n\u001b[1;32m    297\u001b[0m             \u001b[0;32melse\u001b[0m\u001b[0;34m:\u001b[0m\u001b[0;34m\u001b[0m\u001b[0;34m\u001b[0m\u001b[0m\n",
            "\u001b[0;31mKeyboardInterrupt\u001b[0m: "
          ]
        }
      ]
    },
    {
      "cell_type": "code",
      "metadata": {
        "id": "LKQQm3C8ucEX",
        "colab_type": "code",
        "colab": {
          "base_uri": "https://localhost:8080/",
          "height": 1000
        },
        "outputId": "239322ee-a7e0-4634-e8f4-5355443f5c13"
      },
      "source": [
        "final_mlp = MLPClassifier(hidden_layer_sizes=(10,10), activation='tanh',alpha = 0.7, random_state = 2019,early_stopping=True, verbose = 1)\n",
        "final_mlp.fit(X_combined,train['context'])"
      ],
      "execution_count": 49,
      "outputs": [
        {
          "output_type": "stream",
          "text": [
            "Iteration 1, loss = 1.19375812\n",
            "Validation score: 0.594286\n",
            "Iteration 2, loss = 0.99952674\n",
            "Validation score: 0.610612\n",
            "Iteration 3, loss = 0.94856464\n",
            "Validation score: 0.618776\n",
            "Iteration 4, loss = 0.92231588\n",
            "Validation score: 0.616327\n",
            "Iteration 5, loss = 0.90696087\n",
            "Validation score: 0.625306\n",
            "Iteration 6, loss = 0.89707587\n",
            "Validation score: 0.623673\n",
            "Iteration 7, loss = 0.88697460\n",
            "Validation score: 0.627755\n",
            "Iteration 8, loss = 0.87976239\n",
            "Validation score: 0.627755\n",
            "Iteration 9, loss = 0.87457116\n",
            "Validation score: 0.629388\n",
            "Iteration 10, loss = 0.86988062\n",
            "Validation score: 0.619592\n",
            "Iteration 11, loss = 0.86297965\n",
            "Validation score: 0.622857\n",
            "Iteration 12, loss = 0.85843667\n",
            "Validation score: 0.635918\n",
            "Iteration 13, loss = 0.85437100\n",
            "Validation score: 0.630204\n",
            "Iteration 14, loss = 0.85132164\n",
            "Validation score: 0.631837\n",
            "Iteration 15, loss = 0.84708705\n",
            "Validation score: 0.629388\n",
            "Iteration 16, loss = 0.84318086\n",
            "Validation score: 0.622857\n",
            "Iteration 17, loss = 0.83896419\n",
            "Validation score: 0.628571\n",
            "Iteration 18, loss = 0.83692729\n",
            "Validation score: 0.626122\n",
            "Iteration 19, loss = 0.83380690\n",
            "Validation score: 0.635918\n",
            "Iteration 20, loss = 0.82888339\n",
            "Validation score: 0.632653\n",
            "Iteration 21, loss = 0.82646055\n",
            "Validation score: 0.637551\n",
            "Iteration 22, loss = 0.82407332\n",
            "Validation score: 0.631020\n",
            "Iteration 23, loss = 0.82208273\n",
            "Validation score: 0.620408\n",
            "Iteration 24, loss = 0.81801763\n",
            "Validation score: 0.628571\n",
            "Iteration 25, loss = 0.81547198\n",
            "Validation score: 0.635102\n",
            "Iteration 26, loss = 0.81256630\n",
            "Validation score: 0.626939\n",
            "Iteration 27, loss = 0.81010086\n",
            "Validation score: 0.628571\n",
            "Iteration 28, loss = 0.80759369\n",
            "Validation score: 0.622857\n",
            "Iteration 29, loss = 0.80737373\n",
            "Validation score: 0.631020\n",
            "Iteration 30, loss = 0.80356474\n",
            "Validation score: 0.634286\n",
            "Iteration 31, loss = 0.80068359\n",
            "Validation score: 0.640000\n",
            "Iteration 32, loss = 0.79890142\n",
            "Validation score: 0.631020\n",
            "Iteration 33, loss = 0.79700517\n",
            "Validation score: 0.626122\n",
            "Iteration 34, loss = 0.79408529\n",
            "Validation score: 0.626122\n",
            "Iteration 35, loss = 0.79319538\n",
            "Validation score: 0.635102\n",
            "Iteration 36, loss = 0.79102714\n",
            "Validation score: 0.635102\n",
            "Iteration 37, loss = 0.78892228\n",
            "Validation score: 0.635918\n",
            "Iteration 38, loss = 0.78568034\n",
            "Validation score: 0.628571\n",
            "Iteration 39, loss = 0.78489340\n",
            "Validation score: 0.628571\n",
            "Iteration 40, loss = 0.78183145\n",
            "Validation score: 0.624490\n",
            "Iteration 41, loss = 0.78179065\n",
            "Validation score: 0.627755\n",
            "Iteration 42, loss = 0.77863261\n",
            "Validation score: 0.629388\n",
            "Validation score did not improve more than tol=0.000100 for 10 consecutive epochs. Stopping.\n"
          ],
          "name": "stdout"
        },
        {
          "output_type": "execute_result",
          "data": {
            "text/plain": [
              "MLPClassifier(activation='tanh', alpha=0.7, batch_size='auto', beta_1=0.9,\n",
              "              beta_2=0.999, early_stopping=True, epsilon=1e-08,\n",
              "              hidden_layer_sizes=(10, 10), learning_rate='constant',\n",
              "              learning_rate_init=0.001, max_iter=200, momentum=0.9,\n",
              "              n_iter_no_change=10, nesterovs_momentum=True, power_t=0.5,\n",
              "              random_state=2019, shuffle=True, solver='adam', tol=0.0001,\n",
              "              validation_fraction=0.1, verbose=1, warm_start=False)"
            ]
          },
          "metadata": {
            "tags": []
          },
          "execution_count": 49
        }
      ]
    },
    {
      "cell_type": "code",
      "metadata": {
        "id": "GKmKCibpaDkI",
        "colab_type": "code",
        "outputId": "83927eb8-c2ec-44d0-c23c-fac91af990d2",
        "colab": {
          "base_uri": "https://localhost:8080/",
          "height": 255
        }
      },
      "source": [
        "output_model_result(final_mlp,X_combined, train['context'])"
      ],
      "execution_count": 50,
      "outputs": [
        {
          "output_type": "stream",
          "text": [
            "Accuracy Score: 72.3%\n",
            "F1 Score:\n",
            "[0.69869931 0.699481   0.72044459 0.77634622]\n",
            "Avg F1 Score: 72.4%\n",
            "Confusion Matrix: \n",
            "[[2283  412  350  282]\n",
            " [ 338 2089  332  171]\n",
            " [ 279  324 2139  182]\n",
            " [ 308  218  193 2350]]\n",
            "Normalized Confusion Matrix: \n",
            "[[0.68620379 0.12383529 0.10519988 0.08476105]\n",
            " [0.11535836 0.71296928 0.11331058 0.05836177]\n",
            " [0.09541724 0.11080711 0.73153215 0.0622435 ]\n",
            " [0.10035842 0.07103291 0.06288693 0.76572173]]\n"
          ],
          "name": "stdout"
        }
      ]
    },
    {
      "cell_type": "code",
      "metadata": {
        "id": "9aPkek6Vm4ha",
        "colab_type": "code",
        "outputId": "2b714ef2-634d-48eb-cc5c-4b4313c74a2f",
        "colab": {
          "base_uri": "https://localhost:8080/",
          "height": 255
        }
      },
      "source": [
        "output_model_result(final_mlp,test_X_combined, test['context'])"
      ],
      "execution_count": 51,
      "outputs": [
        {
          "output_type": "stream",
          "text": [
            "Accuracy Score: 63.0%\n",
            "F1 Score:\n",
            "[0.61394102 0.56565657 0.63428571 0.7136    ]\n",
            "Avg F1 Score: 63.2%\n",
            "Confusion Matrix: \n",
            "[[229  65  40  40]\n",
            " [ 63 196  59  36]\n",
            " [ 51  55 222  28]\n",
            " [ 29  23  23 223]]\n",
            "Normalized Confusion Matrix: \n",
            "[[0.61229947 0.17379679 0.10695187 0.10695187]\n",
            " [0.1779661  0.55367232 0.16666667 0.10169492]\n",
            " [0.14325843 0.15449438 0.62359551 0.07865169]\n",
            " [0.09731544 0.07718121 0.07718121 0.74832215]]\n"
          ],
          "name": "stdout"
        }
      ]
    }
  ]
}